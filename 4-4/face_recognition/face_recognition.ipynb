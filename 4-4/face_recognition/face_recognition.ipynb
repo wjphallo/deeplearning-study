{
 "nbformat": 4,
 "nbformat_minor": 2,
 "metadata": {
  "language_info": {
   "name": "python",
   "codemirror_mode": {
    "name": "ipython",
    "version": 3
   },
   "version": "3.7.4"
  },
  "orig_nbformat": 2,
  "file_extension": ".py",
  "mimetype": "text/x-python",
  "name": "python",
  "npconvert_exporter": "python",
  "pygments_lexer": "ipython3",
  "version": 3
 },
 "cells": [
  {
   "cell_type": "code",
   "execution_count": 1,
   "metadata": {},
   "outputs": [
    {
     "name": "stderr",
     "output_type": "stream",
     "text": "Using TensorFlow backend.\n"
    }
   ],
   "source": [
    "import numpy as np\n",
    "import pandas as pd\n",
    "import matplotlib.pyplot as plt\n",
    "import tensorflow as tf\n",
    "# tf.enable_eager_execution() #1.X版本下调用\n",
    "from keras import backend as K\n",
    "K.set_image_data_format('channels_first')\n",
    "import os\n",
    "os.chdir('./4-4/face_recognition/')\n",
    "import fr_utils\n",
    "from inception_blocks_v2 import *"
   ]
  },
  {
   "cell_type": "code",
   "execution_count": 2,
   "metadata": {},
   "outputs": [],
   "source": [
    "FRmodel = faceRecoModel((3,96,96))"
   ]
  },
  {
   "cell_type": "code",
   "execution_count": 3,
   "metadata": {},
   "outputs": [
    {
     "data": {
      "text/plain": "3743280"
     },
     "execution_count": 3,
     "metadata": {},
     "output_type": "execute_result"
    }
   ],
   "source": [
    "FRmodel.count_params()"
   ]
  },
  {
   "cell_type": "code",
   "execution_count": 4,
   "metadata": {},
   "outputs": [
    {
     "name": "stdout",
     "output_type": "stream",
     "text": "____________________\nactivation_14 (Activation)      (None, 64, 12, 12)   0           inception_3b_pool_bn[0][0]       \n__________________________________________________________________________________________________\nactivation_15 (Activation)      (None, 64, 12, 12)   0           inception_3b_1x1_bn[0][0]        \n__________________________________________________________________________________________________\nconcatenate_2 (Concatenate)     (None, 320, 12, 12)  0           activation_11[0][0]              \n                                                                 activation_13[0][0]              \n                                                                 activation_14[0][0]              \n                                                                 activation_15[0][0]              \n__________________________________________________________________________________________________\ninception_3c_3x3_conv1 (Conv2D) (None, 128, 12, 12)  41088       concatenate_2[0][0]              \n__________________________________________________________________________________________________\ninception_3c_5x5_conv1 (Conv2D) (None, 32, 12, 12)   10272       concatenate_2[0][0]              \n__________________________________________________________________________________________________\ninception_3c_3x3_bn1 (BatchNorm (None, 128, 12, 12)  512         inception_3c_3x3_conv1[0][0]     \n__________________________________________________________________________________________________\ninception_3c_5x5_bn1 (BatchNorm (None, 32, 12, 12)   128         inception_3c_5x5_conv1[0][0]     \n__________________________________________________________________________________________________\nactivation_16 (Activation)      (None, 128, 12, 12)  0           inception_3c_3x3_bn1[0][0]       \n__________________________________________________________________________________________________\nactivation_18 (Activation)      (None, 32, 12, 12)   0           inception_3c_5x5_bn1[0][0]       \n__________________________________________________________________________________________________\nzero_padding2d_9 (ZeroPadding2D (None, 128, 14, 14)  0           activation_16[0][0]              \n__________________________________________________________________________________________________\nzero_padding2d_10 (ZeroPadding2 (None, 32, 16, 16)   0           activation_18[0][0]              \n__________________________________________________________________________________________________\ninception_3c_3x3_conv2 (Conv2D) (None, 256, 6, 6)    295168      zero_padding2d_9[0][0]           \n__________________________________________________________________________________________________\ninception_3c_5x5_conv2 (Conv2D) (None, 64, 6, 6)     51264       zero_padding2d_10[0][0]          \n__________________________________________________________________________________________________\ninception_3c_3x3_bn2 (BatchNorm (None, 256, 6, 6)    1024        inception_3c_3x3_conv2[0][0]     \n__________________________________________________________________________________________________\ninception_3c_5x5_bn2 (BatchNorm (None, 64, 6, 6)     256         inception_3c_5x5_conv2[0][0]     \n__________________________________________________________________________________________________\nmax_pooling2d_4 (MaxPooling2D)  (None, 320, 5, 5)    0           concatenate_2[0][0]              \n__________________________________________________________________________________________________\nactivation_17 (Activation)      (None, 256, 6, 6)    0           inception_3c_3x3_bn2[0][0]       \n__________________________________________________________________________________________________\nactivation_19 (Activation)      (None, 64, 6, 6)     0           inception_3c_5x5_bn2[0][0]       \n__________________________________________________________________________________________________\nzero_padding2d_11 (ZeroPadding2 (None, 320, 6, 6)    0           max_pooling2d_4[0][0]            \n__________________________________________________________________________________________________\nconcatenate_3 (Concatenate)     (None, 640, 6, 6)    0           activation_17[0][0]              \n                                                                 activation_19[0][0]              \n                                                                 zero_padding2d_11[0][0]          \n__________________________________________________________________________________________________\ninception_4a_3x3_conv1 (Conv2D) (None, 96, 6, 6)     61536       concatenate_3[0][0]              \n__________________________________________________________________________________________________\ninception_4a_5x5_conv1 (Conv2D) (None, 32, 6, 6)     20512       concatenate_3[0][0]              \n__________________________________________________________________________________________________\ninception_4a_3x3_bn1 (BatchNorm (None, 96, 6, 6)     384         inception_4a_3x3_conv1[0][0]     \n__________________________________________________________________________________________________\ninception_4a_5x5_bn1 (BatchNorm (None, 32, 6, 6)     128         inception_4a_5x5_conv1[0][0]     \n__________________________________________________________________________________________________\nactivation_20 (Activation)      (None, 96, 6, 6)     0           inception_4a_3x3_bn1[0][0]       \n__________________________________________________________________________________________________\nactivation_22 (Activation)      (None, 32, 6, 6)     0           inception_4a_5x5_bn1[0][0]       \n__________________________________________________________________________________________________\nzero_padding2d_12 (ZeroPadding2 (None, 96, 8, 8)     0           activation_20[0][0]              \n__________________________________________________________________________________________________\nzero_padding2d_13 (ZeroPadding2 (None, 32, 10, 10)   0           activation_22[0][0]              \n__________________________________________________________________________________________________\naverage_pooling2d_2 (AveragePoo (None, 640, 6, 6)    0           concatenate_3[0][0]              \n__________________________________________________________________________________________________\ninception_4a_3x3_conv2 (Conv2D) (None, 192, 6, 6)    166080      zero_padding2d_12[0][0]          \n__________________________________________________________________________________________________\ninception_4a_5x5_conv2 (Conv2D) (None, 64, 6, 6)     51264       zero_padding2d_13[0][0]          \n__________________________________________________________________________________________________\ninception_4a_pool_conv (Conv2D) (None, 128, 6, 6)    82048       average_pooling2d_2[0][0]        \n__________________________________________________________________________________________________\ninception_4a_1x1_conv (Conv2D)  (None, 256, 6, 6)    164096      concatenate_3[0][0]              \n__________________________________________________________________________________________________\ninception_4a_3x3_bn2 (BatchNorm (None, 192, 6, 6)    768         inception_4a_3x3_conv2[0][0]     \n__________________________________________________________________________________________________\ninception_4a_5x5_bn2 (BatchNorm (None, 64, 6, 6)     256         inception_4a_5x5_conv2[0][0]     \n__________________________________________________________________________________________________\ninception_4a_pool_bn (BatchNorm (None, 128, 6, 6)    512         inception_4a_pool_conv[0][0]     \n__________________________________________________________________________________________________\ninception_4a_1x1_bn (BatchNorma (None, 256, 6, 6)    1024        inception_4a_1x1_conv[0][0]      \n__________________________________________________________________________________________________\nactivation_21 (Activation)      (None, 192, 6, 6)    0           inception_4a_3x3_bn2[0][0]       \n__________________________________________________________________________________________________\nactivation_23 (Activation)      (None, 64, 6, 6)     0           inception_4a_5x5_bn2[0][0]       \n__________________________________________________________________________________________________\nactivation_24 (Activation)      (None, 128, 6, 6)    0           inception_4a_pool_bn[0][0]       \n__________________________________________________________________________________________________\nactivation_25 (Activation)      (None, 256, 6, 6)    0           inception_4a_1x1_bn[0][0]        \n__________________________________________________________________________________________________\nconcatenate_4 (Concatenate)     (None, 640, 6, 6)    0           activation_21[0][0]              \n                                                                 activation_23[0][0]              \n                                                                 activation_24[0][0]              \n                                                                 activation_25[0][0]              \n__________________________________________________________________________________________________\ninception_4e_3x3_conv1 (Conv2D) (None, 160, 6, 6)    102560      concatenate_4[0][0]              \n__________________________________________________________________________________________________\ninception_4e_5x5_conv1 (Conv2D) (None, 64, 6, 6)     41024       concatenate_4[0][0]              \n__________________________________________________________________________________________________\ninception_4e_3x3_bn1 (BatchNorm (None, 160, 6, 6)    640         inception_4e_3x3_conv1[0][0]     \n__________________________________________________________________________________________________\ninception_4e_5x5_bn1 (BatchNorm (None, 64, 6, 6)     256         inception_4e_5x5_conv1[0][0]     \n__________________________________________________________________________________________________\nactivation_26 (Activation)      (None, 160, 6, 6)    0           inception_4e_3x3_bn1[0][0]       \n__________________________________________________________________________________________________\nactivation_28 (Activation)      (None, 64, 6, 6)     0           inception_4e_5x5_bn1[0][0]       \n__________________________________________________________________________________________________\nzero_padding2d_14 (ZeroPadding2 (None, 160, 8, 8)    0           activation_26[0][0]              \n__________________________________________________________________________________________________\nzero_padding2d_15 (ZeroPadding2 (None, 64, 10, 10)   0           activation_28[0][0]              \n__________________________________________________________________________________________________\ninception_4e_3x3_conv2 (Conv2D) (None, 256, 3, 3)    368896      zero_padding2d_14[0][0]          \n__________________________________________________________________________________________________\ninception_4e_5x5_conv2 (Conv2D) (None, 128, 3, 3)    204928      zero_padding2d_15[0][0]          \n__________________________________________________________________________________________________\ninception_4e_3x3_bn2 (BatchNorm (None, 256, 3, 3)    1024        inception_4e_3x3_conv2[0][0]     \n__________________________________________________________________________________________________\ninception_4e_5x5_bn2 (BatchNorm (None, 128, 3, 3)    512         inception_4e_5x5_conv2[0][0]     \n__________________________________________________________________________________________________\nmax_pooling2d_5 (MaxPooling2D)  (None, 640, 2, 2)    0           concatenate_4[0][0]              \n__________________________________________________________________________________________________\nactivation_27 (Activation)      (None, 256, 3, 3)    0           inception_4e_3x3_bn2[0][0]       \n__________________________________________________________________________________________________\nactivation_29 (Activation)      (None, 128, 3, 3)    0           inception_4e_5x5_bn2[0][0]       \n__________________________________________________________________________________________________\nzero_padding2d_16 (ZeroPadding2 (None, 640, 3, 3)    0           max_pooling2d_5[0][0]            \n__________________________________________________________________________________________________\nconcatenate_5 (Concatenate)     (None, 1024, 3, 3)   0           activation_27[0][0]              \n                                                                 activation_29[0][0]              \n                                                                 zero_padding2d_16[0][0]          \n__________________________________________________________________________________________________\ninception_5a_3x3_conv1 (Conv2D) (None, 96, 3, 3)     98400       concatenate_5[0][0]              \n__________________________________________________________________________________________________\ninception_5a_3x3_bn1 (BatchNorm (None, 96, 3, 3)     384         inception_5a_3x3_conv1[0][0]     \n__________________________________________________________________________________________________\nactivation_30 (Activation)      (None, 96, 3, 3)     0           inception_5a_3x3_bn1[0][0]       \n__________________________________________________________________________________________________\nzero_padding2d_17 (ZeroPadding2 (None, 96, 5, 5)     0           activation_30[0][0]              \n__________________________________________________________________________________________________\naverage_pooling2d_3 (AveragePoo (None, 1024, 3, 3)   0           concatenate_5[0][0]              \n__________________________________________________________________________________________________\ninception_5a_3x3_conv2 (Conv2D) (None, 384, 3, 3)    332160      zero_padding2d_17[0][0]          \n__________________________________________________________________________________________________\ninception_5a_pool_conv (Conv2D) (None, 96, 3, 3)     98400       average_pooling2d_3[0][0]        \n__________________________________________________________________________________________________\ninception_5a_1x1_conv (Conv2D)  (None, 256, 3, 3)    262400      concatenate_5[0][0]              \n__________________________________________________________________________________________________\ninception_5a_3x3_bn2 (BatchNorm (None, 384, 3, 3)    1536        inception_5a_3x3_conv2[0][0]     \n__________________________________________________________________________________________________\ninception_5a_pool_bn (BatchNorm (None, 96, 3, 3)     384         inception_5a_pool_conv[0][0]     \n__________________________________________________________________________________________________\ninception_5a_1x1_bn (BatchNorma (None, 256, 3, 3)    1024        inception_5a_1x1_conv[0][0]      \n__________________________________________________________________________________________________\nactivation_31 (Activation)      (None, 384, 3, 3)    0           inception_5a_3x3_bn2[0][0]       \n__________________________________________________________________________________________________\nactivation_32 (Activation)      (None, 96, 3, 3)     0           inception_5a_pool_bn[0][0]       \n__________________________________________________________________________________________________\nactivation_33 (Activation)      (None, 256, 3, 3)    0           inception_5a_1x1_bn[0][0]        \n__________________________________________________________________________________________________\nconcatenate_6 (Concatenate)     (None, 736, 3, 3)    0           activation_31[0][0]              \n                                                                 activation_32[0][0]              \n                                                                 activation_33[0][0]              \n__________________________________________________________________________________________________\ninception_5b_3x3_conv1 (Conv2D) (None, 96, 3, 3)     70752       concatenate_6[0][0]              \n__________________________________________________________________________________________________\ninception_5b_3x3_bn1 (BatchNorm (None, 96, 3, 3)     384         inception_5b_3x3_conv1[0][0]     \n__________________________________________________________________________________________________\nactivation_34 (Activation)      (None, 96, 3, 3)     0           inception_5b_3x3_bn1[0][0]       \n__________________________________________________________________________________________________\nzero_padding2d_18 (ZeroPadding2 (None, 96, 5, 5)     0           activation_34[0][0]              \n__________________________________________________________________________________________________\nmax_pooling2d_6 (MaxPooling2D)  (None, 736, 3, 3)    0           concatenate_6[0][0]              \n__________________________________________________________________________________________________\ninception_5b_3x3_conv2 (Conv2D) (None, 384, 3, 3)    332160      zero_padding2d_18[0][0]          \n__________________________________________________________________________________________________\ninception_5b_pool_conv (Conv2D) (None, 96, 3, 3)     70752       max_pooling2d_6[0][0]            \n__________________________________________________________________________________________________\ninception_5b_1x1_conv (Conv2D)  (None, 256, 3, 3)    188672      concatenate_6[0][0]              \n__________________________________________________________________________________________________\ninception_5b_3x3_bn2 (BatchNorm (None, 384, 3, 3)    1536        inception_5b_3x3_conv2[0][0]     \n__________________________________________________________________________________________________\ninception_5b_pool_bn (BatchNorm (None, 96, 3, 3)     384         inception_5b_pool_conv[0][0]     \n__________________________________________________________________________________________________\ninception_5b_1x1_bn (BatchNorma (None, 256, 3, 3)    1024        inception_5b_1x1_conv[0][0]      \n__________________________________________________________________________________________________\nactivation_35 (Activation)      (None, 384, 3, 3)    0           inception_5b_3x3_bn2[0][0]       \n__________________________________________________________________________________________________\nactivation_36 (Activation)      (None, 96, 3, 3)     0           inception_5b_pool_bn[0][0]       \n__________________________________________________________________________________________________\nactivation_37 (Activation)      (None, 256, 3, 3)    0           inception_5b_1x1_bn[0][0]        \n__________________________________________________________________________________________________\nconcatenate_7 (Concatenate)     (None, 736, 3, 3)    0           activation_35[0][0]              \n                                                                 activation_36[0][0]              \n                                                                 activation_37[0][0]              \n__________________________________________________________________________________________________\naverage_pooling2d_4 (AveragePoo (None, 736, 1, 1)    0           concatenate_7[0][0]              \n__________________________________________________________________________________________________\nflatten_1 (Flatten)             (None, 736)          0           average_pooling2d_4[0][0]        \n__________________________________________________________________________________________________\ndense_layer (Dense)             (None, 128)          94336       flatten_1[0][0]                  \n__________________________________________________________________________________________________\nlambda_1 (Lambda)               (None, 128)          0           dense_layer[0][0]                \n==================================================================================================\nTotal params: 3,743,280\nTrainable params: 3,733,968\nNon-trainable params: 9,312\n__________________________________________________________________________________________________\n"
    }
   ],
   "source": [
    "FRmodel.summary()"
   ]
  },
  {
   "cell_type": "code",
   "execution_count": 5,
   "metadata": {},
   "outputs": [],
   "source": [
    "def triplet_loss(y_true, y_pred, alpha=0.2):\n",
    "\n",
    "    '''\n",
    "    input:\n",
    "    y_true - ...keras.losses.[loss_function](y_true, y_pred)\n",
    "    y_pred - [encode(anchor), encode(positive), encode(negetive)], ~(None,128)\n",
    "    alpha - margin\n",
    "    \n",
    "    output:\n",
    "    loss - float\n",
    "    '''\n",
    "\n",
    "    anchor, positive, negetive = y_pred[0], y_pred[1], y_pred[2]\n",
    "    pos_dist = tf.reduce_sum(tf.square(anchor - positive), axis=-1)\n",
    "    neg_dist = tf.reduce_sum(tf.square(anchor - negetive), axis=-1)\n",
    "    basic_loss = pos_dist - neg_dist + alpha\n",
    "    loss = tf.reduce_sum(tf.maximum(basic_loss, 0))\n",
    "\n",
    "    return loss"
   ]
  },
  {
   "cell_type": "code",
   "execution_count": 6,
   "metadata": {},
   "outputs": [],
   "source": [
    "FRmodel.compile(optimizer='adam', loss=triplet_loss, metrics=['accuracy'])\n",
    "fr_utils.load_weights_from_FaceNet(FRmodel)"
   ]
  },
  {
   "cell_type": "code",
   "execution_count": 7,
   "metadata": {},
   "outputs": [],
   "source": [
    "database = {}\n",
    "database[\"danielle\"] = fr_utils.img_to_encoding(\"images/danielle.png\", FRmodel)\n",
    "database[\"younes\"] = fr_utils.img_to_encoding(\"images/younes.jpg\", FRmodel)\n",
    "database[\"tian\"] = fr_utils.img_to_encoding(\"images/tian.jpg\", FRmodel)\n",
    "database[\"andrew\"] = fr_utils.img_to_encoding(\"images/andrew.jpg\", FRmodel)\n",
    "database[\"kian\"] = fr_utils.img_to_encoding(\"images/kian.jpg\", FRmodel)\n",
    "database[\"dan\"] = fr_utils.img_to_encoding(\"images/dan.jpg\", FRmodel)\n",
    "database[\"sebastiano\"] = fr_utils.img_to_encoding(\"images/sebastiano.jpg\", FRmodel)\n",
    "database[\"bertrand\"] = fr_utils.img_to_encoding(\"images/bertrand.jpg\", FRmodel)\n",
    "database[\"kevin\"] = fr_utils.img_to_encoding(\"images/kevin.jpg\", FRmodel)\n",
    "database[\"felix\"] = fr_utils.img_to_encoding(\"images/felix.jpg\", FRmodel)\n",
    "database[\"benoit\"] = fr_utils.img_to_encoding(\"images/benoit.jpg\", FRmodel)\n",
    "database[\"arnaud\"] = fr_utils.img_to_encoding(\"images/arnaud.jpg\", FRmodel)"
   ]
  },
  {
   "cell_type": "code",
   "execution_count": 43,
   "metadata": {},
   "outputs": [],
   "source": [
    "def verify(image_path, identity, database, model):\n",
    "    \n",
    "    encoding = fr_utils.img_to_encoding(image_path, model)\n",
    "    dist = np.linalg.norm(encoding - database[identity])\n",
    "    \n",
    "    if dist < 0.325:\n",
    "        print(f'欢迎{identity}回家!')\n",
    "        is_door_open = True\n",
    "    else:\n",
    "        print(f'经验证，您与{identity}不符!')\n",
    "        is_door_open = False\n",
    "    \n",
    "    return dist, is_door_open"
   ]
  },
  {
   "cell_type": "code",
   "execution_count": 44,
   "metadata": {},
   "outputs": [
    {
     "name": "stdout",
     "output_type": "stream",
     "text": "欢迎younes回家!\n"
    },
    {
     "data": {
      "text/plain": "(0.3242399, True)"
     },
     "execution_count": 44,
     "metadata": {},
     "output_type": "execute_result"
    }
   ],
   "source": [
    "verify(\"images/camera_0.jpg\",\"younes\",database,FRmodel)"
   ]
  },
  {
   "cell_type": "code",
   "execution_count": 45,
   "metadata": {},
   "outputs": [
    {
     "name": "stdout",
     "output_type": "stream",
     "text": "经验证，您与kian不符!\n"
    },
    {
     "data": {
      "text/plain": "(0.4915761, False)"
     },
     "execution_count": 45,
     "metadata": {},
     "output_type": "execute_result"
    }
   ],
   "source": [
    "verify(\"images/camera_2.jpg\", \"kian\", database, FRmodel)"
   ]
  },
  {
   "cell_type": "code",
   "execution_count": 46,
   "metadata": {},
   "outputs": [
    {
     "name": "stdout",
     "output_type": "stream",
     "text": "欢迎bertrand回家!\n"
    },
    {
     "data": {
      "text/plain": "(0.22910224, True)"
     },
     "execution_count": 46,
     "metadata": {},
     "output_type": "execute_result"
    }
   ],
   "source": [
    "verify(\"images/camera_1.jpg\", \"bertrand\", database, FRmodel)"
   ]
  },
  {
   "cell_type": "code",
   "execution_count": 47,
   "metadata": {},
   "outputs": [
    {
     "name": "stdout",
     "output_type": "stream",
     "text": "欢迎arnaud回家!\n"
    },
    {
     "data": {
      "text/plain": "(0.24459074, True)"
     },
     "execution_count": 47,
     "metadata": {},
     "output_type": "execute_result"
    }
   ],
   "source": [
    "verify(\"images/camera_1.jpg\", \"arnaud\", database, FRmodel)"
   ]
  },
  {
   "cell_type": "code",
   "execution_count": null,
   "metadata": {},
   "outputs": [],
   "source": []
  },
  {
   "cell_type": "code",
   "execution_count": null,
   "metadata": {},
   "outputs": [],
   "source": []
  },
  {
   "cell_type": "code",
   "execution_count": null,
   "metadata": {},
   "outputs": [],
   "source": []
  },
  {
   "cell_type": "code",
   "execution_count": null,
   "metadata": {},
   "outputs": [],
   "source": []
  },
  {
   "cell_type": "code",
   "execution_count": null,
   "metadata": {},
   "outputs": [],
   "source": []
  },
  {
   "cell_type": "code",
   "execution_count": null,
   "metadata": {},
   "outputs": [],
   "source": []
  }
 ]
}