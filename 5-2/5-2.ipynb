{
 "nbformat": 4,
 "nbformat_minor": 2,
 "metadata": {
  "language_info": {
   "name": "python",
   "codemirror_mode": {
    "name": "ipython",
    "version": 3
   },
   "version": "3.7.3"
  },
  "orig_nbformat": 2,
  "file_extension": ".py",
  "mimetype": "text/x-python",
  "name": "python",
  "npconvert_exporter": "python",
  "pygments_lexer": "ipython3",
  "version": 3
 },
 "cells": [
  {
   "cell_type": "code",
   "execution_count": 1,
   "metadata": {},
   "outputs": [
    {
     "name": "stderr",
     "output_type": "stream",
     "text": "Using TensorFlow backend.\n"
    }
   ],
   "source": [
    "import numpy as np\n",
    "import os\n",
    "os.chdir('./5-2/')\n",
    "import w2v_utils"
   ]
  },
  {
   "cell_type": "markdown",
   "execution_count": null,
   "metadata": {},
   "outputs": [],
   "source": [
    "## cos_similarity, analogy, neutralize, equalize with pre-trained word vector"
   ]
  },
  {
   "cell_type": "code",
   "execution_count": 2,
   "metadata": {},
   "outputs": [],
   "source": [
    "words, word_to_vec_map = w2v_utils.read_glove_vecs('./data/glove.6B.50d.txt')"
   ]
  },
  {
   "cell_type": "code",
   "execution_count": 3,
   "metadata": {},
   "outputs": [
    {
     "name": "stdout",
     "output_type": "stream",
     "text": "len(words) = 400000\nhello:\n [-0.38497   0.80092   0.064106 -0.28355  -0.026759 -0.34532  -0.64253\n -0.11729  -0.33257   0.55243  -0.087813  0.9035    0.47102   0.56657\n  0.6985   -0.35229  -0.86542   0.90573   0.03576  -0.071705 -0.12327\n  0.54923   0.47005   0.35572   1.2611   -0.67581  -0.94983   0.68666\n  0.3871   -1.3492    0.63512   0.46416  -0.48814   0.83827  -0.9246\n -0.33722   0.53741  -1.0616   -0.081403 -0.67111   0.30923  -0.3923\n -0.55002  -0.68827   0.58049  -0.11626   0.013139 -0.57654   0.048833\n  0.67204 ]\n"
    }
   ],
   "source": [
    "print('len(words) =', len(words))\n",
    "print('hello:\\n', word_to_vec_map['hello'])"
   ]
  },
  {
   "cell_type": "code",
   "execution_count": 4,
   "metadata": {},
   "outputs": [],
   "source": [
    "def cos_similarity(u, v):\n",
    "    \n",
    "    '''return similarity'''\n",
    "\n",
    "    similarity = np.dot(u, v) / (np.linalg.norm(u) * np.linalg.norm(v))\n",
    "\n",
    "    return similarity"
   ]
  },
  {
   "cell_type": "code",
   "execution_count": 5,
   "metadata": {},
   "outputs": [
    {
     "name": "stdout",
     "output_type": "stream",
     "text": "cos_similarity(father, mother) = 0.8909038442893618\ncos_similarity(ball, crocodile) = 0.2743924626137943\ncos_similarity(france-paris, italy-rome) = 0.6751479308174202\n"
    }
   ],
   "source": [
    "father = word_to_vec_map['father']\n",
    "mother = word_to_vec_map['mother']\n",
    "ball = word_to_vec_map['ball']\n",
    "crocodile = word_to_vec_map['crocodile']\n",
    "france = word_to_vec_map['france']\n",
    "italy = word_to_vec_map['italy']\n",
    "paris = word_to_vec_map['paris']\n",
    "rome = word_to_vec_map['rome']\n",
    "print(f'cos_similarity(father, mother) = {cos_similarity(father, mother)}')\n",
    "print(f'cos_similarity(ball, crocodile) = {cos_similarity(ball, crocodile)}')\n",
    "print(f'cos_similarity(france-paris, italy-rome) = {cos_similarity(france-paris, italy-rome)}')"
   ]
  },
  {
   "cell_type": "code",
   "execution_count": 6,
   "metadata": {},
   "outputs": [],
   "source": [
    "def analogy(a, b, c, word_to_vec_map=word_to_vec_map):\n",
    "    \n",
    "    '''a-->b analogy c-->d, return a best d'''\n",
    "\n",
    "    a = a.lower()\n",
    "    b = b.lower()\n",
    "    c = c.lower()\n",
    "    e_a = word_to_vec_map[a]\n",
    "    e_b = word_to_vec_map[b]\n",
    "    e_c = word_to_vec_map[c]\n",
    "    e_d = e_c - e_a + e_b\n",
    "    best_word = None\n",
    "    max_similarity = -1\n",
    "    for word in word_to_vec_map.keys():\n",
    "        if word in [a, b, c]:\n",
    "            continue\n",
    "        sim = cos_similarity(e_d, word_to_vec_map[word])\n",
    "        if sim > max_similarity:\n",
    "            max_similarity = sim\n",
    "            best_word = word\n",
    "            \n",
    "    return best_word"
   ]
  },
  {
   "cell_type": "code",
   "execution_count": 7,
   "metadata": {},
   "outputs": [
    {
     "name": "stdout",
     "output_type": "stream",
     "text": "Wall time: 4.42 s\nfrance->paris analogy italy->rome\nWall time: 3.72 s\njapan->tokyo analogy china->beijing\nWall time: 3.86 s\nman->woman analogy boy->girl\n"
    }
   ],
   "source": [
    "%time best_word1 = analogy('france', 'paris', 'italy')\n",
    "print(f'france->paris analogy italy->{best_word1}')\n",
    "%time best_word2 = analogy('japan', 'tokyo', 'china')\n",
    "print(f'japan->tokyo analogy china->{best_word2}')\n",
    "%time best_word3 = analogy('man', 'woman', 'boy')\n",
    "print(f'man->woman analogy boy->{best_word3}')"
   ]
  },
  {
   "cell_type": "code",
   "execution_count": 8,
   "metadata": {},
   "outputs": [
    {
     "name": "stdout",
     "output_type": "stream",
     "text": "gender axis:\n[-0.087144    0.2182     -0.40986    -0.03922    -0.1032      0.94165\n -0.06042     0.32988     0.46144    -0.35962     0.31102    -0.86824\n  0.96006     0.01073     0.24337     0.08193    -1.02722    -0.21122\n  0.695044   -0.00222     0.29106     0.5053     -0.099454    0.40445\n  0.30181     0.1355     -0.0606     -0.07131    -0.19245    -0.06115\n -0.3204      0.07165    -0.13337    -0.25068714 -0.14293    -0.224957\n -0.149       0.048882    0.12191    -0.27362    -0.165476   -0.20426\n  0.54376    -0.271425   -0.10245    -0.32108     0.2516     -0.33455\n -0.04371     0.01258   ]\n"
    }
   ],
   "source": [
    "# compute gender axis, direction: man-->woman\n",
    "# cos_similarity(male, g) < 0\n",
    "# cos_similarity(female, g) > 0\n",
    "g = word_to_vec_map['woman'] - word_to_vec_map['man']\n",
    "print(f'gender axis:\\n{g}')"
   ]
  },
  {
   "cell_type": "code",
   "execution_count": 9,
   "metadata": {},
   "outputs": [
    {
     "name": "stdout",
     "output_type": "stream",
     "text": "john          -0.2316335614597372\nmarie         0.315597935396073\nsophie        0.31868789859418784\nronaldo       -0.31244796850329437\npriya         0.17632041839009405\nrahul         -0.16915471039231722\ndanielle      0.24393299216283887\nreza          -0.07930429672199552\nkaty          0.2831068659572615\nyasmin        0.23313857767928753\n"
    }
   ],
   "source": [
    "names = ['john', 'marie', 'sophie', 'ronaldo', 'priya', 'rahul', 'danielle', 'reza', 'katy', 'yasmin']\n",
    "for name in names:\n",
    "    print('%-13s' % name, cos_similarity(word_to_vec_map[name], g))"
   ]
  },
  {
   "cell_type": "code",
   "execution_count": 10,
   "metadata": {},
   "outputs": [
    {
     "name": "stdout",
     "output_type": "stream",
     "text": "lipstick 0.2769191625638267\nguns          -0.1888485567898898\nscience       -0.060829065409296994\narts          0.008189312385880351\nliterature    0.0647250443345993\nwarrior       -0.20920164641125288\ndoctor        0.11895289410935038\ntree          -0.07089399175478091\nreceptionist  0.3307794175059374\ntechnology    -0.13193732447554296\nfashion       0.03563894625772699\nteacher       0.1792092343182567\nengineer      -0.0803928049452407\npilot         0.0010764498991916926\ncomputer      -0.10330358873850498\nsinger        0.1850051813649629\n"
    }
   ],
   "source": [
    "word_list = ['lipstick', 'guns', 'science', 'arts', 'literature', 'warrior', \\\n",
    "'doctor', 'tree', 'receptionist', 'technology',  'fashion', 'teacher', \\\n",
    "'engineer', 'pilot', 'computer', 'singer']\n",
    "for word in word_list:\n",
    "    print('%-13s' % word, cos_similarity(word_to_vec_map[word], g))"
   ]
  },
  {
   "cell_type": "code",
   "execution_count": 11,
   "metadata": {},
   "outputs": [
    {
     "name": "stdout",
     "output_type": "stream",
     "text": "[-0.03348314  0.08383848 -0.15747955 -0.01506941 -0.0396523   0.36180799\n -0.02321504  0.12674902  0.17729802 -0.13817596  0.11950249 -0.33360183\n  0.36888162  0.00412276  0.09350949  0.03147977 -0.39468635 -0.08115657\n  0.26705514 -0.00085299  0.11183331  0.19415024 -0.03821298  0.15540088\n  0.11596375  0.05206285 -0.0232842  -0.02739928 -0.07394462 -0.02349552\n -0.12310655  0.02752991 -0.05124444 -0.09632094 -0.05491766 -0.0864347\n -0.05724992  0.01878182  0.0468412  -0.10513238 -0.06358046 -0.07848234\n  0.20892764 -0.104289   -0.03936412 -0.12336782  0.09667168 -0.12854337\n -0.01679459  0.00483358]\n"
    }
   ],
   "source": [
    "# unit_vector(g)\n",
    "g_unit = g / (np.linalg.norm(g))\n",
    "print(g_unit)"
   ]
  },
  {
   "cell_type": "code",
   "execution_count": 12,
   "metadata": {},
   "outputs": [],
   "source": [
    "def neutralize(word, g_unit=g_unit, word_to_vec_map=word_to_vec_map):\n",
    "\n",
    "    '''return e_disbiased'''\n",
    "\n",
    "    e = word_to_vec_map[word.lower()]\n",
    "    e_biascomponent = np.dot(e, g_unit) * g_unit # e在g_unit方向上的投影向量(分向量)\n",
    "    e_disbiased = e - e_biascomponent\n",
    "\n",
    "    return e_disbiased"
   ]
  },
  {
   "cell_type": "code",
   "execution_count": 13,
   "metadata": {},
   "outputs": [
    {
     "name": "stdout",
     "output_type": "stream",
     "text": "before neurealize cos_similarity(e_w, g) = 0.3307794175059374\nafter neutralize cos_similarity(e_disbiased_w, g) = 2.920516166121757e-17\n"
    }
   ],
   "source": [
    "w = 'receptionist'\n",
    "e_w = word_to_vec_map[w]\n",
    "e_disbiased_w = neutralize(w)\n",
    "print(f'before neurealize cos_similarity(e_w, g) = {cos_similarity(e_w, g)}')\n",
    "print(f'after neutralize cos_similarity(e_disbiased_w, g) = {cos_similarity(e_disbiased_w, g)}')"
   ]
  },
  {
   "cell_type": "code",
   "execution_count": 14,
   "metadata": {},
   "outputs": [],
   "source": [
    "def equalize(pair, g_unit=g_unit, word_to_vec_map=word_to_vec_map):\n",
    "\n",
    "    '''return e1, e2'''\n",
    "\n",
    "    w1, w2 = pair\n",
    "    e_w1 = word_to_vec_map[w1.lower()]\n",
    "    e_w2 = word_to_vec_map[w2.lower()]\n",
    "    u = (e_w1 + e_w2) / 2.\n",
    "    u_B = np.dot(u, g_unit) * g_unit\n",
    "    u_orth = u - u_B\n",
    "    e_1B = np.dot(e_w1, g_unit) * g_unit\n",
    "    e_2B = np.dot(e_w2, g_unit) * g_unit\n",
    "    e_1B_corrected = np.sqrt(np.abs(1 - np.linalg.norm(u_orth)**2)) * (e_1B - u_B) / np.abs(e_w1 - u)\n",
    "    e_2B_corrected = np.sqrt(np.abs(1 - np.linalg.norm(u_orth)**2)) * (e_2B - u_B) / np.abs(e_w2 - u)\n",
    "    e1 = e_1B_corrected + u_orth\n",
    "    e2 = e_2B_corrected + u_orth\n",
    "\n",
    "    return e1, e2"
   ]
  },
  {
   "cell_type": "code",
   "execution_count": 15,
   "metadata": {},
   "outputs": [
    {
     "name": "stdout",
     "output_type": "stream",
     "text": "before equalize:\ncos_similarity(man, g) = -0.1171109576533683\ncos_similarity(woman, g) = 0.3566661884627037\n\nafter equalize:\ncos_similarity(e_man, g) = -0.7165727525843935\ncos_similarity(e_woman, g) = 0.7396596474928909\n"
    }
   ],
   "source": [
    "print('before equalize:')\n",
    "man = word_to_vec_map['man']\n",
    "woman = word_to_vec_map['woman']\n",
    "print(f'cos_similarity(man, g) = {cos_similarity(man, g)}')\n",
    "print(f'cos_similarity(woman, g) = {cos_similarity(woman, g)}')\n",
    "print('\\nafter equalize:')\n",
    "e_man, e_woman = equalize(('man', 'woman'))\n",
    "print(f'cos_similarity(e_man, g) = {cos_similarity(e_man, g)}')\n",
    "print(f'cos_similarity(e_woman, g) = {cos_similarity(e_woman, g)}')"
   ]
  },
  {
   "cell_type": "markdown",
   "execution_count": 33,
   "metadata": {},
   "outputs": [
    {
     "ename": "NameError",
     "evalue": "name 'man' is not defined",
     "output_type": "error",
     "traceback": [
      "\u001b[1;31m---------------------------------------------------------------------------\u001b[0m",
      "\u001b[1;31mNameError\u001b[0m                                 Traceback (most recent call last)",
      "\u001b[1;32m<ipython-input-33-fe930f1cc9df>\u001b[0m in \u001b[0;36m<module>\u001b[1;34m\u001b[0m\n\u001b[1;32m----> 1\u001b[1;33m \u001b[0mman\u001b[0m\u001b[1;33m\u001b[0m\u001b[1;33m\u001b[0m\u001b[0m\n\u001b[0m",
      "\u001b[1;31mNameError\u001b[0m: name 'man' is not defined"
     ]
    }
   ],
   "source": [
    "## Emojifier-V1"
   ]
  },
  {
   "cell_type": "code",
   "execution_count": 16,
   "metadata": {},
   "outputs": [],
   "source": [
    "import emo_utils"
   ]
  },
  {
   "cell_type": "code",
   "execution_count": 17,
   "metadata": {},
   "outputs": [],
   "source": [
    "import matplotlib.pyplot as plt"
   ]
  },
  {
   "cell_type": "code",
   "execution_count": 18,
   "metadata": {},
   "outputs": [],
   "source": [
    "X_train, Y_train = emo_utils.read_csv('./data/train_emoji.csv')\n",
    "X_test, Y_test = emo_utils.read_csv('./data/test.csv')"
   ]
  },
  {
   "cell_type": "code",
   "execution_count": 19,
   "metadata": {},
   "outputs": [
    {
     "name": "stdout",
     "output_type": "stream",
     "text": "X_train.shape = (132,)\nY_train.shape = (132,)\nX_test.shape = (56,)\nY_test.shape = (56,)\n"
    }
   ],
   "source": [
    "print(f'X_train.shape = {X_train.shape}')\n",
    "print(f'Y_train.shape = {Y_train.shape}')\n",
    "print(f'X_test.shape = {X_test.shape}')\n",
    "print(f'Y_test.shape = {Y_test.shape}')"
   ]
  },
  {
   "cell_type": "code",
   "execution_count": 20,
   "metadata": {},
   "outputs": [
    {
     "name": "stdout",
     "output_type": "stream",
     "text": "10\nI am so impressed by your dedication to this project\n"
    }
   ],
   "source": [
    "maxlen = len(max(X_train, key=len).split())\n",
    "print(maxlen)\n",
    "print(max(X_train, key=len))"
   ]
  },
  {
   "cell_type": "code",
   "execution_count": 21,
   "metadata": {},
   "outputs": [
    {
     "name": "stdout",
     "output_type": "stream",
     "text": "never talk to me again 😞\n"
    }
   ],
   "source": [
    "print(X_train[0], emo_utils.label_to_emoji(Y_train[0]))"
   ]
  },
  {
   "cell_type": "code",
   "execution_count": 22,
   "metadata": {},
   "outputs": [
    {
     "name": "stdout",
     "output_type": "stream",
     "text": "Y_oh_train.shape = (132, 5)\nY_oh_test.shape = (56, 5)\n"
    }
   ],
   "source": [
    "Y_oh_train = emo_utils.convert_to_one_hot(Y_train, 5)\n",
    "Y_oh_test = emo_utils.convert_to_one_hot(Y_test, 5)\n",
    "print(f'Y_oh_train.shape = {Y_oh_train.shape}')\n",
    "print(f'Y_oh_test.shape = {Y_oh_test.shape}')"
   ]
  },
  {
   "cell_type": "code",
   "execution_count": 23,
   "metadata": {},
   "outputs": [],
   "source": [
    "word_to_index, index_to_word, word_to_vec_map = emo_utils.read_glove_vecs('./data/glove.6B.50d.txt')"
   ]
  },
  {
   "cell_type": "code",
   "execution_count": 24,
   "metadata": {},
   "outputs": [],
   "source": [
    "def sentence_to_avg(sentence, word_to_vec_map=word_to_vec_map):\n",
    "\n",
    "    '''return avg_vector'''\n",
    "\n",
    "    words = sentence.lower().split()\n",
    "    vectors = [word_to_vec_map[word] for word in words]\n",
    "    avg_vector = np.mean(vectors, axis=0)\n",
    "\n",
    "    return avg_vector"
   ]
  },
  {
   "cell_type": "code",
   "execution_count": 25,
   "metadata": {},
   "outputs": [
    {
     "name": "stdout",
     "output_type": "stream",
     "text": "[ 9.718460e-02  1.743740e-02  5.284300e-02 -4.368060e-01  2.756132e-01\n -1.426688e-01 -6.120520e-01  4.716140e-01 -6.059740e-01  1.566594e-01\n -8.662400e-02  4.906620e-01 -6.480320e-01 -1.612960e-01  8.897200e-01\n  4.867520e-01  4.601260e-02 -8.363342e-02 -2.288840e-01 -4.151500e-01\n -1.140000e-02  6.407600e-01  5.954280e-01  1.780868e-01  7.128668e-01\n -2.072760e+00 -3.161338e-01  1.869920e-01  6.583040e-01 -6.969300e-01\n  3.172380e+00  5.411100e-01 -5.941440e-01 -3.028740e-01 -2.285386e-01\n -2.899120e-01  2.006040e-01  1.053064e-01 -3.933000e-02 -4.483020e-01\n -1.353596e-01 -2.031200e-03 -2.454976e-01  1.305460e-01 -1.976000e-02\n  2.025340e-02 -1.199070e-01 -2.522034e-01 -2.197784e-01  3.076060e-01]\n"
    }
   ],
   "source": [
    "print(sentence_to_avg(X_train[0]))"
   ]
  },
  {
   "cell_type": "code",
   "execution_count": 26,
   "metadata": {},
   "outputs": [],
   "source": [
    "def model(X, Y, word_to_vec_map=word_to_vec_map, lr=0.02, epochs=4000):\n",
    "\n",
    "    '''X - (m, None) --> (50, m), Y - onehot(m, 5) --> (5, m)\n",
    "    np.dot(W, X) + b --> Y_hat\n",
    "    return W - (5, 50), b - (5, 1)'''\n",
    "\n",
    "    m = X.shape[0]\n",
    "    x = np.zeros((m, 50))   # avg_vectors\n",
    "    for i in range(m):\n",
    "        x[i] = sentence_to_avg(X[i])\n",
    "    x = x.T # (m, 50) --> (50, m)\n",
    "    y = Y.T # (m, 5) --> (5, m)\n",
    "    W = np.random.randn(5, 50) * np.sqrt(2/50)\n",
    "    b = np.zeros((5, 1))\n",
    "    cost = []\n",
    "    for j in range(epochs):\n",
    "        z = np.dot(W, x) + b    # (5, m)\n",
    "        a = np.exp(z - np.max(z, axis=0, keepdims=True)) / np.sum(np.exp(z - np.max(z, axis=0, keepdims=True)), axis=0, keepdims=True)  # (5, m)\n",
    "        J = np.sum(-y * np.log(a)) / m\n",
    "        cost.append(J)\n",
    "        dz = a - y\n",
    "        dW = np.dot(dz, x.T)\n",
    "        db = np.sum(dz, axis=1, keepdims=True)\n",
    "        W -= lr * dW\n",
    "        b -= lr * db\n",
    "        if j % 500 == 0:\n",
    "            print(f'No.{j+1} epoch loss: {J}')\n",
    "    print(f'No.{j+1} epoch loss: {J}')\n",
    "    plt.plot(cost)\n",
    "    plt.title('loss')\n",
    "    plt.show()\n",
    "    return W, b"
   ]
  },
  {
   "cell_type": "code",
   "execution_count": 27,
   "metadata": {},
   "outputs": [
    {
     "name": "stdout",
     "output_type": "stream",
     "text": "No.1 epoch loss: 1.659702377209073\nNo.501 epoch loss: 0.1005125172345228\nNo.1001 epoch loss: 0.06769721417785338\nNo.1501 epoch loss: 0.05273721165860178\nNo.2001 epoch loss: 0.04312412413861995\nNo.2501 epoch loss: 0.03642038926812721\nNo.3001 epoch loss: 0.03147776062918383\nNo.3501 epoch loss: 0.027684750908939165\nNo.4000 epoch loss: 0.02469054256688649\n"
    },
    {
     "data": {
      "image/png": "[encoded data removed]",
      "image/svg+xml": "<?xml version=\"1.0\" encoding=\"utf-8\" standalone=\"no\"?>\r\n<!DOCTYPE svg PUBLIC \"-//W3C//DTD SVG 1.1//EN\"\r\n  \"http://www.w3.org/Graphics/SVG/1.1/DTD/svg11.dtd\">\r\n<!-- Created with matplotlib (https://matplotlib.org/) -->\r\n<svg height=\"263.63625pt\" version=\"1.1\" viewBox=\"0 0 372.425 263.63625\" width=\"372.425pt\" xmlns=\"http://www.w3.org/2000/svg\" xmlns:xlink=\"http://www.w3.org/1999/xlink\">\r\n <defs>\r\n  <style type=\"text/css\">\r\n*{stroke-linecap:butt;stroke-linejoin:round;}\r\n  </style>\r\n </defs>\r\n <g id=\"figure_1\">\r\n  <g id=\"patch_1\">\r\n   <path d=\"M -0 263.63625 \r\nL 372.425 263.63625 \r\nL 372.425 0 \r\nL -0 0 \r\nz\r\n\" style=\"fill:none;\"/>\r\n  </g>\r\n  <g id=\"axes_1\">\r\n   <g id=\"patch_2\">\r\n    <path d=\"M 26.925 239.758125 \r\nL 361.725 239.758125 \r\nL 361.725 22.318125 \r\nL 26.925 22.318125 \r\nz\r\n\" style=\"fill:#ffffff;\"/>\r\n   </g>\r\n   <g id=\"matplotlib.axis_1\">\r\n    <g id=\"xtick_1\">\r\n     <g id=\"line2d_1\">\r\n      <defs>\r\n       <path d=\"M 0 0 \r\nL 0 3.5 \r\n\" id=\"m8460481de9\" style=\"stroke:#000000;stroke-width:0.8;\"/>\r\n      </defs>\r\n      <g>\r\n       <use style=\"stroke:#000000;stroke-width:0.8;\" x=\"42.143182\" xlink:href=\"#m8460481de9\" y=\"239.758125\"/>\r\n      </g>\r\n     </g>\r\n     <g id=\"text_1\">\r\n      <!-- 0 -->\r\n      <defs>\r\n       <path d=\"M 31.78125 66.40625 \r\nQ 24.171875 66.40625 20.328125 58.90625 \r\nQ 16.5 51.421875 16.5 36.375 \r\nQ 16.5 21.390625 20.328125 13.890625 \r\nQ 24.171875 6.390625 31.78125 6.390625 \r\nQ 39.453125 6.390625 43.28125 13.890625 \r\nQ 47.125 21.390625 47.125 36.375 \r\nQ 47.125 51.421875 43.28125 58.90625 \r\nQ 39.453125 66.40625 31.78125 66.40625 \r\nz\r\nM 31.78125 74.21875 \r\nQ 44.046875 74.21875 50.515625 64.515625 \r\nQ 56.984375 54.828125 56.984375 36.375 \r\nQ 56.984375 17.96875 50.515625 8.265625 \r\nQ 44.046875 -1.421875 31.78125 -1.421875 \r\nQ 19.53125 -1.421875 13.0625 8.265625 \r\nQ 6.59375 17.96875 6.59375 36.375 \r\nQ 6.59375 54.828125 13.0625 64.515625 \r\nQ 19.53125 74.21875 31.78125 74.21875 \r\nz\r\n\" id=\"DejaVuSans-48\"/>\r\n      </defs>\r\n      <g transform=\"translate(38.961932 254.356563)scale(0.1 -0.1)\">\r\n       <use xlink:href=\"#DejaVuSans-48\"/>\r\n      </g>\r\n     </g>\r\n    </g>\r\n    <g id=\"xtick_2\">\r\n     <g id=\"line2d_2\">\r\n      <g>\r\n       <use style=\"stroke:#000000;stroke-width:0.8;\" x=\"80.19815\" xlink:href=\"#m8460481de9\" y=\"239.758125\"/>\r\n      </g>\r\n     </g>\r\n     <g id=\"text_2\">\r\n      <!-- 500 -->\r\n      <defs>\r\n       <path d=\"M 10.796875 72.90625 \r\nL 49.515625 72.90625 \r\nL 49.515625 64.59375 \r\nL 19.828125 64.59375 \r\nL 19.828125 46.734375 \r\nQ 21.96875 47.46875 24.109375 47.828125 \r\nQ 26.265625 48.1875 28.421875 48.1875 \r\nQ 40.625 48.1875 47.75 41.5 \r\nQ 54.890625 34.8125 54.890625 23.390625 \r\nQ 54.890625 11.625 47.5625 5.09375 \r\nQ 40.234375 -1.421875 26.90625 -1.421875 \r\nQ 22.3125 -1.421875 17.546875 -0.640625 \r\nQ 12.796875 0.140625 7.71875 1.703125 \r\nL 7.71875 11.625 \r\nQ 12.109375 9.234375 16.796875 8.0625 \r\nQ 21.484375 6.890625 26.703125 6.890625 \r\nQ 35.15625 6.890625 40.078125 11.328125 \r\nQ 45.015625 15.765625 45.015625 23.390625 \r\nQ 45.015625 31 40.078125 35.4375 \r\nQ 35.15625 39.890625 26.703125 39.890625 \r\nQ 22.75 39.890625 18.8125 39.015625 \r\nQ 14.890625 38.140625 10.796875 36.28125 \r\nz\r\n\" id=\"DejaVuSans-53\"/>\r\n      </defs>\r\n      <g transform=\"translate(70.6544 254.356563)scale(0.1 -0.1)\">\r\n       <use xlink:href=\"#DejaVuSans-53\"/>\r\n       <use x=\"63.623047\" xlink:href=\"#DejaVuSans-48\"/>\r\n       <use x=\"127.246094\" xlink:href=\"#DejaVuSans-48\"/>\r\n      </g>\r\n     </g>\r\n    </g>\r\n    <g id=\"xtick_3\">\r\n     <g id=\"line2d_3\">\r\n      <g>\r\n       <use style=\"stroke:#000000;stroke-width:0.8;\" x=\"118.253118\" xlink:href=\"#m8460481de9\" y=\"239.758125\"/>\r\n      </g>\r\n     </g>\r\n     <g id=\"text_3\">\r\n      <!-- 1000 -->\r\n      <defs>\r\n       <path d=\"M 12.40625 8.296875 \r\nL 28.515625 8.296875 \r\nL 28.515625 63.921875 \r\nL 10.984375 60.40625 \r\nL 10.984375 69.390625 \r\nL 28.421875 72.90625 \r\nL 38.28125 72.90625 \r\nL 38.28125 8.296875 \r\nL 54.390625 8.296875 \r\nL 54.390625 0 \r\nL 12.40625 0 \r\nz\r\n\" id=\"DejaVuSans-49\"/>\r\n      </defs>\r\n      <g transform=\"translate(105.528118 254.356563)scale(0.1 -0.1)\">\r\n       <use xlink:href=\"#DejaVuSans-49\"/>\r\n       <use x=\"63.623047\" xlink:href=\"#DejaVuSans-48\"/>\r\n       <use x=\"127.246094\" xlink:href=\"#DejaVuSans-48\"/>\r\n       <use x=\"190.869141\" xlink:href=\"#DejaVuSans-48\"/>\r\n      </g>\r\n     </g>\r\n    </g>\r\n    <g id=\"xtick_4\">\r\n     <g id=\"line2d_4\">\r\n      <g>\r\n       <use style=\"stroke:#000000;stroke-width:0.8;\" x=\"156.308087\" xlink:href=\"#m8460481de9\" y=\"239.758125\"/>\r\n      </g>\r\n     </g>\r\n     <g id=\"text_4\">\r\n      <!-- 1500 -->\r\n      <g transform=\"translate(143.583087 254.356563)scale(0.1 -0.1)\">\r\n       <use xlink:href=\"#DejaVuSans-49\"/>\r\n       <use x=\"63.623047\" xlink:href=\"#DejaVuSans-53\"/>\r\n       <use x=\"127.246094\" xlink:href=\"#DejaVuSans-48\"/>\r\n       <use x=\"190.869141\" xlink:href=\"#DejaVuSans-48\"/>\r\n      </g>\r\n     </g>\r\n    </g>\r\n    <g id=\"xtick_5\">\r\n     <g id=\"line2d_5\">\r\n      <g>\r\n       <use style=\"stroke:#000000;stroke-width:0.8;\" x=\"194.363055\" xlink:href=\"#m8460481de9\" y=\"239.758125\"/>\r\n      </g>\r\n     </g>\r\n     <g id=\"text_5\">\r\n      <!-- 2000 -->\r\n      <defs>\r\n       <path d=\"M 19.1875 8.296875 \r\nL 53.609375 8.296875 \r\nL 53.609375 0 \r\nL 7.328125 0 \r\nL 7.328125 8.296875 \r\nQ 12.9375 14.109375 22.625 23.890625 \r\nQ 32.328125 33.6875 34.8125 36.53125 \r\nQ 39.546875 41.84375 41.421875 45.53125 \r\nQ 43.3125 49.21875 43.3125 52.78125 \r\nQ 43.3125 58.59375 39.234375 62.25 \r\nQ 35.15625 65.921875 28.609375 65.921875 \r\nQ 23.96875 65.921875 18.8125 64.3125 \r\nQ 13.671875 62.703125 7.8125 59.421875 \r\nL 7.8125 69.390625 \r\nQ 13.765625 71.78125 18.9375 73 \r\nQ 24.125 74.21875 28.421875 74.21875 \r\nQ 39.75 74.21875 46.484375 68.546875 \r\nQ 53.21875 62.890625 53.21875 53.421875 \r\nQ 53.21875 48.921875 51.53125 44.890625 \r\nQ 49.859375 40.875 45.40625 35.40625 \r\nQ 44.1875 33.984375 37.640625 27.21875 \r\nQ 31.109375 20.453125 19.1875 8.296875 \r\nz\r\n\" id=\"DejaVuSans-50\"/>\r\n      </defs>\r\n      <g transform=\"translate(181.638055 254.356563)scale(0.1 -0.1)\">\r\n       <use xlink:href=\"#DejaVuSans-50\"/>\r\n       <use x=\"63.623047\" xlink:href=\"#DejaVuSans-48\"/>\r\n       <use x=\"127.246094\" xlink:href=\"#DejaVuSans-48\"/>\r\n       <use x=\"190.869141\" xlink:href=\"#DejaVuSans-48\"/>\r\n      </g>\r\n     </g>\r\n    </g>\r\n    <g id=\"xtick_6\">\r\n     <g id=\"line2d_6\">\r\n      <g>\r\n       <use style=\"stroke:#000000;stroke-width:0.8;\" x=\"232.418023\" xlink:href=\"#m8460481de9\" y=\"239.758125\"/>\r\n      </g>\r\n     </g>\r\n     <g id=\"text_6\">\r\n      <!-- 2500 -->\r\n      <g transform=\"translate(219.693023 254.356563)scale(0.1 -0.1)\">\r\n       <use xlink:href=\"#DejaVuSans-50\"/>\r\n       <use x=\"63.623047\" xlink:href=\"#DejaVuSans-53\"/>\r\n       <use x=\"127.246094\" xlink:href=\"#DejaVuSans-48\"/>\r\n       <use x=\"190.869141\" xlink:href=\"#DejaVuSans-48\"/>\r\n      </g>\r\n     </g>\r\n    </g>\r\n    <g id=\"xtick_7\">\r\n     <g id=\"line2d_7\">\r\n      <g>\r\n       <use style=\"stroke:#000000;stroke-width:0.8;\" x=\"270.472992\" xlink:href=\"#m8460481de9\" y=\"239.758125\"/>\r\n      </g>\r\n     </g>\r\n     <g id=\"text_7\">\r\n      <!-- 3000 -->\r\n      <defs>\r\n       <path d=\"M 40.578125 39.3125 \r\nQ 47.65625 37.796875 51.625 33 \r\nQ 55.609375 28.21875 55.609375 21.1875 \r\nQ 55.609375 10.40625 48.1875 4.484375 \r\nQ 40.765625 -1.421875 27.09375 -1.421875 \r\nQ 22.515625 -1.421875 17.65625 -0.515625 \r\nQ 12.796875 0.390625 7.625 2.203125 \r\nL 7.625 11.71875 \r\nQ 11.71875 9.328125 16.59375 8.109375 \r\nQ 21.484375 6.890625 26.8125 6.890625 \r\nQ 36.078125 6.890625 40.9375 10.546875 \r\nQ 45.796875 14.203125 45.796875 21.1875 \r\nQ 45.796875 27.640625 41.28125 31.265625 \r\nQ 36.765625 34.90625 28.71875 34.90625 \r\nL 20.21875 34.90625 \r\nL 20.21875 43.015625 \r\nL 29.109375 43.015625 \r\nQ 36.375 43.015625 40.234375 45.921875 \r\nQ 44.09375 48.828125 44.09375 54.296875 \r\nQ 44.09375 59.90625 40.109375 62.90625 \r\nQ 36.140625 65.921875 28.71875 65.921875 \r\nQ 24.65625 65.921875 20.015625 65.03125 \r\nQ 15.375 64.15625 9.8125 62.3125 \r\nL 9.8125 71.09375 \r\nQ 15.4375 72.65625 20.34375 73.4375 \r\nQ 25.25 74.21875 29.59375 74.21875 \r\nQ 40.828125 74.21875 47.359375 69.109375 \r\nQ 53.90625 64.015625 53.90625 55.328125 \r\nQ 53.90625 49.265625 50.4375 45.09375 \r\nQ 46.96875 40.921875 40.578125 39.3125 \r\nz\r\n\" id=\"DejaVuSans-51\"/>\r\n      </defs>\r\n      <g transform=\"translate(257.747992 254.356563)scale(0.1 -0.1)\">\r\n       <use xlink:href=\"#DejaVuSans-51\"/>\r\n       <use x=\"63.623047\" xlink:href=\"#DejaVuSans-48\"/>\r\n       <use x=\"127.246094\" xlink:href=\"#DejaVuSans-48\"/>\r\n       <use x=\"190.869141\" xlink:href=\"#DejaVuSans-48\"/>\r\n      </g>\r\n     </g>\r\n    </g>\r\n    <g id=\"xtick_8\">\r\n     <g id=\"line2d_8\">\r\n      <g>\r\n       <use style=\"stroke:#000000;stroke-width:0.8;\" x=\"308.52796\" xlink:href=\"#m8460481de9\" y=\"239.758125\"/>\r\n      </g>\r\n     </g>\r\n     <g id=\"text_8\">\r\n      <!-- 3500 -->\r\n      <g transform=\"translate(295.80296 254.356563)scale(0.1 -0.1)\">\r\n       <use xlink:href=\"#DejaVuSans-51\"/>\r\n       <use x=\"63.623047\" xlink:href=\"#DejaVuSans-53\"/>\r\n       <use x=\"127.246094\" xlink:href=\"#DejaVuSans-48\"/>\r\n       <use x=\"190.869141\" xlink:href=\"#DejaVuSans-48\"/>\r\n      </g>\r\n     </g>\r\n    </g>\r\n    <g id=\"xtick_9\">\r\n     <g id=\"line2d_9\">\r\n      <g>\r\n       <use style=\"stroke:#000000;stroke-width:0.8;\" x=\"346.582928\" xlink:href=\"#m8460481de9\" y=\"239.758125\"/>\r\n      </g>\r\n     </g>\r\n     <g id=\"text_9\">\r\n      <!-- 4000 -->\r\n      <defs>\r\n       <path d=\"M 37.796875 64.3125 \r\nL 12.890625 25.390625 \r\nL 37.796875 25.390625 \r\nz\r\nM 35.203125 72.90625 \r\nL 47.609375 72.90625 \r\nL 47.609375 25.390625 \r\nL 58.015625 25.390625 \r\nL 58.015625 17.1875 \r\nL 47.609375 17.1875 \r\nL 47.609375 0 \r\nL 37.796875 0 \r\nL 37.796875 17.1875 \r\nL 4.890625 17.1875 \r\nL 4.890625 26.703125 \r\nz\r\n\" id=\"DejaVuSans-52\"/>\r\n      </defs>\r\n      <g transform=\"translate(333.857928 254.356563)scale(0.1 -0.1)\">\r\n       <use xlink:href=\"#DejaVuSans-52\"/>\r\n       <use x=\"63.623047\" xlink:href=\"#DejaVuSans-48\"/>\r\n       <use x=\"127.246094\" xlink:href=\"#DejaVuSans-48\"/>\r\n       <use x=\"190.869141\" xlink:href=\"#DejaVuSans-48\"/>\r\n      </g>\r\n     </g>\r\n    </g>\r\n   </g>\r\n   <g id=\"matplotlib.axis_2\">\r\n    <g id=\"ytick_1\">\r\n     <g id=\"line2d_10\">\r\n      <defs>\r\n       <path d=\"M 0 0 \r\nL -3.5 0 \r\n\" id=\"m8cdaec3dda\" style=\"stroke:#000000;stroke-width:0.8;\"/>\r\n      </defs>\r\n      <g>\r\n       <use style=\"stroke:#000000;stroke-width:0.8;\" x=\"26.925\" xlink:href=\"#m8cdaec3dda\" y=\"230.183891\"/>\r\n      </g>\r\n     </g>\r\n     <g id=\"text_10\">\r\n      <!-- 0 -->\r\n      <g transform=\"translate(13.5625 233.98311)scale(0.1 -0.1)\">\r\n       <use xlink:href=\"#DejaVuSans-48\"/>\r\n      </g>\r\n     </g>\r\n    </g>\r\n    <g id=\"ytick_2\">\r\n     <g id=\"line2d_11\">\r\n      <g>\r\n       <use style=\"stroke:#000000;stroke-width:0.8;\" x=\"26.925\" xlink:href=\"#m8cdaec3dda\" y=\"205.121468\"/>\r\n      </g>\r\n     </g>\r\n     <g id=\"text_11\">\r\n      <!-- 2 -->\r\n      <g transform=\"translate(13.5625 208.920687)scale(0.1 -0.1)\">\r\n       <use xlink:href=\"#DejaVuSans-50\"/>\r\n      </g>\r\n     </g>\r\n    </g>\r\n    <g id=\"ytick_3\">\r\n     <g id=\"line2d_12\">\r\n      <g>\r\n       <use style=\"stroke:#000000;stroke-width:0.8;\" x=\"26.925\" xlink:href=\"#m8cdaec3dda\" y=\"180.059045\"/>\r\n      </g>\r\n     </g>\r\n     <g id=\"text_12\">\r\n      <!-- 4 -->\r\n      <g transform=\"translate(13.5625 183.858264)scale(0.1 -0.1)\">\r\n       <use xlink:href=\"#DejaVuSans-52\"/>\r\n      </g>\r\n     </g>\r\n    </g>\r\n    <g id=\"ytick_4\">\r\n     <g id=\"line2d_13\">\r\n      <g>\r\n       <use style=\"stroke:#000000;stroke-width:0.8;\" x=\"26.925\" xlink:href=\"#m8cdaec3dda\" y=\"154.996622\"/>\r\n      </g>\r\n     </g>\r\n     <g id=\"text_13\">\r\n      <!-- 6 -->\r\n      <defs>\r\n       <path d=\"M 33.015625 40.375 \r\nQ 26.375 40.375 22.484375 35.828125 \r\nQ 18.609375 31.296875 18.609375 23.390625 \r\nQ 18.609375 15.53125 22.484375 10.953125 \r\nQ 26.375 6.390625 33.015625 6.390625 \r\nQ 39.65625 6.390625 43.53125 10.953125 \r\nQ 47.40625 15.53125 47.40625 23.390625 \r\nQ 47.40625 31.296875 43.53125 35.828125 \r\nQ 39.65625 40.375 33.015625 40.375 \r\nz\r\nM 52.59375 71.296875 \r\nL 52.59375 62.3125 \r\nQ 48.875 64.0625 45.09375 64.984375 \r\nQ 41.3125 65.921875 37.59375 65.921875 \r\nQ 27.828125 65.921875 22.671875 59.328125 \r\nQ 17.53125 52.734375 16.796875 39.40625 \r\nQ 19.671875 43.65625 24.015625 45.921875 \r\nQ 28.375 48.1875 33.59375 48.1875 \r\nQ 44.578125 48.1875 50.953125 41.515625 \r\nQ 57.328125 34.859375 57.328125 23.390625 \r\nQ 57.328125 12.15625 50.6875 5.359375 \r\nQ 44.046875 -1.421875 33.015625 -1.421875 \r\nQ 20.359375 -1.421875 13.671875 8.265625 \r\nQ 6.984375 17.96875 6.984375 36.375 \r\nQ 6.984375 53.65625 15.1875 63.9375 \r\nQ 23.390625 74.21875 37.203125 74.21875 \r\nQ 40.921875 74.21875 44.703125 73.484375 \r\nQ 48.484375 72.75 52.59375 71.296875 \r\nz\r\n\" id=\"DejaVuSans-54\"/>\r\n      </defs>\r\n      <g transform=\"translate(13.5625 158.795841)scale(0.1 -0.1)\">\r\n       <use xlink:href=\"#DejaVuSans-54\"/>\r\n      </g>\r\n     </g>\r\n    </g>\r\n    <g id=\"ytick_5\">\r\n     <g id=\"line2d_14\">\r\n      <g>\r\n       <use style=\"stroke:#000000;stroke-width:0.8;\" x=\"26.925\" xlink:href=\"#m8cdaec3dda\" y=\"129.9342\"/>\r\n      </g>\r\n     </g>\r\n     <g id=\"text_14\">\r\n      <!-- 8 -->\r\n      <defs>\r\n       <path d=\"M 31.78125 34.625 \r\nQ 24.75 34.625 20.71875 30.859375 \r\nQ 16.703125 27.09375 16.703125 20.515625 \r\nQ 16.703125 13.921875 20.71875 10.15625 \r\nQ 24.75 6.390625 31.78125 6.390625 \r\nQ 38.8125 6.390625 42.859375 10.171875 \r\nQ 46.921875 13.96875 46.921875 20.515625 \r\nQ 46.921875 27.09375 42.890625 30.859375 \r\nQ 38.875 34.625 31.78125 34.625 \r\nz\r\nM 21.921875 38.8125 \r\nQ 15.578125 40.375 12.03125 44.71875 \r\nQ 8.5 49.078125 8.5 55.328125 \r\nQ 8.5 64.0625 14.71875 69.140625 \r\nQ 20.953125 74.21875 31.78125 74.21875 \r\nQ 42.671875 74.21875 48.875 69.140625 \r\nQ 55.078125 64.0625 55.078125 55.328125 \r\nQ 55.078125 49.078125 51.53125 44.71875 \r\nQ 48 40.375 41.703125 38.8125 \r\nQ 48.828125 37.15625 52.796875 32.3125 \r\nQ 56.78125 27.484375 56.78125 20.515625 \r\nQ 56.78125 9.90625 50.3125 4.234375 \r\nQ 43.84375 -1.421875 31.78125 -1.421875 \r\nQ 19.734375 -1.421875 13.25 4.234375 \r\nQ 6.78125 9.90625 6.78125 20.515625 \r\nQ 6.78125 27.484375 10.78125 32.3125 \r\nQ 14.796875 37.15625 21.921875 38.8125 \r\nz\r\nM 18.3125 54.390625 \r\nQ 18.3125 48.734375 21.84375 45.5625 \r\nQ 25.390625 42.390625 31.78125 42.390625 \r\nQ 38.140625 42.390625 41.71875 45.5625 \r\nQ 45.3125 48.734375 45.3125 54.390625 \r\nQ 45.3125 60.0625 41.71875 63.234375 \r\nQ 38.140625 66.40625 31.78125 66.40625 \r\nQ 25.390625 66.40625 21.84375 63.234375 \r\nQ 18.3125 60.0625 18.3125 54.390625 \r\nz\r\n\" id=\"DejaVuSans-56\"/>\r\n      </defs>\r\n      <g transform=\"translate(13.5625 133.733418)scale(0.1 -0.1)\">\r\n       <use xlink:href=\"#DejaVuSans-56\"/>\r\n      </g>\r\n     </g>\r\n    </g>\r\n    <g id=\"ytick_6\">\r\n     <g id=\"line2d_15\">\r\n      <g>\r\n       <use style=\"stroke:#000000;stroke-width:0.8;\" x=\"26.925\" xlink:href=\"#m8cdaec3dda\" y=\"104.871777\"/>\r\n      </g>\r\n     </g>\r\n     <g id=\"text_15\">\r\n      <!-- 10 -->\r\n      <g transform=\"translate(7.2 108.670995)scale(0.1 -0.1)\">\r\n       <use xlink:href=\"#DejaVuSans-49\"/>\r\n       <use x=\"63.623047\" xlink:href=\"#DejaVuSans-48\"/>\r\n      </g>\r\n     </g>\r\n    </g>\r\n    <g id=\"ytick_7\">\r\n     <g id=\"line2d_16\">\r\n      <g>\r\n       <use style=\"stroke:#000000;stroke-width:0.8;\" x=\"26.925\" xlink:href=\"#m8cdaec3dda\" y=\"79.809354\"/>\r\n      </g>\r\n     </g>\r\n     <g id=\"text_16\">\r\n      <!-- 12 -->\r\n      <g transform=\"translate(7.2 83.608573)scale(0.1 -0.1)\">\r\n       <use xlink:href=\"#DejaVuSans-49\"/>\r\n       <use x=\"63.623047\" xlink:href=\"#DejaVuSans-50\"/>\r\n      </g>\r\n     </g>\r\n    </g>\r\n    <g id=\"ytick_8\">\r\n     <g id=\"line2d_17\">\r\n      <g>\r\n       <use style=\"stroke:#000000;stroke-width:0.8;\" x=\"26.925\" xlink:href=\"#m8cdaec3dda\" y=\"54.746931\"/>\r\n      </g>\r\n     </g>\r\n     <g id=\"text_17\">\r\n      <!-- 14 -->\r\n      <g transform=\"translate(7.2 58.54615)scale(0.1 -0.1)\">\r\n       <use xlink:href=\"#DejaVuSans-49\"/>\r\n       <use x=\"63.623047\" xlink:href=\"#DejaVuSans-52\"/>\r\n      </g>\r\n     </g>\r\n    </g>\r\n    <g id=\"ytick_9\">\r\n     <g id=\"line2d_18\">\r\n      <g>\r\n       <use style=\"stroke:#000000;stroke-width:0.8;\" x=\"26.925\" xlink:href=\"#m8cdaec3dda\" y=\"29.684508\"/>\r\n      </g>\r\n     </g>\r\n     <g id=\"text_18\">\r\n      <!-- 16 -->\r\n      <g transform=\"translate(7.2 33.483727)scale(0.1 -0.1)\">\r\n       <use xlink:href=\"#DejaVuSans-49\"/>\r\n       <use x=\"63.623047\" xlink:href=\"#DejaVuSans-54\"/>\r\n      </g>\r\n     </g>\r\n    </g>\r\n   </g>\r\n   <g id=\"line2d_19\">\r\n    <path clip-path=\"url(#p085aef75f1)\" d=\"M 42.143182 209.38581 \r\nL 42.219292 176.175697 \r\nL 42.371512 32.201761 \r\nL 42.523732 118.218739 \r\nL 42.599841 59.806755 \r\nL 42.675951 75.941997 \r\nL 42.752061 104.147271 \r\nL 42.904281 48.096893 \r\nL 43.056501 129.408887 \r\nL 43.132611 123.764344 \r\nL 43.208721 163.188504 \r\nL 43.360941 69.088355 \r\nL 43.513161 142.148999 \r\nL 43.665381 179.724488 \r\nL 43.8176 155.054567 \r\nL 43.89371 182.49749 \r\nL 43.96982 146.188797 \r\nL 44.04593 159.415887 \r\nL 44.19815 207.6882 \r\nL 44.27426 210.840178 \r\nL 44.35037 188.519104 \r\nL 44.42648 212.856962 \r\nL 44.50259 204.393571 \r\nL 44.5787 175.260999 \r\nL 44.65481 181.072924 \r\nL 44.73092 198.509776 \r\nL 44.80703 180.857737 \r\nL 45.035359 217.146507 \r\nL 45.187579 180.330524 \r\nL 45.263689 183.228069 \r\nL 45.339799 212.589905 \r\nL 45.415909 210.010266 \r\nL 45.492019 211.94429 \r\nL 45.568129 199.745073 \r\nL 45.644239 205.849594 \r\nL 45.720349 200.191508 \r\nL 45.796459 178.851295 \r\nL 45.948679 219.053783 \r\nL 46.024789 207.304353 \r\nL 46.100899 212.82712 \r\nL 46.253118 189.670491 \r\nL 46.329228 220.057654 \r\nL 46.405338 209.709287 \r\nL 46.557558 179.42352 \r\nL 46.709778 218.16722 \r\nL 46.861998 211.503494 \r\nL 46.938108 218.891683 \r\nL 47.014218 217.032283 \r\nL 47.090328 214.391793 \r\nL 47.242548 190.464953 \r\nL 47.394767 217.189014 \r\nL 47.470877 206.188796 \r\nL 47.546987 193.777445 \r\nL 47.699207 210.684549 \r\nL 47.775317 206.46912 \r\nL 47.851427 192.805032 \r\nL 47.927537 217.003798 \r\nL 48.003647 212.612066 \r\nL 48.155867 196.048067 \r\nL 48.231977 218.815062 \r\nL 48.308087 211.320198 \r\nL 48.384197 207.834964 \r\nL 48.460307 197.897961 \r\nL 48.536416 218.10579 \r\nL 48.612526 211.159948 \r\nL 48.688636 209.299687 \r\nL 48.764746 200.70284 \r\nL 48.840856 217.27017 \r\nL 48.916966 210.102796 \r\nL 48.993076 211.01046 \r\nL 49.069186 203.284673 \r\nL 49.145296 216.465168 \r\nL 49.221406 209.392504 \r\nL 49.297516 212.602441 \r\nL 49.373626 205.627877 \r\nL 49.449736 215.788675 \r\nL 49.525846 209.134963 \r\nL 49.601956 213.93458 \r\nL 49.678066 207.64309 \r\nL 49.754175 215.440296 \r\nL 49.830285 209.4289 \r\nL 49.906395 214.905189 \r\nL 49.982505 209.265151 \r\nL 50.058615 215.506932 \r\nL 50.134725 210.194083 \r\nL 50.210835 215.555123 \r\nL 50.286945 210.580434 \r\nL 50.363055 215.845049 \r\nL 50.439165 211.212363 \r\nL 50.515275 216.048487 \r\nL 50.591385 211.747154 \r\nL 50.667495 216.280068 \r\nL 50.743605 212.312093 \r\nL 50.819715 216.509442 \r\nL 50.895825 212.866392 \r\nL 50.971934 216.743689 \r\nL 51.048044 213.42006 \r\nL 51.124154 216.98386 \r\nL 51.200264 213.971806 \r\nL 51.276374 217.230729 \r\nL 51.352484 214.522344 \r\nL 51.428594 217.48552 \r\nL 51.504704 215.072455 \r\nL 51.580814 217.749256 \r\nL 51.656924 215.622806 \r\nL 51.733034 218.023006 \r\nL 51.809144 216.17389 \r\nL 51.885254 218.307814 \r\nL 51.961364 216.725874 \r\nL 52.037474 218.604608 \r\nL 52.113584 217.278471 \r\nL 52.189693 218.913979 \r\nL 52.265803 217.830827 \r\nL 52.341913 219.23586 \r\nL 52.418023 218.381494 \r\nL 52.494133 219.569148 \r\nL 52.570243 218.928692 \r\nL 52.646353 219.911416 \r\nL 52.722463 219.471176 \r\nL 52.798573 220.258879 \r\nL 52.874683 220.010058 \r\nL 53.103013 220.948925 \r\nL 53.255233 221.276956 \r\nL 53.483562 222.427808 \r\nL 53.559672 221.715963 \r\nL 53.635782 223.213734 \r\nL 53.711892 221.023468 \r\nL 53.788002 222.752685 \r\nL 53.940222 213.45204 \r\nL 54.092442 224.298973 \r\nL 54.168552 221.198586 \r\nL 54.244662 221.501441 \r\nL 54.320772 220.523139 \r\nL 54.396882 220.714484 \r\nL 54.625211 223.668607 \r\nL 54.701321 223.644513 \r\nL 54.777431 224.492959 \r\nL 54.853541 224.036636 \r\nL 54.929651 224.81749 \r\nL 55.005761 224.243768 \r\nL 55.081871 224.955071 \r\nL 55.157981 224.451625 \r\nL 55.234091 225.036206 \r\nL 55.310201 224.677967 \r\nL 55.386311 225.080368 \r\nL 55.462421 224.899391 \r\nL 55.614641 225.098223 \r\nL 55.690751 225.078765 \r\nL 55.76686 225.267134 \r\nL 55.84297 225.054386 \r\nL 55.91908 225.40605 \r\nL 55.99519 225.028469 \r\nL 56.0713 225.518803 \r\nL 56.14741 225.007219 \r\nL 56.22352 225.610629 \r\nL 56.29963 224.993618 \r\nL 56.37574 225.686635 \r\nL 56.45185 224.98872 \r\nL 56.52796 225.751114 \r\nL 56.60407 224.992587 \r\nL 56.68018 225.807383 \r\nL 56.75629 225.004802 \r\nL 56.8324 225.857886 \r\nL 56.90851 225.024714 \r\nL 56.984619 225.904352 \r\nL 57.060729 225.051547 \r\nL 57.136839 225.947973 \r\nL 57.212949 225.084462 \r\nL 57.289059 225.989537 \r\nL 57.365169 225.12259 \r\nL 57.441279 226.02955 \r\nL 57.517389 225.165068 \r\nL 57.593499 226.068325 \r\nL 57.669609 225.211066 \r\nL 57.745719 226.106053 \r\nL 57.821829 225.259811 \r\nL 57.897939 226.142849 \r\nL 57.974049 225.31061 \r\nL 58.050159 226.178793 \r\nL 58.126268 225.362853 \r\nL 58.202378 226.213947 \r\nL 58.278488 225.416023 \r\nL 58.354598 226.248366 \r\nL 58.430708 225.469688 \r\nL 58.506818 226.282106 \r\nL 58.582928 225.523495 \r\nL 58.659038 226.315222 \r\nL 58.735148 225.577164 \r\nL 58.811258 226.347767 \r\nL 58.887368 225.630472 \r\nL 58.963478 226.379785 \r\nL 59.039588 225.683247 \r\nL 59.115698 226.411317 \r\nL 59.191808 225.73536 \r\nL 59.267918 226.442388 \r\nL 59.344027 225.786715 \r\nL 59.420137 226.473017 \r\nL 59.496247 225.837245 \r\nL 59.572357 226.503208 \r\nL 59.648467 225.886906 \r\nL 59.724577 226.532957 \r\nL 59.800687 225.935674 \r\nL 59.876797 226.562252 \r\nL 59.952907 225.983542 \r\nL 60.029017 226.591075 \r\nL 60.105127 226.030512 \r\nL 60.181237 226.619405 \r\nL 60.257347 226.076602 \r\nL 60.333457 226.647222 \r\nL 60.409567 226.121833 \r\nL 60.485677 226.674509 \r\nL 60.561786 226.166236 \r\nL 60.637896 226.701253 \r\nL 60.714006 226.209845 \r\nL 60.790116 226.72745 \r\nL 60.866226 226.252693 \r\nL 60.942336 226.753107 \r\nL 61.018446 226.294819 \r\nL 61.094556 226.778239 \r\nL 61.170666 226.336257 \r\nL 61.246776 226.802873 \r\nL 61.322886 226.37704 \r\nL 61.398996 226.827048 \r\nL 61.475106 226.417201 \r\nL 61.551216 226.850809 \r\nL 61.627326 226.456766 \r\nL 61.703436 226.874213 \r\nL 61.779545 226.495759 \r\nL 61.855655 226.897321 \r\nL 61.931765 226.534198 \r\nL 62.007875 226.920197 \r\nL 62.083985 226.5721 \r\nL 62.160095 226.942904 \r\nL 62.236205 226.609476 \r\nL 62.312315 226.965505 \r\nL 62.388425 226.646333 \r\nL 62.464535 226.988052 \r\nL 62.540645 226.682677 \r\nL 62.616755 227.010593 \r\nL 62.692865 226.718511 \r\nL 62.768975 227.03316 \r\nL 62.845085 226.753836 \r\nL 62.921195 227.055774 \r\nL 62.997304 226.788652 \r\nL 63.073414 227.07844 \r\nL 63.149524 226.82296 \r\nL 63.225634 227.101153 \r\nL 63.301744 226.856761 \r\nL 63.377854 227.123891 \r\nL 63.453964 226.89006 \r\nL 63.530074 227.146625 \r\nL 63.606184 226.922863 \r\nL 63.682294 227.169316 \r\nL 63.758404 226.955179 \r\nL 63.834514 227.191923 \r\nL 63.910624 226.987024 \r\nL 63.986734 227.214402 \r\nL 64.062844 227.018415 \r\nL 64.138953 227.236715 \r\nL 64.215063 227.049374 \r\nL 64.291173 227.25883 \r\nL 64.367283 227.079927 \r\nL 64.443393 227.280725 \r\nL 64.519503 227.110106 \r\nL 64.595613 227.302389 \r\nL 64.671723 227.139944 \r\nL 64.747833 227.323828 \r\nL 64.823943 227.169478 \r\nL 64.900053 227.345063 \r\nL 64.976163 227.198745 \r\nL 65.052273 227.366128 \r\nL 65.128383 227.227785 \r\nL 65.204493 227.387073 \r\nL 65.280603 227.25664 \r\nL 65.356712 227.407961 \r\nL 65.432822 227.285349 \r\nL 65.508932 227.428864 \r\nL 65.585042 227.313952 \r\nL 65.661152 227.449863 \r\nL 65.737262 227.342486 \r\nL 65.813372 227.47104 \r\nL 65.889482 227.370986 \r\nL 65.965592 227.492477 \r\nL 66.041702 227.399482 \r\nL 66.117812 227.51425 \r\nL 66.193922 227.428002 \r\nL 66.270032 227.536425 \r\nL 66.346142 227.456567 \r\nL 66.574471 227.582181 \r\nL 66.650581 227.51389 \r\nL 66.878911 227.629966 \r\nL 66.955021 227.57151 \r\nL 67.183351 227.679712 \r\nL 67.411681 227.658437 \r\nL 67.640011 227.757253 \r\nL 67.86834 227.74573 \r\nL 68.09667 227.836829 \r\nL 68.325 227.833182 \r\nL 68.55333 227.916979 \r\nL 68.78166 227.920813 \r\nL 69.009989 227.997023 \r\nL 69.238319 228.008904 \r\nL 69.618869 228.104068 \r\nL 69.999419 228.15784 \r\nL 70.684408 228.296816 \r\nL 73.043816 228.634096 \r\nL 73.272146 228.520227 \r\nL 73.348256 228.563078 \r\nL 73.728805 227.588639 \r\nL 73.804915 227.304831 \r\nL 73.957135 224.702418 \r\nL 74.261575 214.133321 \r\nL 74.337685 220.577245 \r\nL 74.413795 217.699958 \r\nL 74.489905 220.37523 \r\nL 74.566015 218.327387 \r\nL 74.642125 220.29126 \r\nL 74.718235 219.2249 \r\nL 74.794345 220.397736 \r\nL 74.870455 220.035552 \r\nL 75.098784 221.291073 \r\nL 75.403224 222.938588 \r\nL 75.783774 227.184284 \r\nL 76.240433 228.663218 \r\nL 76.849313 228.806401 \r\nL 79.208721 228.908211 \r\nL 82.100899 228.867074 \r\nL 82.938108 228.632013 \r\nL 83.242548 228.386992 \r\nL 83.546987 227.878624 \r\nL 83.851427 226.916636 \r\nL 84.079757 226.03661 \r\nL 84.688636 228.38928 \r\nL 85.297516 228.934667 \r\nL 87.352484 229.052638 \r\nL 103.183351 229.226344 \r\nL 147.631554 229.487866 \r\nL 227.851427 229.718785 \r\nL 346.506818 229.874489 \r\nL 346.506818 229.874489 \r\n\" style=\"fill:none;stroke:#1f77b4;stroke-linecap:square;stroke-width:1.5;\"/>\r\n   </g>\r\n   <g id=\"patch_3\">\r\n    <path d=\"M 26.925 239.758125 \r\nL 26.925 22.318125 \r\n\" style=\"fill:none;stroke:#000000;stroke-linecap:square;stroke-linejoin:miter;stroke-width:0.8;\"/>\r\n   </g>\r\n   <g id=\"patch_4\">\r\n    <path d=\"M 361.725 239.758125 \r\nL 361.725 22.318125 \r\n\" style=\"fill:none;stroke:#000000;stroke-linecap:square;stroke-linejoin:miter;stroke-width:0.8;\"/>\r\n   </g>\r\n   <g id=\"patch_5\">\r\n    <path d=\"M 26.925 239.758125 \r\nL 361.725 239.758125 \r\n\" style=\"fill:none;stroke:#000000;stroke-linecap:square;stroke-linejoin:miter;stroke-width:0.8;\"/>\r\n   </g>\r\n   <g id=\"patch_6\">\r\n    <path d=\"M 26.925 22.318125 \r\nL 361.725 22.318125 \r\n\" style=\"fill:none;stroke:#000000;stroke-linecap:square;stroke-linejoin:miter;stroke-width:0.8;\"/>\r\n   </g>\r\n   <g id=\"text_19\">\r\n    <!-- loss -->\r\n    <defs>\r\n     <path d=\"M 9.421875 75.984375 \r\nL 18.40625 75.984375 \r\nL 18.40625 0 \r\nL 9.421875 0 \r\nz\r\n\" id=\"DejaVuSans-108\"/>\r\n     <path d=\"M 30.609375 48.390625 \r\nQ 23.390625 48.390625 19.1875 42.75 \r\nQ 14.984375 37.109375 14.984375 27.296875 \r\nQ 14.984375 17.484375 19.15625 11.84375 \r\nQ 23.34375 6.203125 30.609375 6.203125 \r\nQ 37.796875 6.203125 41.984375 11.859375 \r\nQ 46.1875 17.53125 46.1875 27.296875 \r\nQ 46.1875 37.015625 41.984375 42.703125 \r\nQ 37.796875 48.390625 30.609375 48.390625 \r\nz\r\nM 30.609375 56 \r\nQ 42.328125 56 49.015625 48.375 \r\nQ 55.71875 40.765625 55.71875 27.296875 \r\nQ 55.71875 13.875 49.015625 6.21875 \r\nQ 42.328125 -1.421875 30.609375 -1.421875 \r\nQ 18.84375 -1.421875 12.171875 6.21875 \r\nQ 5.515625 13.875 5.515625 27.296875 \r\nQ 5.515625 40.765625 12.171875 48.375 \r\nQ 18.84375 56 30.609375 56 \r\nz\r\n\" id=\"DejaVuSans-111\"/>\r\n     <path d=\"M 44.28125 53.078125 \r\nL 44.28125 44.578125 \r\nQ 40.484375 46.53125 36.375 47.5 \r\nQ 32.28125 48.484375 27.875 48.484375 \r\nQ 21.1875 48.484375 17.84375 46.4375 \r\nQ 14.5 44.390625 14.5 40.28125 \r\nQ 14.5 37.15625 16.890625 35.375 \r\nQ 19.28125 33.59375 26.515625 31.984375 \r\nL 29.59375 31.296875 \r\nQ 39.15625 29.25 43.1875 25.515625 \r\nQ 47.21875 21.78125 47.21875 15.09375 \r\nQ 47.21875 7.46875 41.1875 3.015625 \r\nQ 35.15625 -1.421875 24.609375 -1.421875 \r\nQ 20.21875 -1.421875 15.453125 -0.5625 \r\nQ 10.6875 0.296875 5.421875 2 \r\nL 5.421875 11.28125 \r\nQ 10.40625 8.6875 15.234375 7.390625 \r\nQ 20.0625 6.109375 24.8125 6.109375 \r\nQ 31.15625 6.109375 34.5625 8.28125 \r\nQ 37.984375 10.453125 37.984375 14.40625 \r\nQ 37.984375 18.0625 35.515625 20.015625 \r\nQ 33.0625 21.96875 24.703125 23.78125 \r\nL 21.578125 24.515625 \r\nQ 13.234375 26.265625 9.515625 29.90625 \r\nQ 5.8125 33.546875 5.8125 39.890625 \r\nQ 5.8125 47.609375 11.28125 51.796875 \r\nQ 16.75 56 26.8125 56 \r\nQ 31.78125 56 36.171875 55.265625 \r\nQ 40.578125 54.546875 44.28125 53.078125 \r\nz\r\n\" id=\"DejaVuSans-115\"/>\r\n    </defs>\r\n    <g transform=\"translate(182.735625 16.318125)scale(0.12 -0.12)\">\r\n     <use xlink:href=\"#DejaVuSans-108\"/>\r\n     <use x=\"27.783203\" xlink:href=\"#DejaVuSans-111\"/>\r\n     <use x=\"88.964844\" xlink:href=\"#DejaVuSans-115\"/>\r\n     <use x=\"141.064453\" xlink:href=\"#DejaVuSans-115\"/>\r\n    </g>\r\n   </g>\r\n  </g>\r\n </g>\r\n <defs>\r\n  <clipPath id=\"p085aef75f1\">\r\n   <rect height=\"217.44\" width=\"334.8\" x=\"26.925\" y=\"22.318125\"/>\r\n  </clipPath>\r\n </defs>\r\n</svg>\r\n",
      "text/plain": "<Figure size 432x288 with 1 Axes>"
     },
     "metadata": {
      "needs_background": "light"
     },
     "output_type": "display_data"
    }
   ],
   "source": [
    "W, b = model(X_train, Y_oh_train, word_to_vec_map=word_to_vec_map, lr=0.02, epochs=4000)"
   ]
  },
  {
   "cell_type": "code",
   "execution_count": 31,
   "metadata": {},
   "outputs": [],
   "source": [
    "def predict(X, Y, W, b, word_to_vec_map=word_to_vec_map):\n",
    "\n",
    "    '''X - sentences(m, None) --> (50, m), Y - labels(m,)\n",
    "    W - (5, 50), b - (5, 1)\n",
    "    np.dot(W, X) + b --> z, a, y_hat\n",
    "    return y_hat'''\n",
    "\n",
    "    m = X.shape[0]\n",
    "    x = np.zeros((m, 50))   # avg_vectors\n",
    "    for i in range(m):\n",
    "        x[i] = sentence_to_avg(X[i])\n",
    "    x = x.T # (m, 50) --> (50, m)\n",
    "    z = np.dot(W, x) + b    # (5, m)\n",
    "    a = np.exp(z - np.max(z, axis=0, keepdims=True)) / np.sum(np.exp(z - np.max(z, axis=0, keepdims=True)), axis=0, keepdims=True)  # (5, m)\n",
    "    y_hat = np.argmax(a, axis=0)    # (m,)\n",
    "    acc = np.mean(y_hat == Y)\n",
    "    print(f'Accuracy: {acc}')\n",
    "    return y_hat"
   ]
  },
  {
   "cell_type": "markdown",
   "execution_count": null,
   "metadata": {},
   "outputs": [],
   "source": [
    "### train set:"
   ]
  },
  {
   "cell_type": "code",
   "execution_count": 32,
   "metadata": {},
   "outputs": [
    {
     "name": "stdout",
     "output_type": "stream",
     "text": "Accuracy: 1.0\n"
    }
   ],
   "source": [
    "y_hat = predict(X_train, Y_train, W, b)"
   ]
  },
  {
   "cell_type": "markdown",
   "execution_count": 33,
   "metadata": {},
   "outputs": [],
   "source": [
    "### test set:"
   ]
  },
  {
   "cell_type": "code",
   "execution_count": 34,
   "metadata": {},
   "outputs": [
    {
     "name": "stdout",
     "output_type": "stream",
     "text": "Accuracy: 0.9107142857142857\n"
    }
   ],
   "source": [
    "y_hat = predict(X_test, Y_test, W, b)"
   ]
  },
  {
   "cell_type": "code",
   "execution_count": 36,
   "metadata": {},
   "outputs": [
    {
     "data": {
      "image/png": "[encoded data removed]",
      "image/svg+xml": "<?xml version=\"1.0\" encoding=\"utf-8\" standalone=\"no\"?>\r\n<!DOCTYPE svg PUBLIC \"-//W3C//DTD SVG 1.1//EN\"\r\n  \"http://www.w3.org/Graphics/SVG/1.1/DTD/svg11.dtd\">\r\n<!-- Created with matplotlib (https://matplotlib.org/) -->\r\n<svg height=\"246.978906pt\" version=\"1.1\" viewBox=\"0 0 268.08 246.978906\" width=\"268.08pt\" xmlns=\"http://www.w3.org/2000/svg\" xmlns:xlink=\"http://www.w3.org/1999/xlink\">\r\n <defs>\r\n  <style type=\"text/css\">\r\n*{stroke-linecap:butt;stroke-linejoin:round;}\r\n  </style>\r\n </defs>\r\n <g id=\"figure_1\">\r\n  <g id=\"patch_1\">\r\n   <path d=\"M 0 246.978906 \r\nL 268.08 246.978906 \r\nL 268.08 0 \r\nL 0 0 \r\nz\r\n\" style=\"fill:none;\"/>\r\n  </g>\r\n  <g id=\"axes_1\">\r\n   <g id=\"patch_2\">\r\n    <path d=\"M 40.275 211.58 \r\nL 218.835 211.58 \r\nL 218.835 33.02 \r\nL 40.275 33.02 \r\nz\r\n\" style=\"fill:#ffffff;\"/>\r\n   </g>\r\n   <g clip-path=\"url(#p81424cf945)\">\r\n    <image height=\"179\" id=\"image57d88e7148\" transform=\"scale(1 -1)translate(0 -179)\" width=\"179\" x=\"40.275\" xlink:href=\"data:image/png;base64,\r\niVBORw0KGgoAAAANSUhEUgAAALMAAACzCAYAAADCFC3zAAAABHNCSVQICAgIfAhkiAAAAn5JREFUeJzt3LGt4lAURVEzcuIykFwIKRXTAF3ggIQaCLDkqeLzpM1aDRxL3rrhOz0ej2Ma4PP5jJidtm37+uayLF/fnKZpWtd1yO75fB6y+2/IKvwBMZMhZjLETIaYyRAzGWImQ8xkiJkMMZMhZjLETIaYyRAzGWImQ8xkiJkMMZMhZjLETIaYyRAzGWImQ8xkiJkMMZMhZjLETIaYyTgdxzHkFVD+3vP5HP0JX+UykyFmMsRMhpjJEDMZYiZDzGSImQwxkyFmMsRMhpjJEDMZYiZDzGSImQwxkyFmMsRMhpjJEDMZYiZDzGSImQwxkyFmMsRMhpjJEDMZ86jhfd9HTX/d/X4fsnu5XIbs3m63IbsuMxliJkPMZIiZDDGTIWYyxEyGmMkQMxliJkPMZIiZDDGTIWYyxEyGmMkQMxliJkPMZIiZDDGTIWYyxEyGmMkQMxliJkPMZIiZDDGTMb/f7yHDy7IM2R3xQuX1ev365kijmnKZyRAzGWImQ8xkiJkMMZMhZjLETIaYyRAzGWImQ8xkiJkMMZMhZjLETIaYyRAzGWImQ8xkiJkMMZMhZjLETIaYyRAzGWImQ8xknI7jOEYMb9s2YnZa13XI7i8Z9W9dZjLETIaYyRAzGWImQ8xkiJkMMZMhZjLETIaYyRAzGWImQ8xkiJkMMZMhZjLETIaYyRAzGWImQ8xkiJkMMZMhZjLETIaYyRAzGWImY369XkOGf+k1zn3fh+zO8/xTuy4zGWImQ8xkiJkMMZMhZjLETIaYyRAzGWImQ8xkiJkMMZMhZjLETIaYyRAzGWImQ8xkiJkMMZMhZjLETIaYyRAzGWImQ8xkiJkMMZPxHxf4MsY8j2CBAAAAAElFTkSuQmCC\" y=\"-32.58\"/>\r\n   </g>\r\n   <g id=\"matplotlib.axis_1\">\r\n    <g id=\"xtick_1\">\r\n     <g id=\"line2d_1\">\r\n      <defs>\r\n       <path d=\"M 0 0 \r\nL 0 3.5 \r\n\" id=\"m60c5302f75\" style=\"stroke:#000000;stroke-width:0.8;\"/>\r\n      </defs>\r\n      <g>\r\n       <use style=\"stroke:#000000;stroke-width:0.8;\" x=\"55.155\" xlink:href=\"#m60c5302f75\" y=\"211.58\"/>\r\n      </g>\r\n     </g>\r\n     <g id=\"line2d_2\">\r\n      <defs>\r\n       <path d=\"M 0 0 \r\nL 0 -3.5 \r\n\" id=\"m6907057af9\" style=\"stroke:#000000;stroke-width:0.8;\"/>\r\n      </defs>\r\n      <g>\r\n       <use style=\"stroke:#000000;stroke-width:0.8;\" x=\"55.155\" xlink:href=\"#m6907057af9\" y=\"33.02\"/>\r\n      </g>\r\n     </g>\r\n     <g id=\"text_1\">\r\n      <!-- 0 -->\r\n      <defs>\r\n       <path d=\"M 31.78125 66.40625 \r\nQ 24.171875 66.40625 20.328125 58.90625 \r\nQ 16.5 51.421875 16.5 36.375 \r\nQ 16.5 21.390625 20.328125 13.890625 \r\nQ 24.171875 6.390625 31.78125 6.390625 \r\nQ 39.453125 6.390625 43.28125 13.890625 \r\nQ 47.125 21.390625 47.125 36.375 \r\nQ 47.125 51.421875 43.28125 58.90625 \r\nQ 39.453125 66.40625 31.78125 66.40625 \r\nz\r\nM 31.78125 74.21875 \r\nQ 44.046875 74.21875 50.515625 64.515625 \r\nQ 56.984375 54.828125 56.984375 36.375 \r\nQ 56.984375 17.96875 50.515625 8.265625 \r\nQ 44.046875 -1.421875 31.78125 -1.421875 \r\nQ 19.53125 -1.421875 13.0625 8.265625 \r\nQ 6.59375 17.96875 6.59375 36.375 \r\nQ 6.59375 54.828125 13.0625 64.515625 \r\nQ 19.53125 74.21875 31.78125 74.21875 \r\nz\r\n\" id=\"DejaVuSans-48\"/>\r\n      </defs>\r\n      <g transform=\"translate(54.856689 24.549439)rotate(-45)scale(0.1 -0.1)\">\r\n       <use xlink:href=\"#DejaVuSans-48\"/>\r\n      </g>\r\n     </g>\r\n    </g>\r\n    <g id=\"xtick_2\">\r\n     <g id=\"line2d_3\">\r\n      <g>\r\n       <use style=\"stroke:#000000;stroke-width:0.8;\" x=\"84.915\" xlink:href=\"#m60c5302f75\" y=\"211.58\"/>\r\n      </g>\r\n     </g>\r\n     <g id=\"line2d_4\">\r\n      <g>\r\n       <use style=\"stroke:#000000;stroke-width:0.8;\" x=\"84.915\" xlink:href=\"#m6907057af9\" y=\"33.02\"/>\r\n      </g>\r\n     </g>\r\n     <g id=\"text_2\">\r\n      <!-- 1 -->\r\n      <defs>\r\n       <path d=\"M 12.40625 8.296875 \r\nL 28.515625 8.296875 \r\nL 28.515625 63.921875 \r\nL 10.984375 60.40625 \r\nL 10.984375 69.390625 \r\nL 28.421875 72.90625 \r\nL 38.28125 72.90625 \r\nL 38.28125 8.296875 \r\nL 54.390625 8.296875 \r\nL 54.390625 0 \r\nL 12.40625 0 \r\nz\r\n\" id=\"DejaVuSans-49\"/>\r\n      </defs>\r\n      <g transform=\"translate(84.616689 24.549439)rotate(-45)scale(0.1 -0.1)\">\r\n       <use xlink:href=\"#DejaVuSans-49\"/>\r\n      </g>\r\n     </g>\r\n    </g>\r\n    <g id=\"xtick_3\">\r\n     <g id=\"line2d_5\">\r\n      <g>\r\n       <use style=\"stroke:#000000;stroke-width:0.8;\" x=\"114.675\" xlink:href=\"#m60c5302f75\" y=\"211.58\"/>\r\n      </g>\r\n     </g>\r\n     <g id=\"line2d_6\">\r\n      <g>\r\n       <use style=\"stroke:#000000;stroke-width:0.8;\" x=\"114.675\" xlink:href=\"#m6907057af9\" y=\"33.02\"/>\r\n      </g>\r\n     </g>\r\n     <g id=\"text_3\">\r\n      <!-- 2 -->\r\n      <defs>\r\n       <path d=\"M 19.1875 8.296875 \r\nL 53.609375 8.296875 \r\nL 53.609375 0 \r\nL 7.328125 0 \r\nL 7.328125 8.296875 \r\nQ 12.9375 14.109375 22.625 23.890625 \r\nQ 32.328125 33.6875 34.8125 36.53125 \r\nQ 39.546875 41.84375 41.421875 45.53125 \r\nQ 43.3125 49.21875 43.3125 52.78125 \r\nQ 43.3125 58.59375 39.234375 62.25 \r\nQ 35.15625 65.921875 28.609375 65.921875 \r\nQ 23.96875 65.921875 18.8125 64.3125 \r\nQ 13.671875 62.703125 7.8125 59.421875 \r\nL 7.8125 69.390625 \r\nQ 13.765625 71.78125 18.9375 73 \r\nQ 24.125 74.21875 28.421875 74.21875 \r\nQ 39.75 74.21875 46.484375 68.546875 \r\nQ 53.21875 62.890625 53.21875 53.421875 \r\nQ 53.21875 48.921875 51.53125 44.890625 \r\nQ 49.859375 40.875 45.40625 35.40625 \r\nQ 44.1875 33.984375 37.640625 27.21875 \r\nQ 31.109375 20.453125 19.1875 8.296875 \r\nz\r\n\" id=\"DejaVuSans-50\"/>\r\n      </defs>\r\n      <g transform=\"translate(114.376689 24.549439)rotate(-45)scale(0.1 -0.1)\">\r\n       <use xlink:href=\"#DejaVuSans-50\"/>\r\n      </g>\r\n     </g>\r\n    </g>\r\n    <g id=\"xtick_4\">\r\n     <g id=\"line2d_7\">\r\n      <g>\r\n       <use style=\"stroke:#000000;stroke-width:0.8;\" x=\"144.435\" xlink:href=\"#m60c5302f75\" y=\"211.58\"/>\r\n      </g>\r\n     </g>\r\n     <g id=\"line2d_8\">\r\n      <g>\r\n       <use style=\"stroke:#000000;stroke-width:0.8;\" x=\"144.435\" xlink:href=\"#m6907057af9\" y=\"33.02\"/>\r\n      </g>\r\n     </g>\r\n     <g id=\"text_4\">\r\n      <!-- 3 -->\r\n      <defs>\r\n       <path d=\"M 40.578125 39.3125 \r\nQ 47.65625 37.796875 51.625 33 \r\nQ 55.609375 28.21875 55.609375 21.1875 \r\nQ 55.609375 10.40625 48.1875 4.484375 \r\nQ 40.765625 -1.421875 27.09375 -1.421875 \r\nQ 22.515625 -1.421875 17.65625 -0.515625 \r\nQ 12.796875 0.390625 7.625 2.203125 \r\nL 7.625 11.71875 \r\nQ 11.71875 9.328125 16.59375 8.109375 \r\nQ 21.484375 6.890625 26.8125 6.890625 \r\nQ 36.078125 6.890625 40.9375 10.546875 \r\nQ 45.796875 14.203125 45.796875 21.1875 \r\nQ 45.796875 27.640625 41.28125 31.265625 \r\nQ 36.765625 34.90625 28.71875 34.90625 \r\nL 20.21875 34.90625 \r\nL 20.21875 43.015625 \r\nL 29.109375 43.015625 \r\nQ 36.375 43.015625 40.234375 45.921875 \r\nQ 44.09375 48.828125 44.09375 54.296875 \r\nQ 44.09375 59.90625 40.109375 62.90625 \r\nQ 36.140625 65.921875 28.71875 65.921875 \r\nQ 24.65625 65.921875 20.015625 65.03125 \r\nQ 15.375 64.15625 9.8125 62.3125 \r\nL 9.8125 71.09375 \r\nQ 15.4375 72.65625 20.34375 73.4375 \r\nQ 25.25 74.21875 29.59375 74.21875 \r\nQ 40.828125 74.21875 47.359375 69.109375 \r\nQ 53.90625 64.015625 53.90625 55.328125 \r\nQ 53.90625 49.265625 50.4375 45.09375 \r\nQ 46.96875 40.921875 40.578125 39.3125 \r\nz\r\n\" id=\"DejaVuSans-51\"/>\r\n      </defs>\r\n      <g transform=\"translate(144.136689 24.549439)rotate(-45)scale(0.1 -0.1)\">\r\n       <use xlink:href=\"#DejaVuSans-51\"/>\r\n      </g>\r\n     </g>\r\n    </g>\r\n    <g id=\"xtick_5\">\r\n     <g id=\"line2d_9\">\r\n      <g>\r\n       <use style=\"stroke:#000000;stroke-width:0.8;\" x=\"174.195\" xlink:href=\"#m60c5302f75\" y=\"211.58\"/>\r\n      </g>\r\n     </g>\r\n     <g id=\"line2d_10\">\r\n      <g>\r\n       <use style=\"stroke:#000000;stroke-width:0.8;\" x=\"174.195\" xlink:href=\"#m6907057af9\" y=\"33.02\"/>\r\n      </g>\r\n     </g>\r\n     <g id=\"text_5\">\r\n      <!-- 4 -->\r\n      <defs>\r\n       <path d=\"M 37.796875 64.3125 \r\nL 12.890625 25.390625 \r\nL 37.796875 25.390625 \r\nz\r\nM 35.203125 72.90625 \r\nL 47.609375 72.90625 \r\nL 47.609375 25.390625 \r\nL 58.015625 25.390625 \r\nL 58.015625 17.1875 \r\nL 47.609375 17.1875 \r\nL 47.609375 0 \r\nL 37.796875 0 \r\nL 37.796875 17.1875 \r\nL 4.890625 17.1875 \r\nL 4.890625 26.703125 \r\nz\r\n\" id=\"DejaVuSans-52\"/>\r\n      </defs>\r\n      <g transform=\"translate(173.896689 24.549439)rotate(-45)scale(0.1 -0.1)\">\r\n       <use xlink:href=\"#DejaVuSans-52\"/>\r\n      </g>\r\n     </g>\r\n    </g>\r\n    <g id=\"xtick_6\">\r\n     <g id=\"line2d_11\">\r\n      <g>\r\n       <use style=\"stroke:#000000;stroke-width:0.8;\" x=\"203.955\" xlink:href=\"#m60c5302f75\" y=\"211.58\"/>\r\n      </g>\r\n     </g>\r\n     <g id=\"line2d_12\">\r\n      <g>\r\n       <use style=\"stroke:#000000;stroke-width:0.8;\" x=\"203.955\" xlink:href=\"#m6907057af9\" y=\"33.02\"/>\r\n      </g>\r\n     </g>\r\n     <g id=\"text_6\">\r\n      <!-- All -->\r\n      <defs>\r\n       <path d=\"M 34.1875 63.1875 \r\nL 20.796875 26.90625 \r\nL 47.609375 26.90625 \r\nz\r\nM 28.609375 72.90625 \r\nL 39.796875 72.90625 \r\nL 67.578125 0 \r\nL 57.328125 0 \r\nL 50.6875 18.703125 \r\nL 17.828125 18.703125 \r\nL 11.1875 0 \r\nL 0.78125 0 \r\nz\r\n\" id=\"DejaVuSans-65\"/>\r\n       <path d=\"M 9.421875 75.984375 \r\nL 18.40625 75.984375 \r\nL 18.40625 0 \r\nL 9.421875 0 \r\nz\r\n\" id=\"DejaVuSans-108\"/>\r\n      </defs>\r\n      <g transform=\"translate(201.523216 24.549439)rotate(-45)scale(0.1 -0.1)\">\r\n       <use xlink:href=\"#DejaVuSans-65\"/>\r\n       <use x=\"68.408203\" xlink:href=\"#DejaVuSans-108\"/>\r\n       <use x=\"96.191406\" xlink:href=\"#DejaVuSans-108\"/>\r\n      </g>\r\n     </g>\r\n    </g>\r\n    <g id=\"text_7\">\r\n     <!-- Predicted -->\r\n     <defs>\r\n      <path d=\"M 19.671875 64.796875 \r\nL 19.671875 37.40625 \r\nL 32.078125 37.40625 \r\nQ 38.96875 37.40625 42.71875 40.96875 \r\nQ 46.484375 44.53125 46.484375 51.125 \r\nQ 46.484375 57.671875 42.71875 61.234375 \r\nQ 38.96875 64.796875 32.078125 64.796875 \r\nz\r\nM 9.8125 72.90625 \r\nL 32.078125 72.90625 \r\nQ 44.34375 72.90625 50.609375 67.359375 \r\nQ 56.890625 61.8125 56.890625 51.125 \r\nQ 56.890625 40.328125 50.609375 34.8125 \r\nQ 44.34375 29.296875 32.078125 29.296875 \r\nL 19.671875 29.296875 \r\nL 19.671875 0 \r\nL 9.8125 0 \r\nz\r\n\" id=\"DejaVuSans-80\"/>\r\n      <path d=\"M 41.109375 46.296875 \r\nQ 39.59375 47.171875 37.8125 47.578125 \r\nQ 36.03125 48 33.890625 48 \r\nQ 26.265625 48 22.1875 43.046875 \r\nQ 18.109375 38.09375 18.109375 28.8125 \r\nL 18.109375 0 \r\nL 9.078125 0 \r\nL 9.078125 54.6875 \r\nL 18.109375 54.6875 \r\nL 18.109375 46.1875 \r\nQ 20.953125 51.171875 25.484375 53.578125 \r\nQ 30.03125 56 36.53125 56 \r\nQ 37.453125 56 38.578125 55.875 \r\nQ 39.703125 55.765625 41.0625 55.515625 \r\nz\r\n\" id=\"DejaVuSans-114\"/>\r\n      <path d=\"M 56.203125 29.59375 \r\nL 56.203125 25.203125 \r\nL 14.890625 25.203125 \r\nQ 15.484375 15.921875 20.484375 11.0625 \r\nQ 25.484375 6.203125 34.421875 6.203125 \r\nQ 39.59375 6.203125 44.453125 7.46875 \r\nQ 49.3125 8.734375 54.109375 11.28125 \r\nL 54.109375 2.78125 \r\nQ 49.265625 0.734375 44.1875 -0.34375 \r\nQ 39.109375 -1.421875 33.890625 -1.421875 \r\nQ 20.796875 -1.421875 13.15625 6.1875 \r\nQ 5.515625 13.8125 5.515625 26.8125 \r\nQ 5.515625 40.234375 12.765625 48.109375 \r\nQ 20.015625 56 32.328125 56 \r\nQ 43.359375 56 49.78125 48.890625 \r\nQ 56.203125 41.796875 56.203125 29.59375 \r\nz\r\nM 47.21875 32.234375 \r\nQ 47.125 39.59375 43.09375 43.984375 \r\nQ 39.0625 48.390625 32.421875 48.390625 \r\nQ 24.90625 48.390625 20.390625 44.140625 \r\nQ 15.875 39.890625 15.1875 32.171875 \r\nz\r\n\" id=\"DejaVuSans-101\"/>\r\n      <path d=\"M 45.40625 46.390625 \r\nL 45.40625 75.984375 \r\nL 54.390625 75.984375 \r\nL 54.390625 0 \r\nL 45.40625 0 \r\nL 45.40625 8.203125 \r\nQ 42.578125 3.328125 38.25 0.953125 \r\nQ 33.9375 -1.421875 27.875 -1.421875 \r\nQ 17.96875 -1.421875 11.734375 6.484375 \r\nQ 5.515625 14.40625 5.515625 27.296875 \r\nQ 5.515625 40.1875 11.734375 48.09375 \r\nQ 17.96875 56 27.875 56 \r\nQ 33.9375 56 38.25 53.625 \r\nQ 42.578125 51.265625 45.40625 46.390625 \r\nz\r\nM 14.796875 27.296875 \r\nQ 14.796875 17.390625 18.875 11.75 \r\nQ 22.953125 6.109375 30.078125 6.109375 \r\nQ 37.203125 6.109375 41.296875 11.75 \r\nQ 45.40625 17.390625 45.40625 27.296875 \r\nQ 45.40625 37.203125 41.296875 42.84375 \r\nQ 37.203125 48.484375 30.078125 48.484375 \r\nQ 22.953125 48.484375 18.875 42.84375 \r\nQ 14.796875 37.203125 14.796875 27.296875 \r\nz\r\n\" id=\"DejaVuSans-100\"/>\r\n      <path d=\"M 9.421875 54.6875 \r\nL 18.40625 54.6875 \r\nL 18.40625 0 \r\nL 9.421875 0 \r\nz\r\nM 9.421875 75.984375 \r\nL 18.40625 75.984375 \r\nL 18.40625 64.59375 \r\nL 9.421875 64.59375 \r\nz\r\n\" id=\"DejaVuSans-105\"/>\r\n      <path d=\"M 48.78125 52.59375 \r\nL 48.78125 44.1875 \r\nQ 44.96875 46.296875 41.140625 47.34375 \r\nQ 37.3125 48.390625 33.40625 48.390625 \r\nQ 24.65625 48.390625 19.8125 42.84375 \r\nQ 14.984375 37.3125 14.984375 27.296875 \r\nQ 14.984375 17.28125 19.8125 11.734375 \r\nQ 24.65625 6.203125 33.40625 6.203125 \r\nQ 37.3125 6.203125 41.140625 7.25 \r\nQ 44.96875 8.296875 48.78125 10.40625 \r\nL 48.78125 2.09375 \r\nQ 45.015625 0.34375 40.984375 -0.53125 \r\nQ 36.96875 -1.421875 32.421875 -1.421875 \r\nQ 20.0625 -1.421875 12.78125 6.34375 \r\nQ 5.515625 14.109375 5.515625 27.296875 \r\nQ 5.515625 40.671875 12.859375 48.328125 \r\nQ 20.21875 56 33.015625 56 \r\nQ 37.15625 56 41.109375 55.140625 \r\nQ 45.0625 54.296875 48.78125 52.59375 \r\nz\r\n\" id=\"DejaVuSans-99\"/>\r\n      <path d=\"M 18.3125 70.21875 \r\nL 18.3125 54.6875 \r\nL 36.8125 54.6875 \r\nL 36.8125 47.703125 \r\nL 18.3125 47.703125 \r\nL 18.3125 18.015625 \r\nQ 18.3125 11.328125 20.140625 9.421875 \r\nQ 21.96875 7.515625 27.59375 7.515625 \r\nL 36.8125 7.515625 \r\nL 36.8125 0 \r\nL 27.59375 0 \r\nQ 17.1875 0 13.234375 3.875 \r\nQ 9.28125 7.765625 9.28125 18.015625 \r\nL 9.28125 47.703125 \r\nL 2.6875 47.703125 \r\nL 2.6875 54.6875 \r\nL 9.28125 54.6875 \r\nL 9.28125 70.21875 \r\nz\r\n\" id=\"DejaVuSans-116\"/>\r\n     </defs>\r\n     <g transform=\"translate(105.887031 223.178438)scale(0.1 -0.1)\">\r\n      <use xlink:href=\"#DejaVuSans-80\"/>\r\n      <use x=\"60.287109\" xlink:href=\"#DejaVuSans-114\"/>\r\n      <use x=\"101.369141\" xlink:href=\"#DejaVuSans-101\"/>\r\n      <use x=\"162.892578\" xlink:href=\"#DejaVuSans-100\"/>\r\n      <use x=\"226.369141\" xlink:href=\"#DejaVuSans-105\"/>\r\n      <use x=\"254.152344\" xlink:href=\"#DejaVuSans-99\"/>\r\n      <use x=\"309.132812\" xlink:href=\"#DejaVuSans-116\"/>\r\n      <use x=\"348.341797\" xlink:href=\"#DejaVuSans-101\"/>\r\n      <use x=\"409.865234\" xlink:href=\"#DejaVuSans-100\"/>\r\n     </g>\r\n    </g>\r\n   </g>\r\n   <g id=\"matplotlib.axis_2\">\r\n    <g id=\"ytick_1\">\r\n     <g id=\"line2d_13\">\r\n      <defs>\r\n       <path d=\"M 0 0 \r\nL -3.5 0 \r\n\" id=\"mbd3b49c87c\" style=\"stroke:#000000;stroke-width:0.8;\"/>\r\n      </defs>\r\n      <g>\r\n       <use style=\"stroke:#000000;stroke-width:0.8;\" x=\"40.275\" xlink:href=\"#mbd3b49c87c\" y=\"47.9\"/>\r\n      </g>\r\n     </g>\r\n     <g id=\"text_8\">\r\n      <!-- 0 -->\r\n      <g transform=\"translate(26.9125 51.699219)scale(0.1 -0.1)\">\r\n       <use xlink:href=\"#DejaVuSans-48\"/>\r\n      </g>\r\n     </g>\r\n    </g>\r\n    <g id=\"ytick_2\">\r\n     <g id=\"line2d_14\">\r\n      <g>\r\n       <use style=\"stroke:#000000;stroke-width:0.8;\" x=\"40.275\" xlink:href=\"#mbd3b49c87c\" y=\"77.66\"/>\r\n      </g>\r\n     </g>\r\n     <g id=\"text_9\">\r\n      <!-- 1 -->\r\n      <g transform=\"translate(26.9125 81.459219)scale(0.1 -0.1)\">\r\n       <use xlink:href=\"#DejaVuSans-49\"/>\r\n      </g>\r\n     </g>\r\n    </g>\r\n    <g id=\"ytick_3\">\r\n     <g id=\"line2d_15\">\r\n      <g>\r\n       <use style=\"stroke:#000000;stroke-width:0.8;\" x=\"40.275\" xlink:href=\"#mbd3b49c87c\" y=\"107.42\"/>\r\n      </g>\r\n     </g>\r\n     <g id=\"text_10\">\r\n      <!-- 2 -->\r\n      <g transform=\"translate(26.9125 111.219219)scale(0.1 -0.1)\">\r\n       <use xlink:href=\"#DejaVuSans-50\"/>\r\n      </g>\r\n     </g>\r\n    </g>\r\n    <g id=\"ytick_4\">\r\n     <g id=\"line2d_16\">\r\n      <g>\r\n       <use style=\"stroke:#000000;stroke-width:0.8;\" x=\"40.275\" xlink:href=\"#mbd3b49c87c\" y=\"137.18\"/>\r\n      </g>\r\n     </g>\r\n     <g id=\"text_11\">\r\n      <!-- 3 -->\r\n      <g transform=\"translate(26.9125 140.979219)scale(0.1 -0.1)\">\r\n       <use xlink:href=\"#DejaVuSans-51\"/>\r\n      </g>\r\n     </g>\r\n    </g>\r\n    <g id=\"ytick_5\">\r\n     <g id=\"line2d_17\">\r\n      <g>\r\n       <use style=\"stroke:#000000;stroke-width:0.8;\" x=\"40.275\" xlink:href=\"#mbd3b49c87c\" y=\"166.94\"/>\r\n      </g>\r\n     </g>\r\n     <g id=\"text_12\">\r\n      <!-- 4 -->\r\n      <g transform=\"translate(26.9125 170.739219)scale(0.1 -0.1)\">\r\n       <use xlink:href=\"#DejaVuSans-52\"/>\r\n      </g>\r\n     </g>\r\n    </g>\r\n    <g id=\"ytick_6\">\r\n     <g id=\"line2d_18\">\r\n      <g>\r\n       <use style=\"stroke:#000000;stroke-width:0.8;\" x=\"40.275\" xlink:href=\"#mbd3b49c87c\" y=\"196.7\"/>\r\n      </g>\r\n     </g>\r\n     <g id=\"text_13\">\r\n      <!-- All -->\r\n      <g transform=\"translate(20.878125 200.499219)scale(0.1 -0.1)\">\r\n       <use xlink:href=\"#DejaVuSans-65\"/>\r\n       <use x=\"68.408203\" xlink:href=\"#DejaVuSans-108\"/>\r\n       <use x=\"96.191406\" xlink:href=\"#DejaVuSans-108\"/>\r\n      </g>\r\n     </g>\r\n    </g>\r\n    <g id=\"text_14\">\r\n     <!-- Actual -->\r\n     <defs>\r\n      <path d=\"M 8.5 21.578125 \r\nL 8.5 54.6875 \r\nL 17.484375 54.6875 \r\nL 17.484375 21.921875 \r\nQ 17.484375 14.15625 20.5 10.265625 \r\nQ 23.53125 6.390625 29.59375 6.390625 \r\nQ 36.859375 6.390625 41.078125 11.03125 \r\nQ 45.3125 15.671875 45.3125 23.6875 \r\nL 45.3125 54.6875 \r\nL 54.296875 54.6875 \r\nL 54.296875 0 \r\nL 45.3125 0 \r\nL 45.3125 8.40625 \r\nQ 42.046875 3.421875 37.71875 1 \r\nQ 33.40625 -1.421875 27.6875 -1.421875 \r\nQ 18.265625 -1.421875 13.375 4.4375 \r\nQ 8.5 10.296875 8.5 21.578125 \r\nz\r\nM 31.109375 56 \r\nz\r\n\" id=\"DejaVuSans-117\"/>\r\n      <path d=\"M 34.28125 27.484375 \r\nQ 23.390625 27.484375 19.1875 25 \r\nQ 14.984375 22.515625 14.984375 16.5 \r\nQ 14.984375 11.71875 18.140625 8.90625 \r\nQ 21.296875 6.109375 26.703125 6.109375 \r\nQ 34.1875 6.109375 38.703125 11.40625 \r\nQ 43.21875 16.703125 43.21875 25.484375 \r\nL 43.21875 27.484375 \r\nz\r\nM 52.203125 31.203125 \r\nL 52.203125 0 \r\nL 43.21875 0 \r\nL 43.21875 8.296875 \r\nQ 40.140625 3.328125 35.546875 0.953125 \r\nQ 30.953125 -1.421875 24.3125 -1.421875 \r\nQ 15.921875 -1.421875 10.953125 3.296875 \r\nQ 6 8.015625 6 15.921875 \r\nQ 6 25.140625 12.171875 29.828125 \r\nQ 18.359375 34.515625 30.609375 34.515625 \r\nL 43.21875 34.515625 \r\nL 43.21875 35.40625 \r\nQ 43.21875 41.609375 39.140625 45 \r\nQ 35.0625 48.390625 27.6875 48.390625 \r\nQ 23 48.390625 18.546875 47.265625 \r\nQ 14.109375 46.140625 10.015625 43.890625 \r\nL 10.015625 52.203125 \r\nQ 14.9375 54.109375 19.578125 55.046875 \r\nQ 24.21875 56 28.609375 56 \r\nQ 40.484375 56 46.34375 49.84375 \r\nQ 52.203125 43.703125 52.203125 31.203125 \r\nz\r\n\" id=\"DejaVuSans-97\"/>\r\n     </defs>\r\n     <g transform=\"translate(14.798438 138.050781)rotate(-90)scale(0.1 -0.1)\">\r\n      <use xlink:href=\"#DejaVuSans-65\"/>\r\n      <use x=\"68.392578\" xlink:href=\"#DejaVuSans-99\"/>\r\n      <use x=\"123.373047\" xlink:href=\"#DejaVuSans-116\"/>\r\n      <use x=\"162.582031\" xlink:href=\"#DejaVuSans-117\"/>\r\n      <use x=\"225.960938\" xlink:href=\"#DejaVuSans-97\"/>\r\n      <use x=\"287.240234\" xlink:href=\"#DejaVuSans-108\"/>\r\n     </g>\r\n    </g>\r\n   </g>\r\n   <g id=\"patch_3\">\r\n    <path d=\"M 40.275 211.58 \r\nL 40.275 33.02 \r\n\" style=\"fill:none;stroke:#000000;stroke-linecap:square;stroke-linejoin:miter;stroke-width:0.8;\"/>\r\n   </g>\r\n   <g id=\"patch_4\">\r\n    <path d=\"M 218.835 211.58 \r\nL 218.835 33.02 \r\n\" style=\"fill:none;stroke:#000000;stroke-linecap:square;stroke-linejoin:miter;stroke-width:0.8;\"/>\r\n   </g>\r\n   <g id=\"patch_5\">\r\n    <path d=\"M 40.275 211.58 \r\nL 218.835 211.58 \r\n\" style=\"fill:none;stroke:#000000;stroke-linecap:square;stroke-linejoin:miter;stroke-width:0.8;\"/>\r\n   </g>\r\n   <g id=\"patch_6\">\r\n    <path d=\"M 40.275 33.02 \r\nL 218.835 33.02 \r\n\" style=\"fill:none;stroke:#000000;stroke-linecap:square;stroke-linejoin:miter;stroke-width:0.8;\"/>\r\n   </g>\r\n  </g>\r\n  <g id=\"axes_2\">\r\n   <g id=\"patch_7\">\r\n    <path clip-path=\"url(#pe918078f61)\" d=\"M 229.995 233.9 \r\nL 229.995 233.028125 \r\nL 229.995 11.571875 \r\nL 229.995 10.7 \r\nL 241.155 10.7 \r\nL 241.155 11.571875 \r\nL 241.155 233.028125 \r\nL 241.155 233.9 \r\nz\r\n\" style=\"fill:#ffffff;stroke:#ffffff;stroke-linejoin:miter;stroke-width:0.01;\"/>\r\n   </g>\r\n   <image height=\"223\" id=\"imagee59a88f23d\" transform=\"scale(1 -1)translate(0 -223)\" width=\"11\" x=\"230\" xlink:href=\"data:image/png;base64,\r\niVBORw0KGgoAAAANSUhEUgAAAAsAAADfCAYAAAAgAykfAAAABHNCSVQICAgIfAhkiAAAAIJJREFUaIHt0LENwEAMw0A/kP1HltO6NFjlEaq+QuBJ0rXc0722P8BJvnDjRmw6jE03sTUwNh3GpsPYdBibbmJrYGw6jE2HsekwNt3E1sDYdBibDmPTYWy6ia2BsekwNh3GpsPYdBNbA2PTYWw6jE2HsekmtgbGpsPYdBhfmO5U1Vq/ig6cluUVXkIAAAAASUVORK5CYII=\" y=\"-10\"/>\r\n   <g id=\"matplotlib.axis_3\"/>\r\n   <g id=\"matplotlib.axis_4\">\r\n    <g id=\"ytick_7\">\r\n     <g id=\"line2d_19\">\r\n      <defs>\r\n       <path d=\"M 0 0 \r\nL 3.5 0 \r\n\" id=\"m5de474febe\" style=\"stroke:#000000;stroke-width:0.8;\"/>\r\n      </defs>\r\n      <g>\r\n       <use style=\"stroke:#000000;stroke-width:0.8;\" x=\"241.155\" xlink:href=\"#m5de474febe\" y=\"233.9\"/>\r\n      </g>\r\n     </g>\r\n     <g id=\"text_15\">\r\n      <!-- 0 -->\r\n      <g transform=\"translate(248.155 237.699219)scale(0.1 -0.1)\">\r\n       <use xlink:href=\"#DejaVuSans-48\"/>\r\n      </g>\r\n     </g>\r\n    </g>\r\n    <g id=\"ytick_8\">\r\n     <g id=\"line2d_20\">\r\n      <g>\r\n       <use style=\"stroke:#000000;stroke-width:0.8;\" x=\"241.155\" xlink:href=\"#m5de474febe\" y=\"194.042857\"/>\r\n      </g>\r\n     </g>\r\n     <g id=\"text_16\">\r\n      <!-- 10 -->\r\n      <g transform=\"translate(248.155 197.842076)scale(0.1 -0.1)\">\r\n       <use xlink:href=\"#DejaVuSans-49\"/>\r\n       <use x=\"63.623047\" xlink:href=\"#DejaVuSans-48\"/>\r\n      </g>\r\n     </g>\r\n    </g>\r\n    <g id=\"ytick_9\">\r\n     <g id=\"line2d_21\">\r\n      <g>\r\n       <use style=\"stroke:#000000;stroke-width:0.8;\" x=\"241.155\" xlink:href=\"#m5de474febe\" y=\"154.185714\"/>\r\n      </g>\r\n     </g>\r\n     <g id=\"text_17\">\r\n      <!-- 20 -->\r\n      <g transform=\"translate(248.155 157.984933)scale(0.1 -0.1)\">\r\n       <use xlink:href=\"#DejaVuSans-50\"/>\r\n       <use x=\"63.623047\" xlink:href=\"#DejaVuSans-48\"/>\r\n      </g>\r\n     </g>\r\n    </g>\r\n    <g id=\"ytick_10\">\r\n     <g id=\"line2d_22\">\r\n      <g>\r\n       <use style=\"stroke:#000000;stroke-width:0.8;\" x=\"241.155\" xlink:href=\"#m5de474febe\" y=\"114.328571\"/>\r\n      </g>\r\n     </g>\r\n     <g id=\"text_18\">\r\n      <!-- 30 -->\r\n      <g transform=\"translate(248.155 118.12779)scale(0.1 -0.1)\">\r\n       <use xlink:href=\"#DejaVuSans-51\"/>\r\n       <use x=\"63.623047\" xlink:href=\"#DejaVuSans-48\"/>\r\n      </g>\r\n     </g>\r\n    </g>\r\n    <g id=\"ytick_11\">\r\n     <g id=\"line2d_23\">\r\n      <g>\r\n       <use style=\"stroke:#000000;stroke-width:0.8;\" x=\"241.155\" xlink:href=\"#m5de474febe\" y=\"74.471429\"/>\r\n      </g>\r\n     </g>\r\n     <g id=\"text_19\">\r\n      <!-- 40 -->\r\n      <g transform=\"translate(248.155 78.270647)scale(0.1 -0.1)\">\r\n       <use xlink:href=\"#DejaVuSans-52\"/>\r\n       <use x=\"63.623047\" xlink:href=\"#DejaVuSans-48\"/>\r\n      </g>\r\n     </g>\r\n    </g>\r\n    <g id=\"ytick_12\">\r\n     <g id=\"line2d_24\">\r\n      <g>\r\n       <use style=\"stroke:#000000;stroke-width:0.8;\" x=\"241.155\" xlink:href=\"#m5de474febe\" y=\"34.614286\"/>\r\n      </g>\r\n     </g>\r\n     <g id=\"text_20\">\r\n      <!-- 50 -->\r\n      <defs>\r\n       <path d=\"M 10.796875 72.90625 \r\nL 49.515625 72.90625 \r\nL 49.515625 64.59375 \r\nL 19.828125 64.59375 \r\nL 19.828125 46.734375 \r\nQ 21.96875 47.46875 24.109375 47.828125 \r\nQ 26.265625 48.1875 28.421875 48.1875 \r\nQ 40.625 48.1875 47.75 41.5 \r\nQ 54.890625 34.8125 54.890625 23.390625 \r\nQ 54.890625 11.625 47.5625 5.09375 \r\nQ 40.234375 -1.421875 26.90625 -1.421875 \r\nQ 22.3125 -1.421875 17.546875 -0.640625 \r\nQ 12.796875 0.140625 7.71875 1.703125 \r\nL 7.71875 11.625 \r\nQ 12.109375 9.234375 16.796875 8.0625 \r\nQ 21.484375 6.890625 26.703125 6.890625 \r\nQ 35.15625 6.890625 40.078125 11.328125 \r\nQ 45.015625 15.765625 45.015625 23.390625 \r\nQ 45.015625 31 40.078125 35.4375 \r\nQ 35.15625 39.890625 26.703125 39.890625 \r\nQ 22.75 39.890625 18.8125 39.015625 \r\nQ 14.890625 38.140625 10.796875 36.28125 \r\nz\r\n\" id=\"DejaVuSans-53\"/>\r\n      </defs>\r\n      <g transform=\"translate(248.155 38.413504)scale(0.1 -0.1)\">\r\n       <use xlink:href=\"#DejaVuSans-53\"/>\r\n       <use x=\"63.623047\" xlink:href=\"#DejaVuSans-48\"/>\r\n      </g>\r\n     </g>\r\n    </g>\r\n   </g>\r\n   <g id=\"patch_8\">\r\n    <path d=\"M 229.995 233.9 \r\nL 229.995 233.028125 \r\nL 229.995 11.571875 \r\nL 229.995 10.7 \r\nL 241.155 10.7 \r\nL 241.155 11.571875 \r\nL 241.155 233.028125 \r\nL 241.155 233.9 \r\nz\r\n\" style=\"fill:none;stroke:#000000;stroke-linejoin:miter;stroke-width:0.8;\"/>\r\n   </g>\r\n  </g>\r\n </g>\r\n <defs>\r\n  <clipPath id=\"p81424cf945\">\r\n   <rect height=\"178.56\" width=\"178.56\" x=\"40.275\" y=\"33.02\"/>\r\n  </clipPath>\r\n  <clipPath id=\"pe918078f61\">\r\n   <rect height=\"223.2\" width=\"11.16\" x=\"229.995\" y=\"10.7\"/>\r\n  </clipPath>\r\n </defs>\r\n</svg>\r\n",
      "text/plain": "<Figure size 288x288 with 2 Axes>"
     },
     "metadata": {
      "needs_background": "light"
     },
     "output_type": "display_data"
    }
   ],
   "source": [
    "emo_utils.plot_confusion_matrix(Y_test, y_hat, title='Confusion matrix', cmap=plt.cm.gray_r)"
   ]
  },
  {
   "cell_type": "code",
   "execution_count": 38,
   "metadata": {},
   "outputs": [
    {
     "name": "stdout",
     "output_type": "stream",
     "text": "Predicted  0  1   2   3  4  All\nActual                         \n0          6  0   0   1  0    7\n1          0  8   0   0  0    8\n2          2  0  16   0  0   18\n3          0  1   1  14  0   16\n4          0  0   0   0  7    7\nAll        8  9  17  15  7   56\n"
    }
   ],
   "source": [
    "import pandas as pd\n",
    "print(pd.crosstab(Y_test, y_hat, rownames=['Actual'], colnames=['Predicted'], margins=True))"
   ]
  },
  {
   "cell_type": "code",
   "execution_count": 35,
   "metadata": {},
   "outputs": [
    {
     "name": "stdout",
     "output_type": "stream",
     "text": "Accuracy: 0.8333333333333334\n\ni adore you ❤️\ni love you ❤️\nfunny lol 😄\nlets play with a ball ⚾\nfood is ready 🍴\nyou are not happy ❤️\n"
    }
   ],
   "source": [
    "my_X = np.array([\"i adore you\", \"i love you\", \"funny lol\", \"lets play with a ball\", \"food is ready\", \"you are not happy\"])\n",
    "my_Y = np.array([0, 0, 2, 1, 4, 3])\n",
    "pred = predict(my_X, my_Y, W, b)\n",
    "emo_utils.print_predictions(my_X, pred)"
   ]
  },
  {
   "cell_type": "markdown",
   "execution_count": null,
   "metadata": {},
   "outputs": [],
   "source": [
    "## Emojifiter-V2 with LSTM"
   ]
  },
  {
   "cell_type": "code",
   "execution_count": 53,
   "metadata": {},
   "outputs": [],
   "source": [
    "import keras\n",
    "from keras.models import Model\n",
    "from keras.layers import Dense, Input, Dropout, LSTM\n",
    "from keras.layers.embeddings import Embedding\n",
    "from keras.initializers import Constant"
   ]
  },
  {
   "cell_type": "code",
   "execution_count": 43,
   "metadata": {},
   "outputs": [],
   "source": [
    "def sentences_to_indices(X, word_to_index=word_to_index, maxlen=maxlen):\n",
    "\n",
    "    '''X - sentence array(m, )\n",
    "    return X_indices - (m, maxlen)'''\n",
    "\n",
    "    m = X.shape[0]\n",
    "    X_indices = np.zeros((m, maxlen))\n",
    "    for i in range(m):\n",
    "        x = X[i].lower().split()\n",
    "        l = len(x)\n",
    "        x_indices = [word_to_index[w] for w in x]\n",
    "        X_indices[i][:l] = x_indices\n",
    "\n",
    "    return X_indices"
   ]
  },
  {
   "cell_type": "code",
   "execution_count": 46,
   "metadata": {},
   "outputs": [
    {
     "name": "stdout",
     "output_type": "stream",
     "text": "[[185457. 226278. 394475.      0.      0.      0.      0.      0.      0.\n       0.]\n [185457. 174339. 394475.      0.      0.      0.      0.      0.      0.\n       0.]\n [185457.  52943. 336114. 188347.  88126. 394565. 119051. 360915. 358160.\n  293229.]]\n"
    }
   ],
   "source": [
    "print(sentences_to_indices(np.array(['i love you', 'i hate you', 'I am so impressed by your dedication to this project'])))"
   ]
  },
  {
   "cell_type": "code",
   "execution_count": 62,
   "metadata": {},
   "outputs": [],
   "source": [
    "def pretrained_embedding_layer(word_to_vec_map=word_to_vec_map, word_to_index=word_to_index):\n",
    "\n",
    "    '''return embedding_layer'''\n",
    "\n",
    "    input_dim = len(word_to_index) + 1  # vocab length (add 0: None)\n",
    "    output_dim = word_to_vec_map['love'].shape[0]   # word vector length: 50\n",
    "    # sequence_length = input_length = maxlen\n",
    "    \n",
    "    emb_matrix = np.zeros((input_dim, output_dim))\n",
    "\n",
    "    for word, index in word_to_index.items():\n",
    "        emb_matrix[index] = word_to_vec_map[word]\n",
    "\n",
    "    embedding_layer = Embedding(input_dim, output_dim, embeddings_initializer=Constant(value=emb_matrix), trainable=False)\n",
    "    \n",
    "    return embedding_layer"
   ]
  },
  {
   "cell_type": "code",
   "execution_count": 69,
   "metadata": {},
   "outputs": [],
   "source": [
    "def Emojify_V2(input_shape=(10,), word_to_vec_map=word_to_vec_map, word_to_index=word_to_index):\n",
    "\n",
    "    '''input_shape - without batchsize, (sequence_length,)\n",
    "    return model'''\n",
    "\n",
    "    sentence_indices = Input(input_shape)\n",
    "    embedding_layer = pretrained_embedding_layer()\n",
    "    embeddings = embedding_layer(sentence_indices)\n",
    "    x = LSTM(128, return_sequences=True)(embeddings)\n",
    "    x = Dropout(0.5)(x)\n",
    "    x = LSTM(128, return_sequences=False)(x)\n",
    "    x = Dropout(0.5)(x)\n",
    "    x = Dense(5, activation='softmax')(x)\n",
    "    model = Model(inputs=sentence_indices, outputs=x)\n",
    "\n",
    "    return model"
   ]
  },
  {
   "cell_type": "code",
   "execution_count": 72,
   "metadata": {},
   "outputs": [
    {
     "name": "stdout",
     "output_type": "stream",
     "text": "WARNING:tensorflow:From C:\\Users\\Administrator\\Anaconda3\\lib\\site-packages\\keras\\backend\\tensorflow_backend.py:3445: calling dropout (from tensorflow.python.ops.nn_ops) with keep_prob is deprecated and will be removed in a future version.\nInstructions for updating:\nPlease use `rate` instead of `keep_prob`. Rate should be set to `rate = 1 - keep_prob`.\n_________________________________________________________________\nLayer (type)                 Output Shape              Param #   \n=================================================================\ninput_1 (InputLayer)         (None, 10)                0         \n_________________________________________________________________\nembedding_6 (Embedding)      (None, 10, 50)            20000050  \n_________________________________________________________________\nlstm_1 (LSTM)                (None, 10, 128)           91648     \n_________________________________________________________________\ndropout_1 (Dropout)          (None, 10, 128)           0         \n_________________________________________________________________\nlstm_2 (LSTM)                (None, 128)               131584    \n_________________________________________________________________\ndropout_2 (Dropout)          (None, 128)               0         \n_________________________________________________________________\ndense_1 (Dense)              (None, 5)                 645       \n=================================================================\nTotal params: 20,223,927\nTrainable params: 223,877\nNon-trainable params: 20,000,050\n_________________________________________________________________\n"
    }
   ],
   "source": [
    "model = Emojify_V2()\n",
    "model.summary()"
   ]
  },
  {
   "cell_type": "code",
   "execution_count": 73,
   "metadata": {},
   "outputs": [
    {
     "name": "stdout",
     "output_type": "stream",
     "text": "WARNING:tensorflow:From C:\\Users\\Administrator\\Anaconda3\\lib\\site-packages\\keras\\optimizers.py:790: The name tf.train.Optimizer is deprecated. Please use tf.compat.v1.train.Optimizer instead.\n\n"
    }
   ],
   "source": [
    "model.compile(loss='categorical_crossentropy', optimizer='adam', metrics=['accuracy'])"
   ]
  },
  {
   "cell_type": "code",
   "execution_count": 75,
   "metadata": {},
   "outputs": [
    {
     "name": "stdout",
     "output_type": "stream",
     "text": "WARNING:tensorflow:From C:\\Users\\Administrator\\Anaconda3\\lib\\site-packages\\tensorflow\\python\\ops\\math_grad.py:1250: add_dispatch_support.<locals>.wrapper (from tensorflow.python.ops.array_ops) is deprecated and will be removed in a future version.\nInstructions for updating:\nUse tf.where in 2.0, which has the same broadcast rule as np.where\nEpoch 1/50\n132/132 [==============================] - 9s 65ms/step - loss: 1.5772 - acc: 0.2803\nEpoch 2/50\n132/132 [==============================] - 1s 5ms/step - loss: 1.5141 - acc: 0.3106\nEpoch 3/50\n132/132 [==============================] - 1s 4ms/step - loss: 1.4844 - acc: 0.3561\nEpoch 4/50\n132/132 [==============================] - 1s 5ms/step - loss: 1.3852 - acc: 0.5227\nEpoch 5/50\n132/132 [==============================] - 1s 5ms/step - loss: 1.3115 - acc: 0.5455\nEpoch 6/50\n132/132 [==============================] - 1s 4ms/step - loss: 1.1960 - acc: 0.5985\nEpoch 7/50\n132/132 [==============================] - 1s 5ms/step - loss: 1.0635 - acc: 0.6288\nEpoch 8/50\n132/132 [==============================] - 1s 5ms/step - loss: 0.8655 - acc: 0.7121\nEpoch 9/50\n132/132 [==============================] - 1s 6ms/step - loss: 0.9126 - acc: 0.6515\nEpoch 10/50\n132/132 [==============================] - 1s 5ms/step - loss: 0.7419 - acc: 0.7197\nEpoch 11/50\n132/132 [==============================] - 1s 4ms/step - loss: 0.6972 - acc: 0.7348\nEpoch 12/50\n132/132 [==============================] - 1s 4ms/step - loss: 0.6088 - acc: 0.7727\nEpoch 13/50\n132/132 [==============================] - 1s 4ms/step - loss: 0.6349 - acc: 0.7273\nEpoch 14/50\n132/132 [==============================] - 1s 4ms/step - loss: 0.5335 - acc: 0.8106\nEpoch 15/50\n132/132 [==============================] - 1s 5ms/step - loss: 0.5265 - acc: 0.8030\nEpoch 16/50\n132/132 [==============================] - 1s 6ms/step - loss: 0.4990 - acc: 0.8258\nEpoch 17/50\n132/132 [==============================] - 1s 5ms/step - loss: 0.5170 - acc: 0.8182\nEpoch 18/50\n132/132 [==============================] - 1s 6ms/step - loss: 0.3792 - acc: 0.8712\nEpoch 19/50\n132/132 [==============================] - 1s 5ms/step - loss: 0.3338 - acc: 0.9015\nEpoch 20/50\n132/132 [==============================] - 1s 5ms/step - loss: 0.3173 - acc: 0.9091\nEpoch 21/50\n132/132 [==============================] - 1s 9ms/step - loss: 0.2636 - acc: 0.9167\nEpoch 22/50\n132/132 [==============================] - 1s 5ms/step - loss: 0.2523 - acc: 0.9015\nEpoch 23/50\n132/132 [==============================] - 1s 5ms/step - loss: 0.1786 - acc: 0.9470\nEpoch 24/50\n132/132 [==============================] - 1s 4ms/step - loss: 0.1909 - acc: 0.9470\nEpoch 25/50\n132/132 [==============================] - 1s 5ms/step - loss: 0.4404 - acc: 0.8712\nEpoch 26/50\n132/132 [==============================] - 1s 5ms/step - loss: 0.3362 - acc: 0.8636\nEpoch 27/50\n132/132 [==============================] - 1s 5ms/step - loss: 0.2514 - acc: 0.9167\nEpoch 28/50\n132/132 [==============================] - 1s 5ms/step - loss: 0.3338 - acc: 0.8864\nEpoch 29/50\n132/132 [==============================] - 1s 5ms/step - loss: 0.2141 - acc: 0.8939\nEpoch 30/50\n132/132 [==============================] - 1s 5ms/step - loss: 0.1965 - acc: 0.9242\nEpoch 31/50\n132/132 [==============================] - 1s 6ms/step - loss: 0.1803 - acc: 0.9394\nEpoch 32/50\n132/132 [==============================] - 1s 5ms/step - loss: 0.1476 - acc: 0.9545\nEpoch 33/50\n132/132 [==============================] - 1s 6ms/step - loss: 0.1394 - acc: 0.9773\nEpoch 34/50\n132/132 [==============================] - 1s 6ms/step - loss: 0.1337 - acc: 0.9621\nEpoch 35/50\n132/132 [==============================] - 1s 4ms/step - loss: 0.1018 - acc: 0.9848\nEpoch 36/50\n132/132 [==============================] - 1s 4ms/step - loss: 0.2826 - acc: 0.9242\nEpoch 37/50\n132/132 [==============================] - 1s 5ms/step - loss: 0.3491 - acc: 0.8864\nEpoch 38/50\n132/132 [==============================] - 1s 4ms/step - loss: 0.5103 - acc: 0.8409\nEpoch 39/50\n132/132 [==============================] - 1s 5ms/step - loss: 0.2605 - acc: 0.9015\nEpoch 40/50\n132/132 [==============================] - 1s 6ms/step - loss: 0.1825 - acc: 0.9394\nEpoch 41/50\n132/132 [==============================] - 1s 4ms/step - loss: 0.1088 - acc: 0.9773\nEpoch 42/50\n132/132 [==============================] - 1s 5ms/step - loss: 0.1105 - acc: 0.9848\nEpoch 43/50\n132/132 [==============================] - 1s 4ms/step - loss: 0.1142 - acc: 0.9621\nEpoch 44/50\n132/132 [==============================] - 1s 4ms/step - loss: 0.1063 - acc: 0.9773\nEpoch 45/50\n132/132 [==============================] - 1s 9ms/step - loss: 0.0840 - acc: 0.9848\nEpoch 46/50\n132/132 [==============================] - 1s 5ms/step - loss: 0.0683 - acc: 0.9848\nEpoch 47/50\n132/132 [==============================] - 1s 4ms/step - loss: 0.0652 - acc: 0.9848\nEpoch 48/50\n132/132 [==============================] - 1s 4ms/step - loss: 0.0779 - acc: 0.9697\nEpoch 49/50\n132/132 [==============================] - 1s 5ms/step - loss: 0.0361 - acc: 1.0000\nEpoch 50/50\n132/132 [==============================] - 1s 5ms/step - loss: 0.0661 - acc: 0.9773\n"
    },
    {
     "data": {
      "text/plain": "<keras.callbacks.History at 0x23eb3e61d30>"
     },
     "execution_count": 75,
     "metadata": {},
     "output_type": "execute_result"
    }
   ],
   "source": [
    "X_train_indices = sentences_to_indices(X_train) # (None, maxlen)\n",
    "model.fit(X_train_indices, Y_oh_train, epochs=50, batch_size=32, shuffle=True)"
   ]
  },
  {
   "cell_type": "code",
   "execution_count": 76,
   "metadata": {},
   "outputs": [
    {
     "name": "stdout",
     "output_type": "stream",
     "text": "56/56 [==============================] - 1s 20ms/step\ntest accuracy = 0.875\n"
    }
   ],
   "source": [
    "X_test_indices = sentences_to_indices(X_test)\n",
    "loss, acc = model.evaluate(X_test_indices, Y_oh_test)\n",
    "print(f'test accuracy = {acc}') "
   ]
  },
  {
   "cell_type": "code",
   "execution_count": 81,
   "metadata": {},
   "outputs": [
    {
     "name": "stdout",
     "output_type": "stream",
     "text": "Actual: 😞\tPredict: This girl is messing with me\t❤️\nActual: ❤️\tPredict: I love taking breaks\t😞\nActual: 😄\tPredict: you brighten my day\t❤️\nActual: 😞\tPredict: she is a bully\t❤️\nActual: 😞\tPredict: My life is so boring\t❤️\nActual: 😄\tPredict: will you be my valentine\t❤️\nActual: 😞\tPredict: go away\t⚾\n"
    }
   ],
   "source": [
    "pred = model.predict(X_test_indices)    # (None, 5), Y_test - (None,)\n",
    "y_pred = np.argmax(pred, axis=1) # (None,)\n",
    "for i in range(len(Y_test)):\n",
    "    if y_pred[i] != Y_test[i]:\n",
    "        print(f'Actual: {emo_utils.label_to_emoji(Y_test[i])}\\tPredict: {X_test[i]}{emo_utils.label_to_emoji(y_pred[i])}')"
   ]
  },
  {
   "cell_type": "code",
   "execution_count": 86,
   "metadata": {},
   "outputs": [
    {
     "name": "stdout",
     "output_type": "stream",
     "text": "Actual: ❤️\tPredict: i adore you ❤️\nActual: ❤️\tPredict: i love you ❤️\nActual: 😄\tPredict: funny lol 😄\nActual: ⚾\tPredict: lets play with a ball ⚾\nActual: 🍴\tPredict: food is ready 🍴\nActual: 😞\tPredict: you are not happy 😞\n"
    }
   ],
   "source": [
    "my_X = np.array([\"i adore you\", \"i love you\", \"funny lol\", \"lets play with a ball\", \"food is ready\", \"you are not happy\"])\n",
    "my_X_indices = sentences_to_indices(my_X)\n",
    "my_Y = np.array([0, 0, 2, 1, 4, 3])\n",
    "pred = model.predict(my_X_indices)\n",
    "y_pred = np.argmax(pred, axis=1) # (None,)\n",
    "for i in range(len(my_Y)):\n",
    "    print(f'Actual: {emo_utils.label_to_emoji(my_Y[i])}\\tPredict: {my_X[i]} {emo_utils.label_to_emoji(y_pred[i])}')"
   ]
  },
  {
   "cell_type": "markdown",
   "execution_count": 87,
   "metadata": {},
   "outputs": [],
   "source": [
    "### LSTM-Model seems solve the problem AvgDNN-Model had at 'you are not happy'."
   ]
  },
  {
   "cell_type": "code",
   "execution_count": null,
   "metadata": {},
   "outputs": [],
   "source": []
  }
 ]
}