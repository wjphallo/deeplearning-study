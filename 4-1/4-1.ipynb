{
 "nbformat": 4,
 "nbformat_minor": 2,
 "metadata": {
  "language_info": {
   "name": "python",
   "codemirror_mode": {
    "name": "ipython",
    "version": 3
   },
   "version": "3.7.3"
  },
  "orig_nbformat": 2,
  "file_extension": ".py",
  "mimetype": "text/x-python",
  "name": "python",
  "npconvert_exporter": "python",
  "pygments_lexer": "ipython3",
  "version": 3
 },
 "cells": [
  {
   "cell_type": "code",
   "execution_count": 1,
   "metadata": {},
   "outputs": [],
   "source": [
    "import numpy as np\n",
    "import h5py\n",
    "import matplotlib.pyplot as plt\n"
   ]
  },
  {
   "cell_type": "code",
   "execution_count": 2,
   "metadata": {},
   "outputs": [
    {
     "name": "stdout",
     "output_type": "stream",
     "text": "a:\n[[[ 1  2  3  4  5  6]\n  [ 7  8  9 10 11 12]\n  [13 14 15 16 17 18]]\n\n [[19 20 21 22 23 24]\n  [25 26 27 28 29 30]\n  [31 32 33 34 35 36]]\n\n [[37 38 39 40 41 42]\n  [43 44 45 46 47 48]\n  [49 50 51 52 53 54]]]\nb:\n[[[ 0  0  0  0  0  0  0  0  0  0]\n  [ 0  0  0  0  0  0  0  0  0  0]\n  [ 0  0  0  0  0  0  0  0  0  0]\n  [ 0  0  0  0  0  0  0  0  0  0]\n  [ 0  0  0  0  0  0  0  0  0  0]]\n\n [[ 0  0  0  0  0  0  0  0  0  0]\n  [ 0  0  1  2  3  4  5  6  0  0]\n  [ 0  0  7  8  9 10 11 12  0  0]\n  [ 0  0 13 14 15 16 17 18  0  0]\n  [ 0  0  0  0  0  0  0  0  0  0]]\n\n [[ 0  0  0  0  0  0  0  0  0  0]\n  [ 0  0 19 20 21 22 23 24  0  0]\n  [ 0  0 25 26 27 28 29 30  0  0]\n  [ 0  0 31 32 33 34 35 36  0  0]\n  [ 0  0  0  0  0  0  0  0  0  0]]\n\n [[ 0  0  0  0  0  0  0  0  0  0]\n  [ 0  0 37 38 39 40 41 42  0  0]\n  [ 0  0 43 44 45 46 47 48  0  0]\n  [ 0  0 49 50 51 52 53 54  0  0]\n  [ 0  0  0  0  0  0  0  0  0  0]]\n\n [[ 0  0  0  0  0  0  0  0  0  0]\n  [ 0  0  0  0  0  0  0  0  0  0]\n  [ 0  0  0  0  0  0  0  0  0  0]\n  [ 0  0  0  0  0  0  0  0  0  0]\n  [ 0  0  0  0  0  0  0  0  0  0]]]\na':\n[[[ 1  2  3  4  5  6]\n  [ 7  8  9 10 11 12]\n  [13 14 15 16 17 18]]\n\n [[19 20 21 22 23 24]\n  [25 26 27 28 29 30]\n  [31 32 33 34 35 36]]\n\n [[37 38 39 40 41 42]\n  [43 44 45 46 47 48]\n  [49 50 51 52 53 54]]]\n"
    }
   ],
   "source": [
    "a = np.arange(1,55).reshape((3,3,6))\n",
    "print(f'a:\\n{a}')\n",
    "b = np.pad(a, ((1,1),(1,1),(2,2)), 'constant')\n",
    "print(f'b:\\n{b}')\n",
    "print(f'a\\':\\n{a}')"
   ]
  },
  {
   "cell_type": "code",
   "execution_count": 3,
   "metadata": {},
   "outputs": [],
   "source": [
    "def padding(X, pad):\n",
    "    \n",
    "    '''\n",
    "    X - 4-d array, 0d:m_samples, 1d:height, 2d:width, 3d:channels\n",
    "    pad - int, padding in both height and width\n",
    "    '''\n",
    "\n",
    "    X_padding = np.pad(\n",
    "        X,\n",
    "        (\n",
    "            (0,0),      # 0d: m_samples\n",
    "            (pad,pad),  # 1d: height\n",
    "            (pad,pad),  # 2d: width\n",
    "            (0,0)),     # 3d: channels\n",
    "        'constant')\n",
    "    \n",
    "    return X_padding"
   ]
  },
  {
   "cell_type": "code",
   "execution_count": 4,
   "metadata": {},
   "outputs": [
    {
     "name": "stdout",
     "output_type": "stream",
     "text": "a: (1, 3, 6, 3)\n[[[[151 152 153]\n   [154 155 156]\n   [157 158 159]\n   [160 161 162]\n   [163 164 165]\n   [166 167 168]]\n\n  [[169 170 171]\n   [172 173 174]\n   [175 176 177]\n   [178 179 180]\n   [181 182 183]\n   [184 185 186]]\n\n  [[187 188 189]\n   [190 191 192]\n   [193 194 195]\n   [196 197 198]\n   [199 200 201]\n   [202 203 204]]]]\na_padding: (1, 7, 10, 3)\n[[[[  0   0   0]\n   [  0   0   0]\n   [  0   0   0]\n   [  0   0   0]\n   [  0   0   0]\n   [  0   0   0]\n   [  0   0   0]\n   [  0   0   0]\n   [  0   0   0]\n   [  0   0   0]]\n\n  [[  0   0   0]\n   [  0   0   0]\n   [  0   0   0]\n   [  0   0   0]\n   [  0   0   0]\n   [  0   0   0]\n   [  0   0   0]\n   [  0   0   0]\n   [  0   0   0]\n   [  0   0   0]]\n\n  [[  0   0   0]\n   [  0   0   0]\n   [151 152 153]\n   [154 155 156]\n   [157 158 159]\n   [160 161 162]\n   [163 164 165]\n   [166 167 168]\n   [  0   0   0]\n   [  0   0   0]]\n\n  [[  0   0   0]\n   [  0   0   0]\n   [169 170 171]\n   [172 173 174]\n   [175 176 177]\n   [178 179 180]\n   [181 182 183]\n   [184 185 186]\n   [  0   0   0]\n   [  0   0   0]]\n\n  [[  0   0   0]\n   [  0   0   0]\n   [187 188 189]\n   [190 191 192]\n   [193 194 195]\n   [196 197 198]\n   [199 200 201]\n   [202 203 204]\n   [  0   0   0]\n   [  0   0   0]]\n\n  [[  0   0   0]\n   [  0   0   0]\n   [  0   0   0]\n   [  0   0   0]\n   [  0   0   0]\n   [  0   0   0]\n   [  0   0   0]\n   [  0   0   0]\n   [  0   0   0]\n   [  0   0   0]]\n\n  [[  0   0   0]\n   [  0   0   0]\n   [  0   0   0]\n   [  0   0   0]\n   [  0   0   0]\n   [  0   0   0]\n   [  0   0   0]\n   [  0   0   0]\n   [  0   0   0]\n   [  0   0   0]]]]\n"
    }
   ],
   "source": [
    "a = a.reshape((1,3,6,3)) + 150\n",
    "print(f'a: {a.shape}\\n{a}')\n",
    "a_padding = padding(a, 2)\n",
    "print(f'a_padding: {a_padding.shape}\\n{a_padding}')"
   ]
  },
  {
   "cell_type": "code",
   "execution_count": 5,
   "metadata": {},
   "outputs": [
    {
     "data": {
      "text/plain": "<matplotlib.image.AxesImage at 0x22183a1ec88>"
     },
     "execution_count": 5,
     "metadata": {},
     "output_type": "execute_result"
    },
    {
     "data": {
      "image/png": "[encoded data removed]",
      "image/svg+xml": "<?xml version=\"1.0\" encoding=\"utf-8\" standalone=\"no\"?>\r\n<!DOCTYPE svg PUBLIC \"-//W3C//DTD SVG 1.1//EN\"\r\n  \"http://www.w3.org/Graphics/SVG/1.1/DTD/svg11.dtd\">\r\n<!-- Created with matplotlib (https://matplotlib.org/) -->\r\n<svg height=\"152.723523pt\" version=\"1.1\" viewBox=\"0 0 366.0625 152.723523\" width=\"366.0625pt\" xmlns=\"http://www.w3.org/2000/svg\" xmlns:xlink=\"http://www.w3.org/1999/xlink\">\r\n <defs>\r\n  <style type=\"text/css\">\r\n*{stroke-linecap:butt;stroke-linejoin:round;}\r\n  </style>\r\n </defs>\r\n <g id=\"figure_1\">\r\n  <g id=\"patch_1\">\r\n   <path d=\"M 0 152.723523 \r\nL 366.0625 152.723523 \r\nL 366.0625 0 \r\nL 0 0 \r\nz\r\n\" style=\"fill:none;\"/>\r\n  </g>\r\n  <g id=\"axes_1\">\r\n   <g id=\"patch_2\">\r\n    <path d=\"M 20.5625 113.627216 \r\nL 172.744318 113.627216 \r\nL 172.744318 37.536307 \r\nL 20.5625 37.536307 \r\nz\r\n\" style=\"fill:#ffffff;\"/>\r\n   </g>\r\n   <g clip-path=\"url(#pd77ef20157)\">\r\n    <image height=\"77\" id=\"imagebdd227b1b4\" transform=\"scale(1 -1)translate(0 -77)\" width=\"153\" x=\"20.5625\" xlink:href=\"data:image/png;base64,\r\niVBORw0KGgoAAAANSUhEUgAAAJkAAABNCAYAAAC188aDAAAABHNCSVQICAgIfAhkiAAAAQBJREFUeJzt28ENg0AQBEHMOf+EbFK6FHAMfvQJQVUCo5X6u6/P9zi32Bijnli245b/7UtWeDSRkRMZOZGRExk5kZETGTmRkRMZOZGRExk5kZETGTmRkRMZOZGRExk5kZETGTmRkRMZOZGRExk5kZETGbn3nDMf8XV9zR0f5NyGyMiJjJzIyImMnMjIiYycyMiJjJzIyImMnMjIiYycyMiJjJzIyImMnMjIiYycyMiJjJzIyImMnMjIee694MaqHc+93IbIyImMnMjIiYycyMiJjJzIyImMnMjIiYycyMiJjJzIyImMnMjIiYycyMiJjJzIyImMnMjIiYycyMiJjNwPH8UJ7EEpNAIAAAAASUVORK5CYII=\" y=\"-36.627216\"/>\r\n   </g>\r\n   <g id=\"matplotlib.axis_1\">\r\n    <g id=\"xtick_1\">\r\n     <g id=\"line2d_1\">\r\n      <defs>\r\n       <path d=\"M 0 0 \r\nL 0 3.5 \r\n\" id=\"m1df33c883d\" style=\"stroke:#000000;stroke-width:0.8;\"/>\r\n      </defs>\r\n      <g>\r\n       <use style=\"stroke:#000000;stroke-width:0.8;\" x=\"33.244318\" xlink:href=\"#m1df33c883d\" y=\"113.627216\"/>\r\n      </g>\r\n     </g>\r\n     <g id=\"text_1\">\r\n      <!-- 0 -->\r\n      <defs>\r\n       <path d=\"M 31.78125 66.40625 \r\nQ 24.171875 66.40625 20.328125 58.90625 \r\nQ 16.5 51.421875 16.5 36.375 \r\nQ 16.5 21.390625 20.328125 13.890625 \r\nQ 24.171875 6.390625 31.78125 6.390625 \r\nQ 39.453125 6.390625 43.28125 13.890625 \r\nQ 47.125 21.390625 47.125 36.375 \r\nQ 47.125 51.421875 43.28125 58.90625 \r\nQ 39.453125 66.40625 31.78125 66.40625 \r\nz\r\nM 31.78125 74.21875 \r\nQ 44.046875 74.21875 50.515625 64.515625 \r\nQ 56.984375 54.828125 56.984375 36.375 \r\nQ 56.984375 17.96875 50.515625 8.265625 \r\nQ 44.046875 -1.421875 31.78125 -1.421875 \r\nQ 19.53125 -1.421875 13.0625 8.265625 \r\nQ 6.59375 17.96875 6.59375 36.375 \r\nQ 6.59375 54.828125 13.0625 64.515625 \r\nQ 19.53125 74.21875 31.78125 74.21875 \r\nz\r\n\" id=\"DejaVuSans-48\"/>\r\n      </defs>\r\n      <g transform=\"translate(30.063068 128.225653)scale(0.1 -0.1)\">\r\n       <use xlink:href=\"#DejaVuSans-48\"/>\r\n      </g>\r\n     </g>\r\n    </g>\r\n    <g id=\"xtick_2\">\r\n     <g id=\"line2d_2\">\r\n      <g>\r\n       <use style=\"stroke:#000000;stroke-width:0.8;\" x=\"83.971591\" xlink:href=\"#m1df33c883d\" y=\"113.627216\"/>\r\n      </g>\r\n     </g>\r\n     <g id=\"text_2\">\r\n      <!-- 2 -->\r\n      <defs>\r\n       <path d=\"M 19.1875 8.296875 \r\nL 53.609375 8.296875 \r\nL 53.609375 0 \r\nL 7.328125 0 \r\nL 7.328125 8.296875 \r\nQ 12.9375 14.109375 22.625 23.890625 \r\nQ 32.328125 33.6875 34.8125 36.53125 \r\nQ 39.546875 41.84375 41.421875 45.53125 \r\nQ 43.3125 49.21875 43.3125 52.78125 \r\nQ 43.3125 58.59375 39.234375 62.25 \r\nQ 35.15625 65.921875 28.609375 65.921875 \r\nQ 23.96875 65.921875 18.8125 64.3125 \r\nQ 13.671875 62.703125 7.8125 59.421875 \r\nL 7.8125 69.390625 \r\nQ 13.765625 71.78125 18.9375 73 \r\nQ 24.125 74.21875 28.421875 74.21875 \r\nQ 39.75 74.21875 46.484375 68.546875 \r\nQ 53.21875 62.890625 53.21875 53.421875 \r\nQ 53.21875 48.921875 51.53125 44.890625 \r\nQ 49.859375 40.875 45.40625 35.40625 \r\nQ 44.1875 33.984375 37.640625 27.21875 \r\nQ 31.109375 20.453125 19.1875 8.296875 \r\nz\r\n\" id=\"DejaVuSans-50\"/>\r\n      </defs>\r\n      <g transform=\"translate(80.790341 128.225653)scale(0.1 -0.1)\">\r\n       <use xlink:href=\"#DejaVuSans-50\"/>\r\n      </g>\r\n     </g>\r\n    </g>\r\n    <g id=\"xtick_3\">\r\n     <g id=\"line2d_3\">\r\n      <g>\r\n       <use style=\"stroke:#000000;stroke-width:0.8;\" x=\"134.698864\" xlink:href=\"#m1df33c883d\" y=\"113.627216\"/>\r\n      </g>\r\n     </g>\r\n     <g id=\"text_3\">\r\n      <!-- 4 -->\r\n      <defs>\r\n       <path d=\"M 37.796875 64.3125 \r\nL 12.890625 25.390625 \r\nL 37.796875 25.390625 \r\nz\r\nM 35.203125 72.90625 \r\nL 47.609375 72.90625 \r\nL 47.609375 25.390625 \r\nL 58.015625 25.390625 \r\nL 58.015625 17.1875 \r\nL 47.609375 17.1875 \r\nL 47.609375 0 \r\nL 37.796875 0 \r\nL 37.796875 17.1875 \r\nL 4.890625 17.1875 \r\nL 4.890625 26.703125 \r\nz\r\n\" id=\"DejaVuSans-52\"/>\r\n      </defs>\r\n      <g transform=\"translate(131.517614 128.225653)scale(0.1 -0.1)\">\r\n       <use xlink:href=\"#DejaVuSans-52\"/>\r\n      </g>\r\n     </g>\r\n    </g>\r\n   </g>\r\n   <g id=\"matplotlib.axis_2\">\r\n    <g id=\"ytick_1\">\r\n     <g id=\"line2d_4\">\r\n      <defs>\r\n       <path d=\"M 0 0 \r\nL -3.5 0 \r\n\" id=\"m1ae308432f\" style=\"stroke:#000000;stroke-width:0.8;\"/>\r\n      </defs>\r\n      <g>\r\n       <use style=\"stroke:#000000;stroke-width:0.8;\" x=\"20.5625\" xlink:href=\"#m1ae308432f\" y=\"50.218125\"/>\r\n      </g>\r\n     </g>\r\n     <g id=\"text_4\">\r\n      <!-- 0 -->\r\n      <g transform=\"translate(7.2 54.017344)scale(0.1 -0.1)\">\r\n       <use xlink:href=\"#DejaVuSans-48\"/>\r\n      </g>\r\n     </g>\r\n    </g>\r\n    <g id=\"ytick_2\">\r\n     <g id=\"line2d_5\">\r\n      <g>\r\n       <use style=\"stroke:#000000;stroke-width:0.8;\" x=\"20.5625\" xlink:href=\"#m1ae308432f\" y=\"75.581761\"/>\r\n      </g>\r\n     </g>\r\n     <g id=\"text_5\">\r\n      <!-- 1 -->\r\n      <defs>\r\n       <path d=\"M 12.40625 8.296875 \r\nL 28.515625 8.296875 \r\nL 28.515625 63.921875 \r\nL 10.984375 60.40625 \r\nL 10.984375 69.390625 \r\nL 28.421875 72.90625 \r\nL 38.28125 72.90625 \r\nL 38.28125 8.296875 \r\nL 54.390625 8.296875 \r\nL 54.390625 0 \r\nL 12.40625 0 \r\nz\r\n\" id=\"DejaVuSans-49\"/>\r\n      </defs>\r\n      <g transform=\"translate(7.2 79.38098)scale(0.1 -0.1)\">\r\n       <use xlink:href=\"#DejaVuSans-49\"/>\r\n      </g>\r\n     </g>\r\n    </g>\r\n    <g id=\"ytick_3\">\r\n     <g id=\"line2d_6\">\r\n      <g>\r\n       <use style=\"stroke:#000000;stroke-width:0.8;\" x=\"20.5625\" xlink:href=\"#m1ae308432f\" y=\"100.945398\"/>\r\n      </g>\r\n     </g>\r\n     <g id=\"text_6\">\r\n      <!-- 2 -->\r\n      <g transform=\"translate(7.2 104.744616)scale(0.1 -0.1)\">\r\n       <use xlink:href=\"#DejaVuSans-50\"/>\r\n      </g>\r\n     </g>\r\n    </g>\r\n   </g>\r\n   <g id=\"patch_3\">\r\n    <path d=\"M 20.5625 113.627216 \r\nL 20.5625 37.536307 \r\n\" style=\"fill:none;stroke:#000000;stroke-linecap:square;stroke-linejoin:miter;stroke-width:0.8;\"/>\r\n   </g>\r\n   <g id=\"patch_4\">\r\n    <path d=\"M 172.744318 113.627216 \r\nL 172.744318 37.536307 \r\n\" style=\"fill:none;stroke:#000000;stroke-linecap:square;stroke-linejoin:miter;stroke-width:0.8;\"/>\r\n   </g>\r\n   <g id=\"patch_5\">\r\n    <path d=\"M 20.5625 113.627216 \r\nL 172.744318 113.627216 \r\n\" style=\"fill:none;stroke:#000000;stroke-linecap:square;stroke-linejoin:miter;stroke-width:0.8;\"/>\r\n   </g>\r\n   <g id=\"patch_6\">\r\n    <path d=\"M 20.5625 37.536307 \r\nL 172.744318 37.536307 \r\n\" style=\"fill:none;stroke:#000000;stroke-linecap:square;stroke-linejoin:miter;stroke-width:0.8;\"/>\r\n   </g>\r\n   <g id=\"text_7\">\r\n    <!-- a -->\r\n    <defs>\r\n     <path d=\"M 34.28125 27.484375 \r\nQ 23.390625 27.484375 19.1875 25 \r\nQ 14.984375 22.515625 14.984375 16.5 \r\nQ 14.984375 11.71875 18.140625 8.90625 \r\nQ 21.296875 6.109375 26.703125 6.109375 \r\nQ 34.1875 6.109375 38.703125 11.40625 \r\nQ 43.21875 16.703125 43.21875 25.484375 \r\nL 43.21875 27.484375 \r\nz\r\nM 52.203125 31.203125 \r\nL 52.203125 0 \r\nL 43.21875 0 \r\nL 43.21875 8.296875 \r\nQ 40.140625 3.328125 35.546875 0.953125 \r\nQ 30.953125 -1.421875 24.3125 -1.421875 \r\nQ 15.921875 -1.421875 10.953125 3.296875 \r\nQ 6 8.015625 6 15.921875 \r\nQ 6 25.140625 12.171875 29.828125 \r\nQ 18.359375 34.515625 30.609375 34.515625 \r\nL 43.21875 34.515625 \r\nL 43.21875 35.40625 \r\nQ 43.21875 41.609375 39.140625 45 \r\nQ 35.0625 48.390625 27.6875 48.390625 \r\nQ 23 48.390625 18.546875 47.265625 \r\nQ 14.109375 46.140625 10.015625 43.890625 \r\nL 10.015625 52.203125 \r\nQ 14.9375 54.109375 19.578125 55.046875 \r\nQ 24.21875 56 28.609375 56 \r\nQ 40.484375 56 46.34375 49.84375 \r\nQ 52.203125 43.703125 52.203125 31.203125 \r\nz\r\n\" id=\"DejaVuSans-97\"/>\r\n    </defs>\r\n    <g transform=\"translate(92.976534 31.536307)scale(0.12 -0.12)\">\r\n     <use xlink:href=\"#DejaVuSans-97\"/>\r\n    </g>\r\n   </g>\r\n  </g>\r\n  <g id=\"axes_2\">\r\n   <g id=\"patch_7\">\r\n    <path d=\"M 203.180682 128.845398 \r\nL 355.3625 128.845398 \r\nL 355.3625 22.318125 \r\nL 203.180682 22.318125 \r\nz\r\n\" style=\"fill:#ffffff;\"/>\r\n   </g>\r\n   <g clip-path=\"url(#p9b358fe3ca)\">\r\n    <image height=\"107\" id=\"imagead49af2245\" transform=\"scale(1 -1)translate(0 -107)\" width=\"153\" x=\"203.180682\" xlink:href=\"data:image/png;base64,\r\niVBORw0KGgoAAAANSUhEUgAAAJkAAABrCAYAAABkBiCoAAAABHNCSVQICAgIfAhkiAAAAV5JREFUeJzt2sENwjAQAEGHUBLQPNBSWgg9BC1W0Mz/dH6s7uVljLEPCF1mP4D/JzJyIiMnMnIiIycyciIjJzJyIiMnMnIiIycyciIjJzJyIiMnMnIiIycyciIjJzJyIiMnMnIiIycyciIjJzJyIiMnMnIiIycycteZy5+v9+HZdV1PNztz9+N+Ozz7LZeMnMjIiYycyMiJjJzIyImMnMjIiYycyMiJjJzIyImMnMjITf3qs23b4Vlffc7DJSMnMnIiIycyciIjJzJyIiMnMnIiIycyciIjJzJyIiMnMnK++vxwdvbuWVwyciIjJzJyIiMnMnIiIycyciIjJzJyIiMnMnIiIycyciIjt4wx9tmP4L+5ZORERk5k5ERGTmTkREZOZORERk5k5ERGTmTkREZOZORERk5k5ERGTmTkREZOZORERk5k5ERGTmTkREZOZORERk5k5ERGTmTkREbuA67+C8cIXoX2AAAAAElFTkSuQmCC\" y=\"-21.845398\"/>\r\n   </g>\r\n   <g id=\"matplotlib.axis_3\">\r\n    <g id=\"xtick_4\">\r\n     <g id=\"line2d_7\">\r\n      <g>\r\n       <use style=\"stroke:#000000;stroke-width:0.8;\" x=\"210.789773\" xlink:href=\"#m1df33c883d\" y=\"128.845398\"/>\r\n      </g>\r\n     </g>\r\n     <g id=\"text_8\">\r\n      <!-- 0 -->\r\n      <g transform=\"translate(207.608523 143.443835)scale(0.1 -0.1)\">\r\n       <use xlink:href=\"#DejaVuSans-48\"/>\r\n      </g>\r\n     </g>\r\n    </g>\r\n    <g id=\"xtick_5\">\r\n     <g id=\"line2d_8\">\r\n      <g>\r\n       <use style=\"stroke:#000000;stroke-width:0.8;\" x=\"241.226136\" xlink:href=\"#m1df33c883d\" y=\"128.845398\"/>\r\n      </g>\r\n     </g>\r\n     <g id=\"text_9\">\r\n      <!-- 2 -->\r\n      <g transform=\"translate(238.044886 143.443835)scale(0.1 -0.1)\">\r\n       <use xlink:href=\"#DejaVuSans-50\"/>\r\n      </g>\r\n     </g>\r\n    </g>\r\n    <g id=\"xtick_6\">\r\n     <g id=\"line2d_9\">\r\n      <g>\r\n       <use style=\"stroke:#000000;stroke-width:0.8;\" x=\"271.6625\" xlink:href=\"#m1df33c883d\" y=\"128.845398\"/>\r\n      </g>\r\n     </g>\r\n     <g id=\"text_10\">\r\n      <!-- 4 -->\r\n      <g transform=\"translate(268.48125 143.443835)scale(0.1 -0.1)\">\r\n       <use xlink:href=\"#DejaVuSans-52\"/>\r\n      </g>\r\n     </g>\r\n    </g>\r\n    <g id=\"xtick_7\">\r\n     <g id=\"line2d_10\">\r\n      <g>\r\n       <use style=\"stroke:#000000;stroke-width:0.8;\" x=\"302.098864\" xlink:href=\"#m1df33c883d\" y=\"128.845398\"/>\r\n      </g>\r\n     </g>\r\n     <g id=\"text_11\">\r\n      <!-- 6 -->\r\n      <defs>\r\n       <path d=\"M 33.015625 40.375 \r\nQ 26.375 40.375 22.484375 35.828125 \r\nQ 18.609375 31.296875 18.609375 23.390625 \r\nQ 18.609375 15.53125 22.484375 10.953125 \r\nQ 26.375 6.390625 33.015625 6.390625 \r\nQ 39.65625 6.390625 43.53125 10.953125 \r\nQ 47.40625 15.53125 47.40625 23.390625 \r\nQ 47.40625 31.296875 43.53125 35.828125 \r\nQ 39.65625 40.375 33.015625 40.375 \r\nz\r\nM 52.59375 71.296875 \r\nL 52.59375 62.3125 \r\nQ 48.875 64.0625 45.09375 64.984375 \r\nQ 41.3125 65.921875 37.59375 65.921875 \r\nQ 27.828125 65.921875 22.671875 59.328125 \r\nQ 17.53125 52.734375 16.796875 39.40625 \r\nQ 19.671875 43.65625 24.015625 45.921875 \r\nQ 28.375 48.1875 33.59375 48.1875 \r\nQ 44.578125 48.1875 50.953125 41.515625 \r\nQ 57.328125 34.859375 57.328125 23.390625 \r\nQ 57.328125 12.15625 50.6875 5.359375 \r\nQ 44.046875 -1.421875 33.015625 -1.421875 \r\nQ 20.359375 -1.421875 13.671875 8.265625 \r\nQ 6.984375 17.96875 6.984375 36.375 \r\nQ 6.984375 53.65625 15.1875 63.9375 \r\nQ 23.390625 74.21875 37.203125 74.21875 \r\nQ 40.921875 74.21875 44.703125 73.484375 \r\nQ 48.484375 72.75 52.59375 71.296875 \r\nz\r\n\" id=\"DejaVuSans-54\"/>\r\n      </defs>\r\n      <g transform=\"translate(298.917614 143.443835)scale(0.1 -0.1)\">\r\n       <use xlink:href=\"#DejaVuSans-54\"/>\r\n      </g>\r\n     </g>\r\n    </g>\r\n    <g id=\"xtick_8\">\r\n     <g id=\"line2d_11\">\r\n      <g>\r\n       <use style=\"stroke:#000000;stroke-width:0.8;\" x=\"332.535227\" xlink:href=\"#m1df33c883d\" y=\"128.845398\"/>\r\n      </g>\r\n     </g>\r\n     <g id=\"text_12\">\r\n      <!-- 8 -->\r\n      <defs>\r\n       <path d=\"M 31.78125 34.625 \r\nQ 24.75 34.625 20.71875 30.859375 \r\nQ 16.703125 27.09375 16.703125 20.515625 \r\nQ 16.703125 13.921875 20.71875 10.15625 \r\nQ 24.75 6.390625 31.78125 6.390625 \r\nQ 38.8125 6.390625 42.859375 10.171875 \r\nQ 46.921875 13.96875 46.921875 20.515625 \r\nQ 46.921875 27.09375 42.890625 30.859375 \r\nQ 38.875 34.625 31.78125 34.625 \r\nz\r\nM 21.921875 38.8125 \r\nQ 15.578125 40.375 12.03125 44.71875 \r\nQ 8.5 49.078125 8.5 55.328125 \r\nQ 8.5 64.0625 14.71875 69.140625 \r\nQ 20.953125 74.21875 31.78125 74.21875 \r\nQ 42.671875 74.21875 48.875 69.140625 \r\nQ 55.078125 64.0625 55.078125 55.328125 \r\nQ 55.078125 49.078125 51.53125 44.71875 \r\nQ 48 40.375 41.703125 38.8125 \r\nQ 48.828125 37.15625 52.796875 32.3125 \r\nQ 56.78125 27.484375 56.78125 20.515625 \r\nQ 56.78125 9.90625 50.3125 4.234375 \r\nQ 43.84375 -1.421875 31.78125 -1.421875 \r\nQ 19.734375 -1.421875 13.25 4.234375 \r\nQ 6.78125 9.90625 6.78125 20.515625 \r\nQ 6.78125 27.484375 10.78125 32.3125 \r\nQ 14.796875 37.15625 21.921875 38.8125 \r\nz\r\nM 18.3125 54.390625 \r\nQ 18.3125 48.734375 21.84375 45.5625 \r\nQ 25.390625 42.390625 31.78125 42.390625 \r\nQ 38.140625 42.390625 41.71875 45.5625 \r\nQ 45.3125 48.734375 45.3125 54.390625 \r\nQ 45.3125 60.0625 41.71875 63.234375 \r\nQ 38.140625 66.40625 31.78125 66.40625 \r\nQ 25.390625 66.40625 21.84375 63.234375 \r\nQ 18.3125 60.0625 18.3125 54.390625 \r\nz\r\n\" id=\"DejaVuSans-56\"/>\r\n      </defs>\r\n      <g transform=\"translate(329.353977 143.443835)scale(0.1 -0.1)\">\r\n       <use xlink:href=\"#DejaVuSans-56\"/>\r\n      </g>\r\n     </g>\r\n    </g>\r\n   </g>\r\n   <g id=\"matplotlib.axis_4\">\r\n    <g id=\"ytick_4\">\r\n     <g id=\"line2d_12\">\r\n      <g>\r\n       <use style=\"stroke:#000000;stroke-width:0.8;\" x=\"203.180682\" xlink:href=\"#m1ae308432f\" y=\"29.927216\"/>\r\n      </g>\r\n     </g>\r\n     <g id=\"text_13\">\r\n      <!-- 0 -->\r\n      <g transform=\"translate(189.818182 33.726435)scale(0.1 -0.1)\">\r\n       <use xlink:href=\"#DejaVuSans-48\"/>\r\n      </g>\r\n     </g>\r\n    </g>\r\n    <g id=\"ytick_5\">\r\n     <g id=\"line2d_13\">\r\n      <g>\r\n       <use style=\"stroke:#000000;stroke-width:0.8;\" x=\"203.180682\" xlink:href=\"#m1ae308432f\" y=\"60.36358\"/>\r\n      </g>\r\n     </g>\r\n     <g id=\"text_14\">\r\n      <!-- 2 -->\r\n      <g transform=\"translate(189.818182 64.162798)scale(0.1 -0.1)\">\r\n       <use xlink:href=\"#DejaVuSans-50\"/>\r\n      </g>\r\n     </g>\r\n    </g>\r\n    <g id=\"ytick_6\">\r\n     <g id=\"line2d_14\">\r\n      <g>\r\n       <use style=\"stroke:#000000;stroke-width:0.8;\" x=\"203.180682\" xlink:href=\"#m1ae308432f\" y=\"90.799943\"/>\r\n      </g>\r\n     </g>\r\n     <g id=\"text_15\">\r\n      <!-- 4 -->\r\n      <g transform=\"translate(189.818182 94.599162)scale(0.1 -0.1)\">\r\n       <use xlink:href=\"#DejaVuSans-52\"/>\r\n      </g>\r\n     </g>\r\n    </g>\r\n    <g id=\"ytick_7\">\r\n     <g id=\"line2d_15\">\r\n      <g>\r\n       <use style=\"stroke:#000000;stroke-width:0.8;\" x=\"203.180682\" xlink:href=\"#m1ae308432f\" y=\"121.236307\"/>\r\n      </g>\r\n     </g>\r\n     <g id=\"text_16\">\r\n      <!-- 6 -->\r\n      <g transform=\"translate(189.818182 125.035526)scale(0.1 -0.1)\">\r\n       <use xlink:href=\"#DejaVuSans-54\"/>\r\n      </g>\r\n     </g>\r\n    </g>\r\n   </g>\r\n   <g id=\"patch_8\">\r\n    <path d=\"M 203.180682 128.845398 \r\nL 203.180682 22.318125 \r\n\" style=\"fill:none;stroke:#000000;stroke-linecap:square;stroke-linejoin:miter;stroke-width:0.8;\"/>\r\n   </g>\r\n   <g id=\"patch_9\">\r\n    <path d=\"M 355.3625 128.845398 \r\nL 355.3625 22.318125 \r\n\" style=\"fill:none;stroke:#000000;stroke-linecap:square;stroke-linejoin:miter;stroke-width:0.8;\"/>\r\n   </g>\r\n   <g id=\"patch_10\">\r\n    <path d=\"M 203.180682 128.845398 \r\nL 355.3625 128.845398 \r\n\" style=\"fill:none;stroke:#000000;stroke-linecap:square;stroke-linejoin:miter;stroke-width:0.8;\"/>\r\n   </g>\r\n   <g id=\"patch_11\">\r\n    <path d=\"M 203.180682 22.318125 \r\nL 355.3625 22.318125 \r\n\" style=\"fill:none;stroke:#000000;stroke-linecap:square;stroke-linejoin:miter;stroke-width:0.8;\"/>\r\n   </g>\r\n   <g id=\"text_17\">\r\n    <!-- a_padding -->\r\n    <defs>\r\n     <path d=\"M 50.984375 -16.609375 \r\nL 50.984375 -23.578125 \r\nL -0.984375 -23.578125 \r\nL -0.984375 -16.609375 \r\nz\r\n\" id=\"DejaVuSans-95\"/>\r\n     <path d=\"M 18.109375 8.203125 \r\nL 18.109375 -20.796875 \r\nL 9.078125 -20.796875 \r\nL 9.078125 54.6875 \r\nL 18.109375 54.6875 \r\nL 18.109375 46.390625 \r\nQ 20.953125 51.265625 25.265625 53.625 \r\nQ 29.59375 56 35.59375 56 \r\nQ 45.5625 56 51.78125 48.09375 \r\nQ 58.015625 40.1875 58.015625 27.296875 \r\nQ 58.015625 14.40625 51.78125 6.484375 \r\nQ 45.5625 -1.421875 35.59375 -1.421875 \r\nQ 29.59375 -1.421875 25.265625 0.953125 \r\nQ 20.953125 3.328125 18.109375 8.203125 \r\nz\r\nM 48.6875 27.296875 \r\nQ 48.6875 37.203125 44.609375 42.84375 \r\nQ 40.53125 48.484375 33.40625 48.484375 \r\nQ 26.265625 48.484375 22.1875 42.84375 \r\nQ 18.109375 37.203125 18.109375 27.296875 \r\nQ 18.109375 17.390625 22.1875 11.75 \r\nQ 26.265625 6.109375 33.40625 6.109375 \r\nQ 40.53125 6.109375 44.609375 11.75 \r\nQ 48.6875 17.390625 48.6875 27.296875 \r\nz\r\n\" id=\"DejaVuSans-112\"/>\r\n     <path d=\"M 45.40625 46.390625 \r\nL 45.40625 75.984375 \r\nL 54.390625 75.984375 \r\nL 54.390625 0 \r\nL 45.40625 0 \r\nL 45.40625 8.203125 \r\nQ 42.578125 3.328125 38.25 0.953125 \r\nQ 33.9375 -1.421875 27.875 -1.421875 \r\nQ 17.96875 -1.421875 11.734375 6.484375 \r\nQ 5.515625 14.40625 5.515625 27.296875 \r\nQ 5.515625 40.1875 11.734375 48.09375 \r\nQ 17.96875 56 27.875 56 \r\nQ 33.9375 56 38.25 53.625 \r\nQ 42.578125 51.265625 45.40625 46.390625 \r\nz\r\nM 14.796875 27.296875 \r\nQ 14.796875 17.390625 18.875 11.75 \r\nQ 22.953125 6.109375 30.078125 6.109375 \r\nQ 37.203125 6.109375 41.296875 11.75 \r\nQ 45.40625 17.390625 45.40625 27.296875 \r\nQ 45.40625 37.203125 41.296875 42.84375 \r\nQ 37.203125 48.484375 30.078125 48.484375 \r\nQ 22.953125 48.484375 18.875 42.84375 \r\nQ 14.796875 37.203125 14.796875 27.296875 \r\nz\r\n\" id=\"DejaVuSans-100\"/>\r\n     <path d=\"M 9.421875 54.6875 \r\nL 18.40625 54.6875 \r\nL 18.40625 0 \r\nL 9.421875 0 \r\nz\r\nM 9.421875 75.984375 \r\nL 18.40625 75.984375 \r\nL 18.40625 64.59375 \r\nL 9.421875 64.59375 \r\nz\r\n\" id=\"DejaVuSans-105\"/>\r\n     <path d=\"M 54.890625 33.015625 \r\nL 54.890625 0 \r\nL 45.90625 0 \r\nL 45.90625 32.71875 \r\nQ 45.90625 40.484375 42.875 44.328125 \r\nQ 39.84375 48.1875 33.796875 48.1875 \r\nQ 26.515625 48.1875 22.3125 43.546875 \r\nQ 18.109375 38.921875 18.109375 30.90625 \r\nL 18.109375 0 \r\nL 9.078125 0 \r\nL 9.078125 54.6875 \r\nL 18.109375 54.6875 \r\nL 18.109375 46.1875 \r\nQ 21.34375 51.125 25.703125 53.5625 \r\nQ 30.078125 56 35.796875 56 \r\nQ 45.21875 56 50.046875 50.171875 \r\nQ 54.890625 44.34375 54.890625 33.015625 \r\nz\r\n\" id=\"DejaVuSans-110\"/>\r\n     <path d=\"M 45.40625 27.984375 \r\nQ 45.40625 37.75 41.375 43.109375 \r\nQ 37.359375 48.484375 30.078125 48.484375 \r\nQ 22.859375 48.484375 18.828125 43.109375 \r\nQ 14.796875 37.75 14.796875 27.984375 \r\nQ 14.796875 18.265625 18.828125 12.890625 \r\nQ 22.859375 7.515625 30.078125 7.515625 \r\nQ 37.359375 7.515625 41.375 12.890625 \r\nQ 45.40625 18.265625 45.40625 27.984375 \r\nz\r\nM 54.390625 6.78125 \r\nQ 54.390625 -7.171875 48.1875 -13.984375 \r\nQ 42 -20.796875 29.203125 -20.796875 \r\nQ 24.46875 -20.796875 20.265625 -20.09375 \r\nQ 16.0625 -19.390625 12.109375 -17.921875 \r\nL 12.109375 -9.1875 \r\nQ 16.0625 -11.328125 19.921875 -12.34375 \r\nQ 23.78125 -13.375 27.78125 -13.375 \r\nQ 36.625 -13.375 41.015625 -8.765625 \r\nQ 45.40625 -4.15625 45.40625 5.171875 \r\nL 45.40625 9.625 \r\nQ 42.625 4.78125 38.28125 2.390625 \r\nQ 33.9375 0 27.875 0 \r\nQ 17.828125 0 11.671875 7.65625 \r\nQ 5.515625 15.328125 5.515625 27.984375 \r\nQ 5.515625 40.671875 11.671875 48.328125 \r\nQ 17.828125 56 27.875 56 \r\nQ 33.9375 56 38.28125 53.609375 \r\nQ 42.625 51.21875 45.40625 46.390625 \r\nL 45.40625 54.6875 \r\nL 54.390625 54.6875 \r\nz\r\n\" id=\"DejaVuSans-103\"/>\r\n    </defs>\r\n    <g transform=\"translate(248.212216 16.318125)scale(0.12 -0.12)\">\r\n     <use xlink:href=\"#DejaVuSans-97\"/>\r\n     <use x=\"61.279297\" xlink:href=\"#DejaVuSans-95\"/>\r\n     <use x=\"111.279297\" xlink:href=\"#DejaVuSans-112\"/>\r\n     <use x=\"174.755859\" xlink:href=\"#DejaVuSans-97\"/>\r\n     <use x=\"236.035156\" xlink:href=\"#DejaVuSans-100\"/>\r\n     <use x=\"299.511719\" xlink:href=\"#DejaVuSans-100\"/>\r\n     <use x=\"362.988281\" xlink:href=\"#DejaVuSans-105\"/>\r\n     <use x=\"390.771484\" xlink:href=\"#DejaVuSans-110\"/>\r\n     <use x=\"454.150391\" xlink:href=\"#DejaVuSans-103\"/>\r\n    </g>\r\n   </g>\r\n  </g>\r\n </g>\r\n <defs>\r\n  <clipPath id=\"pd77ef20157\">\r\n   <rect height=\"76.090909\" width=\"152.181818\" x=\"20.5625\" y=\"37.536307\"/>\r\n  </clipPath>\r\n  <clipPath id=\"p9b358fe3ca\">\r\n   <rect height=\"106.527273\" width=\"152.181818\" x=\"203.180682\" y=\"22.318125\"/>\r\n  </clipPath>\r\n </defs>\r\n</svg>\r\n",
      "text/plain": "<Figure size 432x288 with 2 Axes>"
     },
     "metadata": {
      "needs_background": "light"
     },
     "output_type": "display_data"
    }
   ],
   "source": [
    "plt.subplot(1, 2, 1)\n",
    "plt.title('a')\n",
    "plt.imshow(a[0])\n",
    "plt.subplot(1, 2, 2)\n",
    "plt.title('a_padding')\n",
    "plt.imshow(a_padding[0])"
   ]
  },
  {
   "cell_type": "code",
   "execution_count": 6,
   "metadata": {},
   "outputs": [],
   "source": [
    "def conv_one_step(x, W, b):\n",
    "    \n",
    "    '''\n",
    "    x - part of X: shape(m, f, f, c)\n",
    "    W - weights of filter: shape(f, f, c)\n",
    "    b - bias of filter: shape(1, 1, 1)\n",
    "    return shape(m,)\n",
    "    '''\n",
    "\n",
    "    z = np.sum(x * W, axis=(1,2,3)) + b  # shape(m,)\n",
    "    \n",
    "    return z"
   ]
  },
  {
   "cell_type": "code",
   "execution_count": 7,
   "metadata": {},
   "outputs": [],
   "source": [
    "def conv_forwardprop(X, W, b, p=0, s=1):\n",
    "\n",
    "    '''\n",
    "    X - input, (m_samples, height, width, channels)\n",
    "    W - weights of filters, (f, f, channels, n_filters)\n",
    "    b - bias of filters, (1,1,1,n_filters)\n",
    "    p - pad\n",
    "    s - stride\n",
    "    '''\n",
    "\n",
    "    m, h, w, c = X.shape\n",
    "    f = W.shape[0]\n",
    "    n = W.shape[3]\n",
    "    h_new = (h + 2*p - f) // s + 1\n",
    "    w_new = (w + 2*p - f) // s + 1\n",
    "    c_new = n\n",
    "    Z = np.zeros((m, h_new, w_new, c_new))\n",
    "    X_padding = padding(X, p)\n",
    "\n",
    "    for l in range(c_new):\n",
    "        for i in range(h_new):\n",
    "            for j in range(w_new):\n",
    "                x_step = X_padding[:, (s*i):(s*i+f), (s*j):(s*j+f), :]  # shape(m,f,f,c)\n",
    "                W_step = W[:, :, :, l]  # shape(f,f,c)\n",
    "                b_step = b[:, :, :, l]  # shape(1,1,1)\n",
    "                Z[:, i, j, l] = conv_one_step(x_step, W_step, b_step)  # shape(m,)\n",
    "    \n",
    "    cache = (X_padding, W, b, p, s)\n",
    "    return Z, cache\n"
   ]
  },
  {
   "cell_type": "code",
   "execution_count": 8,
   "metadata": {},
   "outputs": [
    {
     "name": "stdout",
     "output_type": "stream",
     "text": "Z: (2, 3, 3, 6)\n[[[[57. 57. 57. 57. 57. 57.]\n   [57. 57. 57. 57. 57. 57.]\n   [57. 57. 57. 57. 57. 57.]]\n\n  [[57. 57. 57. 57. 57. 57.]\n   [57. 57. 57. 57. 57. 57.]\n   [57. 57. 57. 57. 57. 57.]]\n\n  [[57. 57. 57. 57. 57. 57.]\n   [57. 57. 57. 57. 57. 57.]\n   [57. 57. 57. 57. 57. 57.]]]\n\n\n [[[57. 57. 57. 57. 57. 57.]\n   [57. 57. 57. 57. 57. 57.]\n   [57. 57. 57. 57. 57. 57.]]\n\n  [[57. 57. 57. 57. 57. 57.]\n   [57. 57. 57. 57. 57. 57.]\n   [57. 57. 57. 57. 57. 57.]]\n\n  [[57. 57. 57. 57. 57. 57.]\n   [57. 57. 57. 57. 57. 57.]\n   [57. 57. 57. 57. 57. 57.]]]]\n"
    }
   ],
   "source": [
    "# 测试\n",
    "X = np.ones((2,5,5,3))\n",
    "W = np.ones((3,3,3,6)) * 2\n",
    "b = np.ones((1,1,1,6)) * 3\n",
    "Z, _ = conv_forwardprop(X, W, b)  # ones((2,3,3,6)) * 57\n",
    "print(f'Z: {Z.shape}\\n{Z}')"
   ]
  },
  {
   "cell_type": "code",
   "execution_count": 9,
   "metadata": {},
   "outputs": [
    {
     "name": "stdout",
     "output_type": "stream",
     "text": "Z: (2, 5, 5, 6)\n[[[[27. 27. 27. 27. 27. 27.]\n   [39. 39. 39. 39. 39. 39.]\n   [39. 39. 39. 39. 39. 39.]\n   [39. 39. 39. 39. 39. 39.]\n   [27. 27. 27. 27. 27. 27.]]\n\n  [[39. 39. 39. 39. 39. 39.]\n   [57. 57. 57. 57. 57. 57.]\n   [57. 57. 57. 57. 57. 57.]\n   [57. 57. 57. 57. 57. 57.]\n   [39. 39. 39. 39. 39. 39.]]\n\n  [[39. 39. 39. 39. 39. 39.]\n   [57. 57. 57. 57. 57. 57.]\n   [57. 57. 57. 57. 57. 57.]\n   [57. 57. 57. 57. 57. 57.]\n   [39. 39. 39. 39. 39. 39.]]\n\n  [[39. 39. 39. 39. 39. 39.]\n   [57. 57. 57. 57. 57. 57.]\n   [57. 57. 57. 57. 57. 57.]\n   [57. 57. 57. 57. 57. 57.]\n   [39. 39. 39. 39. 39. 39.]]\n\n  [[27. 27. 27. 27. 27. 27.]\n   [39. 39. 39. 39. 39. 39.]\n   [39. 39. 39. 39. 39. 39.]\n   [39. 39. 39. 39. 39. 39.]\n   [27. 27. 27. 27. 27. 27.]]]\n\n\n [[[27. 27. 27. 27. 27. 27.]\n   [39. 39. 39. 39. 39. 39.]\n   [39. 39. 39. 39. 39. 39.]\n   [39. 39. 39. 39. 39. 39.]\n   [27. 27. 27. 27. 27. 27.]]\n\n  [[39. 39. 39. 39. 39. 39.]\n   [57. 57. 57. 57. 57. 57.]\n   [57. 57. 57. 57. 57. 57.]\n   [57. 57. 57. 57. 57. 57.]\n   [39. 39. 39. 39. 39. 39.]]\n\n  [[39. 39. 39. 39. 39. 39.]\n   [57. 57. 57. 57. 57. 57.]\n   [57. 57. 57. 57. 57. 57.]\n   [57. 57. 57. 57. 57. 57.]\n   [39. 39. 39. 39. 39. 39.]]\n\n  [[39. 39. 39. 39. 39. 39.]\n   [57. 57. 57. 57. 57. 57.]\n   [57. 57. 57. 57. 57. 57.]\n   [57. 57. 57. 57. 57. 57.]\n   [39. 39. 39. 39. 39. 39.]]\n\n  [[27. 27. 27. 27. 27. 27.]\n   [39. 39. 39. 39. 39. 39.]\n   [39. 39. 39. 39. 39. 39.]\n   [39. 39. 39. 39. 39. 39.]\n   [27. 27. 27. 27. 27. 27.]]]]\n"
    }
   ],
   "source": [
    "# 加上pad测试same convolution\n",
    "X = np.ones((2,5,5,3))\n",
    "W = np.ones((3,3,3,6)) * 2\n",
    "b = np.ones((1,1,1,6)) * 3\n",
    "Z, _ = conv_forwardprop(X, W, b, p=1)  # ones((2,5,5,6)) mid=57\n",
    "print(f'Z: {Z.shape}\\n{Z}')"
   ]
  },
  {
   "cell_type": "code",
   "execution_count": 10,
   "metadata": {},
   "outputs": [],
   "source": [
    "def pool_forwardprop(X, f, mode='max', p=0, s=1):\n",
    "\n",
    "    '''\n",
    "    X - input, (m_samples, height, width, channels)\n",
    "    f - size of pool(f, f)\n",
    "    mode - str, 'max' or 'average' pooling\n",
    "    p - pad\n",
    "    s - stride\n",
    "    '''\n",
    "\n",
    "    m, h, w, c = X.shape\n",
    "    h_new = (h + 2*p - f) // s + 1\n",
    "    w_new = (w + 2*p - f) // s + 1\n",
    "    c_new = c\n",
    "    Z = np.zeros((m, h_new, w_new, c_new))\n",
    "    X_padding = padding(X, p)\n",
    "\n",
    "    for l in range(c_new):\n",
    "        for i in range(h_new):\n",
    "            for j in range(w_new):\n",
    "                x_step = X_padding[:, (s*i):(s*i+f), (s*j):(s*j+f), l]  # shape(m,f,f)\n",
    "                if mode == 'max':\n",
    "                    Z[:, i, j, l] = np.max(x_step, axis=(1,2))  # shape(m,)\n",
    "                elif mode == 'average':\n",
    "                    Z[:, i, j, l] = np.mean(x_step, axis=(1,2))  # shape(m,)\n",
    "                else:\n",
    "                    print('Unexcepted mode.')\n",
    "    \n",
    "    cache = (X_padding, f, p, s)\n",
    "    return Z, cache\n"
   ]
  },
  {
   "cell_type": "code",
   "execution_count": 11,
   "metadata": {},
   "outputs": [
    {
     "name": "stdout",
     "output_type": "stream",
     "text": "Z: (2, 3, 2, 3)\n[[[[12. 13. 14.]\n   [15. 16. 17.]]\n\n  [[21. 22. 23.]\n   [24. 25. 26.]]\n\n  [[30. 31. 32.]\n   [33. 34. 35.]]]\n\n\n [[[48. 49. 50.]\n   [51. 52. 53.]]\n\n  [[57. 58. 59.]\n   [60. 61. 62.]]\n\n  [[66. 67. 68.]\n   [69. 70. 71.]]]]\n"
    }
   ],
   "source": [
    "# 测试\n",
    "a = np.arange(72).reshape((2,4,3,3))\n",
    "f = 2\n",
    "Z, _ = pool_forwardprop(a, f)  # (2,3,2,3)\n",
    "print(f'Z: {Z.shape}\\n{Z}')"
   ]
  },
  {
   "cell_type": "code",
   "execution_count": 12,
   "metadata": {},
   "outputs": [
    {
     "name": "stdout",
     "output_type": "stream",
     "text": "Z: (2, 4, 3, 3)\n[[[[ 2.66666667  3.11111111  3.55555556]\n   [ 5.          5.66666667  6.33333333]\n   [ 4.          4.44444444  4.88888889]]\n\n  [[ 7.          7.66666667  8.33333333]\n   [12.         13.         14.        ]\n   [ 9.          9.66666667 10.33333333]]\n\n  [[13.         13.66666667 14.33333333]\n   [21.         22.         23.        ]\n   [15.         15.66666667 16.33333333]]\n\n  [[10.66666667 11.11111111 11.55555556]\n   [17.         17.66666667 18.33333333]\n   [12.         12.44444444 12.88888889]]]\n\n\n [[[18.66666667 19.11111111 19.55555556]\n   [29.         29.66666667 30.33333333]\n   [20.         20.44444444 20.88888889]]\n\n  [[31.         31.66666667 32.33333333]\n   [48.         49.         50.        ]\n   [33.         33.66666667 34.33333333]]\n\n  [[37.         37.66666667 38.33333333]\n   [57.         58.         59.        ]\n   [39.         39.66666667 40.33333333]]\n\n  [[26.66666667 27.11111111 27.55555556]\n   [41.         41.66666667 42.33333333]\n   [28.         28.44444444 28.88888889]]]]\n"
    }
   ],
   "source": [
    "# 试试same average pooling\n",
    "a = np.arange(72).reshape((2,4,3,3))\n",
    "f = 3\n",
    "Z, _ = pool_forwardprop(a, f, mode='average', p=1)  # (2,4,3,3)\n",
    "print(f'Z: {Z.shape}\\n{Z}')"
   ]
  },
  {
   "cell_type": "markdown",
   "execution_count": null,
   "metadata": {},
   "outputs": [],
   "source": [
    "### 以上实现了padding，convolution，pooling"
   ]
  },
  {
   "cell_type": "code",
   "execution_count": 13,
   "metadata": {},
   "outputs": [],
   "source": [
    "def conv_backwardprop(dZ, cache):\n",
    "\n",
    "    '''\n",
    "    dZ - dJ/dZ, (m_samples, h_new, w_new, n_filters), n_filters = c_new\n",
    "    cache - (X_padding, W, b, p, s)\n",
    "    '''\n",
    "\n",
    "    X_padding, W, b, p, s = cache\n",
    "    m, h_new, w_new, n = dZ.shape\n",
    "    f = W.shape[0]\n",
    "    dW = np.zeros(W.shape)\n",
    "    db = np.zeros(b.shape)\n",
    "    dX_padding = np.zeros(X_padding.shape)\n",
    "\n",
    "    for l in range(n):\n",
    "        for i in range(h_new):\n",
    "            for j in range(w_new):\n",
    "                x_step = X_padding[:, (i*s):(i*s+f), (i*s):(i*s+f), :]  # (m,f,f,c)\n",
    "                dZ_step = dZ[:, i, j, l].reshape((m,1,1,1))  # (m,) -> (m,1,1,1)\n",
    "                dW[:, :, :, l] += np.mean((x_step * dZ_step), axis=0)  # (m,f,f,c) -> (f,f,c)\n",
    "                db[0,0,0,l] += np.mean(dZ_step)\n",
    "                dX_padding[:, (i*s):(i*s+f), (i*s):(i*s+f), :] += dZ_step * W[:, :, :, l]  # (m,1,1,1)*(f,f,c) -> (m,f,f,c)\n",
    "\n",
    "    h = (h_new - 1) * s + f - 2*p\n",
    "    w = (w_new - 1) * s + f - 2*p\n",
    "    dX = dX_padding[:, p:(h-p), p:(w-p), :]\n",
    "\n",
    "    return dX, dW, db"
   ]
  },
  {
   "cell_type": "code",
   "execution_count": 14,
   "metadata": {},
   "outputs": [
    {
     "name": "stdout",
     "output_type": "stream",
     "text": "dX: (2, 5, 5, 3)\n[[[[1026. 1026. 1026.]\n   [1026. 1026. 1026.]\n   [1026. 1026. 1026.]\n   [   0.    0.    0.]\n   [   0.    0.    0.]]\n\n  [[1026. 1026. 1026.]\n   [2052. 2052. 2052.]\n   [2052. 2052. 2052.]\n   [1026. 1026. 1026.]\n   [   0.    0.    0.]]\n\n  [[1026. 1026. 1026.]\n   [2052. 2052. 2052.]\n   [3078. 3078. 3078.]\n   [2052. 2052. 2052.]\n   [1026. 1026. 1026.]]\n\n  [[   0.    0.    0.]\n   [1026. 1026. 1026.]\n   [2052. 2052. 2052.]\n   [2052. 2052. 2052.]\n   [1026. 1026. 1026.]]\n\n  [[   0.    0.    0.]\n   [   0.    0.    0.]\n   [1026. 1026. 1026.]\n   [1026. 1026. 1026.]\n   [1026. 1026. 1026.]]]\n\n\n [[[1026. 1026. 1026.]\n   [1026. 1026. 1026.]\n   [1026. 1026. 1026.]\n   [   0.    0.    0.]\n   [   0.    0.    0.]]\n\n  [[1026. 1026. 1026.]\n   [2052. 2052. 2052.]\n   [2052. 2052. 2052.]\n   [1026. 1026. 1026.]\n   [   0.    0.    0.]]\n\n  [[1026. 1026. 1026.]\n   [2052. 2052. 2052.]\n   [3078. 3078. 3078.]\n   [2052. 2052. 2052.]\n   [1026. 1026. 1026.]]\n\n  [[   0.    0.    0.]\n   [1026. 1026. 1026.]\n   [2052. 2052. 2052.]\n   [2052. 2052. 2052.]\n   [1026. 1026. 1026.]]\n\n  [[   0.    0.    0.]\n   [   0.    0.    0.]\n   [1026. 1026. 1026.]\n   [1026. 1026. 1026.]\n   [1026. 1026. 1026.]]]]\ndW: (3, 3, 3, 6)\n[[[[256.5 256.5 256.5 256.5 256.5 256.5]\n   [256.5 256.5 256.5 256.5 256.5 256.5]\n   [256.5 256.5 256.5 256.5 256.5 256.5]]\n\n  [[256.5 256.5 256.5 256.5 256.5 256.5]\n   [256.5 256.5 256.5 256.5 256.5 256.5]\n   [256.5 256.5 256.5 256.5 256.5 256.5]]\n\n  [[256.5 256.5 256.5 256.5 256.5 256.5]\n   [256.5 256.5 256.5 256.5 256.5 256.5]\n   [256.5 256.5 256.5 256.5 256.5 256.5]]]\n\n\n [[[256.5 256.5 256.5 256.5 256.5 256.5]\n   [256.5 256.5 256.5 256.5 256.5 256.5]\n   [256.5 256.5 256.5 256.5 256.5 256.5]]\n\n  [[256.5 256.5 256.5 256.5 256.5 256.5]\n   [256.5 256.5 256.5 256.5 256.5 256.5]\n   [256.5 256.5 256.5 256.5 256.5 256.5]]\n\n  [[256.5 256.5 256.5 256.5 256.5 256.5]\n   [256.5 256.5 256.5 256.5 256.5 256.5]\n   [256.5 256.5 256.5 256.5 256.5 256.5]]]\n\n\n [[[256.5 256.5 256.5 256.5 256.5 256.5]\n   [256.5 256.5 256.5 256.5 256.5 256.5]\n   [256.5 256.5 256.5 256.5 256.5 256.5]]\n\n  [[256.5 256.5 256.5 256.5 256.5 256.5]\n   [256.5 256.5 256.5 256.5 256.5 256.5]\n   [256.5 256.5 256.5 256.5 256.5 256.5]]\n\n  [[256.5 256.5 256.5 256.5 256.5 256.5]\n   [256.5 256.5 256.5 256.5 256.5 256.5]\n   [256.5 256.5 256.5 256.5 256.5 256.5]]]]\ndb: (1, 1, 1, 6)\n[[[[256.5 256.5 256.5 256.5 256.5 256.5]]]]\n"
    }
   ],
   "source": [
    "# 测试\n",
    "X = np.ones((2,5,5,3))\n",
    "W = np.ones((3,3,3,6)) * 2\n",
    "b = np.ones((1,1,1,6)) * 3\n",
    "Z, cache = conv_forwardprop(X, W, b)  # ones((2,3,3,6)) * 57\n",
    "dZ = Z * 0.5  # A = 0.25 * Z**2\n",
    "dX, dW, db = conv_backwardprop(dZ, cache)\n",
    "print(f'dX: {dX.shape}\\n{dX}')  # (2,5,5,3)\n",
    "print(f'dW: {dW.shape}\\n{dW}')  # (3,3,3,6)\n",
    "print(f'db: {db.shape}\\n{db}')  # (1,1,1,6)"
   ]
  },
  {
   "cell_type": "code",
   "execution_count": 15,
   "metadata": {},
   "outputs": [],
   "source": [
    "def mask_max(x):\n",
    "    \n",
    "    '''\n",
    "    input:\n",
    "        x - (f, f)\n",
    "    output:\n",
    "        mask - (f, f)\n",
    "    '''\n",
    "\n",
    "    mask = (x == np.max(x))\n",
    "    \n",
    "    return mask"
   ]
  },
  {
   "cell_type": "code",
   "execution_count": 16,
   "metadata": {},
   "outputs": [],
   "source": [
    "def mask_average(f):\n",
    "\n",
    "    '''\n",
    "    input:\n",
    "        f - filter size\n",
    "    output:\n",
    "        mask - (f, f)\n",
    "    '''\n",
    "\n",
    "    mask = np.ones((f, f)) / (f * f)\n",
    "    \n",
    "    return mask"
   ]
  },
  {
   "cell_type": "code",
   "execution_count": 17,
   "metadata": {},
   "outputs": [],
   "source": [
    "def pool_backwardprop(dZ, cache, mode='max'):\n",
    "\n",
    "    '''\n",
    "    input:\n",
    "        dZ - dJ/dZ, (m_samples, h_new, w_new, channels)\n",
    "        cache - (X_padding, f, p, s)\n",
    "        mode - str, 'max' or 'average'\n",
    "    output:\n",
    "        dX - (m, h-2p, w-2p, c)\n",
    "    '''\n",
    "\n",
    "    X_padding, f, p, s = cache\n",
    "    m, h_new, w_new, c = dZ.shape\n",
    "    h = (h_new - 1) * s + f - 2*p\n",
    "    w = (w_new - 1) * s + f - 2*p\n",
    "    # X_padding - (m,h,w,c)\n",
    "    dX_padding = np.zeros_like(X_padding, dtype=np.float)\n",
    "\n",
    "    for m_ in range(m):\n",
    "        X_m = X_padding[m_, :, :, :]  # (h,w,c)\n",
    "        dZ_m = dZ[m_, :, :, :]  # (h_new,w_new,c)\n",
    "        for c_ in range(c):\n",
    "            X_mc = X_m[:, :, c_]  # (h,w)\n",
    "            dZ_mc = dZ_m[:, :, c_]  # (h_new,w_new)\n",
    "            for i in range(h_new):\n",
    "                for j in range(w_new):\n",
    "                    if mode == 'max':\n",
    "                        X_window = X_mc[(i*s):(i*s+f), (j*s):(j*s+f)]\n",
    "                        mask = mask_max(X_window)\n",
    "                        dX_padding[m_, (i*s):(i*s+f), (j*s):(j*s+f), c_] += dZ_mc[i,j] * mask  # (f,f)\n",
    "                    elif mode == 'average':\n",
    "                        dX_padding[m_, (i*s):(i*s+f), (j*s):(j*s+f), c_] += dZ_mc[i,j] * mask_average(f)  # (f,f)\n",
    "                    else:\n",
    "                        print('Unexcepted mode.')\n",
    "    \n",
    "    dX = dX_padding[:, p:(h-p), p:(w-p), :]\n",
    "\n",
    "    return dX"
   ]
  },
  {
   "cell_type": "code",
   "execution_count": 18,
   "metadata": {},
   "outputs": [
    {
     "name": "stdout",
     "output_type": "stream",
     "text": "dZ: (2, 3, 2, 3)\n[[[[ 6.   6.5  7. ]\n   [ 7.5  8.   8.5]]\n\n  [[10.5 11.  11.5]\n   [12.  12.5 13. ]]\n\n  [[15.  15.5 16. ]\n   [16.5 17.  17.5]]]\n\n\n [[[24.  24.5 25. ]\n   [25.5 26.  26.5]]\n\n  [[28.5 29.  29.5]\n   [30.  30.5 31. ]]\n\n  [[33.  33.5 34. ]\n   [34.5 35.  35.5]]]]\ndX: (2, 4, 3, 3)\n[[[[ 0.   0.   0. ]\n   [ 0.   0.   0. ]\n   [ 0.   0.   0. ]]\n\n  [[ 0.   0.   0. ]\n   [ 6.   6.5  7. ]\n   [ 7.5  8.   8.5]]\n\n  [[ 0.   0.   0. ]\n   [10.5 11.  11.5]\n   [12.  12.5 13. ]]\n\n  [[ 0.   0.   0. ]\n   [15.  15.5 16. ]\n   [16.5 17.  17.5]]]\n\n\n [[[ 0.   0.   0. ]\n   [ 0.   0.   0. ]\n   [ 0.   0.   0. ]]\n\n  [[ 0.   0.   0. ]\n   [24.  24.5 25. ]\n   [25.5 26.  26.5]]\n\n  [[ 0.   0.   0. ]\n   [28.5 29.  29.5]\n   [30.  30.5 31. ]]\n\n  [[ 0.   0.   0. ]\n   [33.  33.5 34. ]\n   [34.5 35.  35.5]]]]\n"
    }
   ],
   "source": [
    "# 测试\n",
    "a = np.arange(72).reshape((2,4,3,3))  # a-(2,4,3,3)\n",
    "f = 2  # filter-(2,2)\n",
    "Z, cache = pool_forwardprop(a, f)  # (2,3,2,3)\n",
    "dZ = Z * 0.5  # A = 0.25 * Z**2\n",
    "dX = pool_backwardprop(dZ, cache, mode='max')\n",
    "print(f'dZ: {dZ.shape}\\n{dZ}')  # (2,3,2,3)\n",
    "print(f'dX: {dX.shape}\\n{dX}')  # (2,4,3,3) -> [0,:,:,0] == 0,0,0; 0,6,7.5; 0,10.5,12; 0,15,16.5"
   ]
  },
  {
   "cell_type": "markdown",
   "execution_count": null,
   "metadata": {},
   "outputs": [],
   "source": [
    "### 以上实现了convolution, pooling 反向传播"
   ]
  },
  {
   "cell_type": "code",
   "execution_count": 19,
   "metadata": {},
   "outputs": [],
   "source": [
    "import math\n",
    "import matplotlib.image as image\n",
    "import tensorflow as tf\n",
    "from tensorflow.python.framework import ops\n",
    "import os\n",
    "os.chdir('./4-1/')\n",
    "import cnn_utils"
   ]
  },
  {
   "cell_type": "code",
   "execution_count": 20,
   "metadata": {},
   "outputs": [],
   "source": [
    "X_train, Y_train, X_test, Y_test, classes =cnn_utils.load_dataset()"
   ]
  },
  {
   "cell_type": "code",
   "execution_count": 21,
   "metadata": {},
   "outputs": [
    {
     "name": "stdout",
     "output_type": "stream",
     "text": "X_train.shape = (1080, 64, 64, 3)\nY_train.shape = (1, 1080)\nX_test.shape = (120, 64, 64, 3)\nY_test.shape = (1, 120)\nclasses.shape = (6,)\nclasses = [0 1 2 3 4 5]\nY = 1\n"
    },
    {
     "data": {
      "text/plain": "<matplotlib.image.AxesImage at 0x2218d864dd8>"
     },
     "execution_count": 21,
     "metadata": {},
     "output_type": "execute_result"
    },
    {
     "data": {
      "image/png": "[encoded data removed]",
      "image/svg+xml": "<?xml version=\"1.0\" encoding=\"utf-8\" standalone=\"no\"?>\r\n<!DOCTYPE svg PUBLIC \"-//W3C//DTD SVG 1.1//EN\"\r\n  \"http://www.w3.org/Graphics/SVG/1.1/DTD/svg11.dtd\">\r\n<!-- Created with matplotlib (https://matplotlib.org/) -->\r\n<svg height=\"252.018125pt\" version=\"1.1\" viewBox=\"0 0 255.065 252.018125\" width=\"255.065pt\" xmlns=\"http://www.w3.org/2000/svg\" xmlns:xlink=\"http://www.w3.org/1999/xlink\">\r\n <defs>\r\n  <style type=\"text/css\">\r\n*{stroke-linecap:butt;stroke-linejoin:round;}\r\n  </style>\r\n </defs>\r\n <g id=\"figure_1\">\r\n  <g id=\"patch_1\">\r\n   <path d=\"M 0 252.018125 \r\nL 255.065 252.018125 \r\nL 255.065 0 \r\nL 0 0 \r\nz\r\n\" style=\"fill:none;\"/>\r\n  </g>\r\n  <g id=\"axes_1\">\r\n   <g id=\"patch_2\">\r\n    <path d=\"M 26.925 228.14 \r\nL 244.365 228.14 \r\nL 244.365 10.7 \r\nL 26.925 10.7 \r\nz\r\n\" style=\"fill:#ffffff;\"/>\r\n   </g>\r\n   <g clip-path=\"url(#pc2f54607fb)\">\r\n    <image height=\"218\" id=\"image4aaefb5c89\" transform=\"scale(1 -1)translate(0 -218)\" width=\"218\" x=\"26.925\" xlink:href=\"data:image/png;base64,\r\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\" y=\"-10.14\"/>\r\n   </g>\r\n   <g id=\"matplotlib.axis_1\">\r\n    <g id=\"xtick_1\">\r\n     <g id=\"line2d_1\">\r\n      <defs>\r\n       <path d=\"M 0 0 \r\nL 0 3.5 \r\n\" id=\"mf9bfa7ad78\" style=\"stroke:#000000;stroke-width:0.8;\"/>\r\n      </defs>\r\n      <g>\r\n       <use style=\"stroke:#000000;stroke-width:0.8;\" x=\"28.62375\" xlink:href=\"#mf9bfa7ad78\" y=\"228.14\"/>\r\n      </g>\r\n     </g>\r\n     <g id=\"text_1\">\r\n      <!-- 0 -->\r\n      <defs>\r\n       <path d=\"M 31.78125 66.40625 \r\nQ 24.171875 66.40625 20.328125 58.90625 \r\nQ 16.5 51.421875 16.5 36.375 \r\nQ 16.5 21.390625 20.328125 13.890625 \r\nQ 24.171875 6.390625 31.78125 6.390625 \r\nQ 39.453125 6.390625 43.28125 13.890625 \r\nQ 47.125 21.390625 47.125 36.375 \r\nQ 47.125 51.421875 43.28125 58.90625 \r\nQ 39.453125 66.40625 31.78125 66.40625 \r\nz\r\nM 31.78125 74.21875 \r\nQ 44.046875 74.21875 50.515625 64.515625 \r\nQ 56.984375 54.828125 56.984375 36.375 \r\nQ 56.984375 17.96875 50.515625 8.265625 \r\nQ 44.046875 -1.421875 31.78125 -1.421875 \r\nQ 19.53125 -1.421875 13.0625 8.265625 \r\nQ 6.59375 17.96875 6.59375 36.375 \r\nQ 6.59375 54.828125 13.0625 64.515625 \r\nQ 19.53125 74.21875 31.78125 74.21875 \r\nz\r\n\" id=\"DejaVuSans-48\"/>\r\n      </defs>\r\n      <g transform=\"translate(25.4425 242.738437)scale(0.1 -0.1)\">\r\n       <use xlink:href=\"#DejaVuSans-48\"/>\r\n      </g>\r\n     </g>\r\n    </g>\r\n    <g id=\"xtick_2\">\r\n     <g id=\"line2d_2\">\r\n      <g>\r\n       <use style=\"stroke:#000000;stroke-width:0.8;\" x=\"62.59875\" xlink:href=\"#mf9bfa7ad78\" y=\"228.14\"/>\r\n      </g>\r\n     </g>\r\n     <g id=\"text_2\">\r\n      <!-- 10 -->\r\n      <defs>\r\n       <path d=\"M 12.40625 8.296875 \r\nL 28.515625 8.296875 \r\nL 28.515625 63.921875 \r\nL 10.984375 60.40625 \r\nL 10.984375 69.390625 \r\nL 28.421875 72.90625 \r\nL 38.28125 72.90625 \r\nL 38.28125 8.296875 \r\nL 54.390625 8.296875 \r\nL 54.390625 0 \r\nL 12.40625 0 \r\nz\r\n\" id=\"DejaVuSans-49\"/>\r\n      </defs>\r\n      <g transform=\"translate(56.23625 242.738437)scale(0.1 -0.1)\">\r\n       <use xlink:href=\"#DejaVuSans-49\"/>\r\n       <use x=\"63.623047\" xlink:href=\"#DejaVuSans-48\"/>\r\n      </g>\r\n     </g>\r\n    </g>\r\n    <g id=\"xtick_3\">\r\n     <g id=\"line2d_3\">\r\n      <g>\r\n       <use style=\"stroke:#000000;stroke-width:0.8;\" x=\"96.57375\" xlink:href=\"#mf9bfa7ad78\" y=\"228.14\"/>\r\n      </g>\r\n     </g>\r\n     <g id=\"text_3\">\r\n      <!-- 20 -->\r\n      <defs>\r\n       <path d=\"M 19.1875 8.296875 \r\nL 53.609375 8.296875 \r\nL 53.609375 0 \r\nL 7.328125 0 \r\nL 7.328125 8.296875 \r\nQ 12.9375 14.109375 22.625 23.890625 \r\nQ 32.328125 33.6875 34.8125 36.53125 \r\nQ 39.546875 41.84375 41.421875 45.53125 \r\nQ 43.3125 49.21875 43.3125 52.78125 \r\nQ 43.3125 58.59375 39.234375 62.25 \r\nQ 35.15625 65.921875 28.609375 65.921875 \r\nQ 23.96875 65.921875 18.8125 64.3125 \r\nQ 13.671875 62.703125 7.8125 59.421875 \r\nL 7.8125 69.390625 \r\nQ 13.765625 71.78125 18.9375 73 \r\nQ 24.125 74.21875 28.421875 74.21875 \r\nQ 39.75 74.21875 46.484375 68.546875 \r\nQ 53.21875 62.890625 53.21875 53.421875 \r\nQ 53.21875 48.921875 51.53125 44.890625 \r\nQ 49.859375 40.875 45.40625 35.40625 \r\nQ 44.1875 33.984375 37.640625 27.21875 \r\nQ 31.109375 20.453125 19.1875 8.296875 \r\nz\r\n\" id=\"DejaVuSans-50\"/>\r\n      </defs>\r\n      <g transform=\"translate(90.21125 242.738437)scale(0.1 -0.1)\">\r\n       <use xlink:href=\"#DejaVuSans-50\"/>\r\n       <use x=\"63.623047\" xlink:href=\"#DejaVuSans-48\"/>\r\n      </g>\r\n     </g>\r\n    </g>\r\n    <g id=\"xtick_4\">\r\n     <g id=\"line2d_4\">\r\n      <g>\r\n       <use style=\"stroke:#000000;stroke-width:0.8;\" x=\"130.54875\" xlink:href=\"#mf9bfa7ad78\" y=\"228.14\"/>\r\n      </g>\r\n     </g>\r\n     <g id=\"text_4\">\r\n      <!-- 30 -->\r\n      <defs>\r\n       <path d=\"M 40.578125 39.3125 \r\nQ 47.65625 37.796875 51.625 33 \r\nQ 55.609375 28.21875 55.609375 21.1875 \r\nQ 55.609375 10.40625 48.1875 4.484375 \r\nQ 40.765625 -1.421875 27.09375 -1.421875 \r\nQ 22.515625 -1.421875 17.65625 -0.515625 \r\nQ 12.796875 0.390625 7.625 2.203125 \r\nL 7.625 11.71875 \r\nQ 11.71875 9.328125 16.59375 8.109375 \r\nQ 21.484375 6.890625 26.8125 6.890625 \r\nQ 36.078125 6.890625 40.9375 10.546875 \r\nQ 45.796875 14.203125 45.796875 21.1875 \r\nQ 45.796875 27.640625 41.28125 31.265625 \r\nQ 36.765625 34.90625 28.71875 34.90625 \r\nL 20.21875 34.90625 \r\nL 20.21875 43.015625 \r\nL 29.109375 43.015625 \r\nQ 36.375 43.015625 40.234375 45.921875 \r\nQ 44.09375 48.828125 44.09375 54.296875 \r\nQ 44.09375 59.90625 40.109375 62.90625 \r\nQ 36.140625 65.921875 28.71875 65.921875 \r\nQ 24.65625 65.921875 20.015625 65.03125 \r\nQ 15.375 64.15625 9.8125 62.3125 \r\nL 9.8125 71.09375 \r\nQ 15.4375 72.65625 20.34375 73.4375 \r\nQ 25.25 74.21875 29.59375 74.21875 \r\nQ 40.828125 74.21875 47.359375 69.109375 \r\nQ 53.90625 64.015625 53.90625 55.328125 \r\nQ 53.90625 49.265625 50.4375 45.09375 \r\nQ 46.96875 40.921875 40.578125 39.3125 \r\nz\r\n\" id=\"DejaVuSans-51\"/>\r\n      </defs>\r\n      <g transform=\"translate(124.18625 242.738437)scale(0.1 -0.1)\">\r\n       <use xlink:href=\"#DejaVuSans-51\"/>\r\n       <use x=\"63.623047\" xlink:href=\"#DejaVuSans-48\"/>\r\n      </g>\r\n     </g>\r\n    </g>\r\n    <g id=\"xtick_5\">\r\n     <g id=\"line2d_5\">\r\n      <g>\r\n       <use style=\"stroke:#000000;stroke-width:0.8;\" x=\"164.52375\" xlink:href=\"#mf9bfa7ad78\" y=\"228.14\"/>\r\n      </g>\r\n     </g>\r\n     <g id=\"text_5\">\r\n      <!-- 40 -->\r\n      <defs>\r\n       <path d=\"M 37.796875 64.3125 \r\nL 12.890625 25.390625 \r\nL 37.796875 25.390625 \r\nz\r\nM 35.203125 72.90625 \r\nL 47.609375 72.90625 \r\nL 47.609375 25.390625 \r\nL 58.015625 25.390625 \r\nL 58.015625 17.1875 \r\nL 47.609375 17.1875 \r\nL 47.609375 0 \r\nL 37.796875 0 \r\nL 37.796875 17.1875 \r\nL 4.890625 17.1875 \r\nL 4.890625 26.703125 \r\nz\r\n\" id=\"DejaVuSans-52\"/>\r\n      </defs>\r\n      <g transform=\"translate(158.16125 242.738437)scale(0.1 -0.1)\">\r\n       <use xlink:href=\"#DejaVuSans-52\"/>\r\n       <use x=\"63.623047\" xlink:href=\"#DejaVuSans-48\"/>\r\n      </g>\r\n     </g>\r\n    </g>\r\n    <g id=\"xtick_6\">\r\n     <g id=\"line2d_6\">\r\n      <g>\r\n       <use style=\"stroke:#000000;stroke-width:0.8;\" x=\"198.49875\" xlink:href=\"#mf9bfa7ad78\" y=\"228.14\"/>\r\n      </g>\r\n     </g>\r\n     <g id=\"text_6\">\r\n      <!-- 50 -->\r\n      <defs>\r\n       <path d=\"M 10.796875 72.90625 \r\nL 49.515625 72.90625 \r\nL 49.515625 64.59375 \r\nL 19.828125 64.59375 \r\nL 19.828125 46.734375 \r\nQ 21.96875 47.46875 24.109375 47.828125 \r\nQ 26.265625 48.1875 28.421875 48.1875 \r\nQ 40.625 48.1875 47.75 41.5 \r\nQ 54.890625 34.8125 54.890625 23.390625 \r\nQ 54.890625 11.625 47.5625 5.09375 \r\nQ 40.234375 -1.421875 26.90625 -1.421875 \r\nQ 22.3125 -1.421875 17.546875 -0.640625 \r\nQ 12.796875 0.140625 7.71875 1.703125 \r\nL 7.71875 11.625 \r\nQ 12.109375 9.234375 16.796875 8.0625 \r\nQ 21.484375 6.890625 26.703125 6.890625 \r\nQ 35.15625 6.890625 40.078125 11.328125 \r\nQ 45.015625 15.765625 45.015625 23.390625 \r\nQ 45.015625 31 40.078125 35.4375 \r\nQ 35.15625 39.890625 26.703125 39.890625 \r\nQ 22.75 39.890625 18.8125 39.015625 \r\nQ 14.890625 38.140625 10.796875 36.28125 \r\nz\r\n\" id=\"DejaVuSans-53\"/>\r\n      </defs>\r\n      <g transform=\"translate(192.13625 242.738437)scale(0.1 -0.1)\">\r\n       <use xlink:href=\"#DejaVuSans-53\"/>\r\n       <use x=\"63.623047\" xlink:href=\"#DejaVuSans-48\"/>\r\n      </g>\r\n     </g>\r\n    </g>\r\n    <g id=\"xtick_7\">\r\n     <g id=\"line2d_7\">\r\n      <g>\r\n       <use style=\"stroke:#000000;stroke-width:0.8;\" x=\"232.47375\" xlink:href=\"#mf9bfa7ad78\" y=\"228.14\"/>\r\n      </g>\r\n     </g>\r\n     <g id=\"text_7\">\r\n      <!-- 60 -->\r\n      <defs>\r\n       <path d=\"M 33.015625 40.375 \r\nQ 26.375 40.375 22.484375 35.828125 \r\nQ 18.609375 31.296875 18.609375 23.390625 \r\nQ 18.609375 15.53125 22.484375 10.953125 \r\nQ 26.375 6.390625 33.015625 6.390625 \r\nQ 39.65625 6.390625 43.53125 10.953125 \r\nQ 47.40625 15.53125 47.40625 23.390625 \r\nQ 47.40625 31.296875 43.53125 35.828125 \r\nQ 39.65625 40.375 33.015625 40.375 \r\nz\r\nM 52.59375 71.296875 \r\nL 52.59375 62.3125 \r\nQ 48.875 64.0625 45.09375 64.984375 \r\nQ 41.3125 65.921875 37.59375 65.921875 \r\nQ 27.828125 65.921875 22.671875 59.328125 \r\nQ 17.53125 52.734375 16.796875 39.40625 \r\nQ 19.671875 43.65625 24.015625 45.921875 \r\nQ 28.375 48.1875 33.59375 48.1875 \r\nQ 44.578125 48.1875 50.953125 41.515625 \r\nQ 57.328125 34.859375 57.328125 23.390625 \r\nQ 57.328125 12.15625 50.6875 5.359375 \r\nQ 44.046875 -1.421875 33.015625 -1.421875 \r\nQ 20.359375 -1.421875 13.671875 8.265625 \r\nQ 6.984375 17.96875 6.984375 36.375 \r\nQ 6.984375 53.65625 15.1875 63.9375 \r\nQ 23.390625 74.21875 37.203125 74.21875 \r\nQ 40.921875 74.21875 44.703125 73.484375 \r\nQ 48.484375 72.75 52.59375 71.296875 \r\nz\r\n\" id=\"DejaVuSans-54\"/>\r\n      </defs>\r\n      <g transform=\"translate(226.11125 242.738437)scale(0.1 -0.1)\">\r\n       <use xlink:href=\"#DejaVuSans-54\"/>\r\n       <use x=\"63.623047\" xlink:href=\"#DejaVuSans-48\"/>\r\n      </g>\r\n     </g>\r\n    </g>\r\n   </g>\r\n   <g id=\"matplotlib.axis_2\">\r\n    <g id=\"ytick_1\">\r\n     <g id=\"line2d_8\">\r\n      <defs>\r\n       <path d=\"M 0 0 \r\nL -3.5 0 \r\n\" id=\"m721ae29d78\" style=\"stroke:#000000;stroke-width:0.8;\"/>\r\n      </defs>\r\n      <g>\r\n       <use style=\"stroke:#000000;stroke-width:0.8;\" x=\"26.925\" xlink:href=\"#m721ae29d78\" y=\"12.39875\"/>\r\n      </g>\r\n     </g>\r\n     <g id=\"text_8\">\r\n      <!-- 0 -->\r\n      <g transform=\"translate(13.5625 16.197969)scale(0.1 -0.1)\">\r\n       <use xlink:href=\"#DejaVuSans-48\"/>\r\n      </g>\r\n     </g>\r\n    </g>\r\n    <g id=\"ytick_2\">\r\n     <g id=\"line2d_9\">\r\n      <g>\r\n       <use style=\"stroke:#000000;stroke-width:0.8;\" x=\"26.925\" xlink:href=\"#m721ae29d78\" y=\"46.37375\"/>\r\n      </g>\r\n     </g>\r\n     <g id=\"text_9\">\r\n      <!-- 10 -->\r\n      <g transform=\"translate(7.2 50.172969)scale(0.1 -0.1)\">\r\n       <use xlink:href=\"#DejaVuSans-49\"/>\r\n       <use x=\"63.623047\" xlink:href=\"#DejaVuSans-48\"/>\r\n      </g>\r\n     </g>\r\n    </g>\r\n    <g id=\"ytick_3\">\r\n     <g id=\"line2d_10\">\r\n      <g>\r\n       <use style=\"stroke:#000000;stroke-width:0.8;\" x=\"26.925\" xlink:href=\"#m721ae29d78\" y=\"80.34875\"/>\r\n      </g>\r\n     </g>\r\n     <g id=\"text_10\">\r\n      <!-- 20 -->\r\n      <g transform=\"translate(7.2 84.147969)scale(0.1 -0.1)\">\r\n       <use xlink:href=\"#DejaVuSans-50\"/>\r\n       <use x=\"63.623047\" xlink:href=\"#DejaVuSans-48\"/>\r\n      </g>\r\n     </g>\r\n    </g>\r\n    <g id=\"ytick_4\">\r\n     <g id=\"line2d_11\">\r\n      <g>\r\n       <use style=\"stroke:#000000;stroke-width:0.8;\" x=\"26.925\" xlink:href=\"#m721ae29d78\" y=\"114.32375\"/>\r\n      </g>\r\n     </g>\r\n     <g id=\"text_11\">\r\n      <!-- 30 -->\r\n      <g transform=\"translate(7.2 118.122969)scale(0.1 -0.1)\">\r\n       <use xlink:href=\"#DejaVuSans-51\"/>\r\n       <use x=\"63.623047\" xlink:href=\"#DejaVuSans-48\"/>\r\n      </g>\r\n     </g>\r\n    </g>\r\n    <g id=\"ytick_5\">\r\n     <g id=\"line2d_12\">\r\n      <g>\r\n       <use style=\"stroke:#000000;stroke-width:0.8;\" x=\"26.925\" xlink:href=\"#m721ae29d78\" y=\"148.29875\"/>\r\n      </g>\r\n     </g>\r\n     <g id=\"text_12\">\r\n      <!-- 40 -->\r\n      <g transform=\"translate(7.2 152.097969)scale(0.1 -0.1)\">\r\n       <use xlink:href=\"#DejaVuSans-52\"/>\r\n       <use x=\"63.623047\" xlink:href=\"#DejaVuSans-48\"/>\r\n      </g>\r\n     </g>\r\n    </g>\r\n    <g id=\"ytick_6\">\r\n     <g id=\"line2d_13\">\r\n      <g>\r\n       <use style=\"stroke:#000000;stroke-width:0.8;\" x=\"26.925\" xlink:href=\"#m721ae29d78\" y=\"182.27375\"/>\r\n      </g>\r\n     </g>\r\n     <g id=\"text_13\">\r\n      <!-- 50 -->\r\n      <g transform=\"translate(7.2 186.072969)scale(0.1 -0.1)\">\r\n       <use xlink:href=\"#DejaVuSans-53\"/>\r\n       <use x=\"63.623047\" xlink:href=\"#DejaVuSans-48\"/>\r\n      </g>\r\n     </g>\r\n    </g>\r\n    <g id=\"ytick_7\">\r\n     <g id=\"line2d_14\">\r\n      <g>\r\n       <use style=\"stroke:#000000;stroke-width:0.8;\" x=\"26.925\" xlink:href=\"#m721ae29d78\" y=\"216.24875\"/>\r\n      </g>\r\n     </g>\r\n     <g id=\"text_14\">\r\n      <!-- 60 -->\r\n      <g transform=\"translate(7.2 220.047969)scale(0.1 -0.1)\">\r\n       <use xlink:href=\"#DejaVuSans-54\"/>\r\n       <use x=\"63.623047\" xlink:href=\"#DejaVuSans-48\"/>\r\n      </g>\r\n     </g>\r\n    </g>\r\n   </g>\r\n   <g id=\"patch_3\">\r\n    <path d=\"M 26.925 228.14 \r\nL 26.925 10.7 \r\n\" style=\"fill:none;stroke:#000000;stroke-linecap:square;stroke-linejoin:miter;stroke-width:0.8;\"/>\r\n   </g>\r\n   <g id=\"patch_4\">\r\n    <path d=\"M 244.365 228.14 \r\nL 244.365 10.7 \r\n\" style=\"fill:none;stroke:#000000;stroke-linecap:square;stroke-linejoin:miter;stroke-width:0.8;\"/>\r\n   </g>\r\n   <g id=\"patch_5\">\r\n    <path d=\"M 26.925 228.14 \r\nL 244.365 228.14 \r\n\" style=\"fill:none;stroke:#000000;stroke-linecap:square;stroke-linejoin:miter;stroke-width:0.8;\"/>\r\n   </g>\r\n   <g id=\"patch_6\">\r\n    <path d=\"M 26.925 10.7 \r\nL 244.365 10.7 \r\n\" style=\"fill:none;stroke:#000000;stroke-linecap:square;stroke-linejoin:miter;stroke-width:0.8;\"/>\r\n   </g>\r\n  </g>\r\n </g>\r\n <defs>\r\n  <clipPath id=\"pc2f54607fb\">\r\n   <rect height=\"217.44\" width=\"217.44\" x=\"26.925\" y=\"10.7\"/>\r\n  </clipPath>\r\n </defs>\r\n</svg>\r\n",
      "text/plain": "<Figure size 432x288 with 1 Axes>"
     },
     "metadata": {
      "needs_background": "light"
     },
     "output_type": "display_data"
    }
   ],
   "source": [
    "print(f'X_train.shape = {X_train.shape}')\n",
    "print(f'Y_train.shape = {Y_train.shape}')\n",
    "print(f'X_test.shape = {X_test.shape}')\n",
    "print(f'Y_test.shape = {Y_test.shape}')\n",
    "print(f'classes.shape = {classes.shape}')\n",
    "print(f'classes = {classes}')\n",
    "print(f'Y = {Y_train[0,11]}')\n",
    "plt.imshow(X_train[11])"
   ]
  },
  {
   "cell_type": "code",
   "execution_count": 22,
   "metadata": {},
   "outputs": [
    {
     "name": "stdout",
     "output_type": "stream",
     "text": "X_train.shape = (1080, 64, 64, 3)\nY_train.shape = (1080, 6)\nX_test.shape = (120, 64, 64, 3)\nY_test.shape = (120, 1)\n"
    }
   ],
   "source": [
    "C = len(classes)\n",
    "X_train = X_train / 255\n",
    "Y_train = cnn_utils.convert_to_one_hot(Y_train, C).T\n",
    "X_test = X_test / 255\n",
    "Y_test = Y_test.T\n",
    "print(f'X_train.shape = {X_train.shape}')\n",
    "print(f'Y_train.shape = {Y_train.shape}')\n",
    "print(f'X_test.shape = {X_test.shape}')\n",
    "print(f'Y_test.shape = {Y_test.shape}')"
   ]
  },
  {
   "cell_type": "code",
   "execution_count": 23,
   "metadata": {},
   "outputs": [],
   "source": [
    "def create_placeholders(n_h, n_w, n_c, n_y):\n",
    "    \n",
    "    x = tf.placeholder(tf.float32, [None, n_h, n_w, n_c])\n",
    "    y = tf.placeholder(tf.float32, [None, n_y])\n",
    "    \n",
    "    return x, y"
   ]
  },
  {
   "cell_type": "markdown",
   "execution_count": null,
   "metadata": {},
   "outputs": [],
   "source": [
    "### -> input\n",
    "- X - (1080, 64, 64, 3)\n",
    "### -> conv (same)\n",
    "- s = 1\n",
    "- W1 - (4, 4, 3, 8)\n",
    "- Z1 - (1080, 64, 64, 8)\n",
    "### -> relu \n",
    "- A1 - (1080, 64, 64, 8)\n",
    "### -> maxpool (same)\n",
    "- s = 8\n",
    "- f = 8\n",
    "- P1 - (1080, 8, 8, 8)\n",
    "### -> conv (same)\n",
    "- s = 1\n",
    "- W2 - (2, 2, 8, 16)\n",
    "- Z2 - (1080, 8, 8, 16)\n",
    "### -> relu\n",
    "- A2 - (1080, 8, 8, 16)\n",
    "### -> maxpool (same)\n",
    "- s = 4\n",
    "- f = 4\n",
    "- P2 - (1080, 2, 2, 16)\n",
    "### -> fc (linear output)\n",
    "- 2\\*2\\*16 -> 6\n",
    "- Z3 - (1080, 6)\n",
    "### -> softmax\n",
    "- run in optimizer"
   ]
  },
  {
   "cell_type": "code",
   "execution_count": 24,
   "metadata": {},
   "outputs": [],
   "source": [
    "def init_params():\n",
    "    \n",
    "    W1 = tf.get_variable('W1', [4,4,3,8], initializer=tf.contrib.layers.xavier_initializer(seed=0))\n",
    "    W2 = tf.get_variable('W2', [2,2,8,16], initializer=tf.contrib.layers.xavier_initializer(seed=0))\n",
    "    params = {\n",
    "        'W1': W1,\n",
    "        'W2': W2\n",
    "    }\n",
    "    \n",
    "    return params"
   ]
  },
  {
   "cell_type": "code",
   "execution_count": 25,
   "metadata": {},
   "outputs": [],
   "source": [
    "def forward_prop(X, params):\n",
    "\n",
    "    W1 = params['W1']\n",
    "    W2 = params['W2']\n",
    "\n",
    "    # 1. conv2d -> relu -> maxpool\n",
    "    Z1 = tf.nn.conv2d(X, W1, strides=[1,1,1,1], padding='SAME')\n",
    "    A1 = tf.nn.relu(Z1)\n",
    "    P1 = tf.nn.max_pool(A1, ksize=[1,8,8,1], strides=[1,8,8,1], padding='SAME')\n",
    "\n",
    "    # 2. conv2d -> relu -> maxpool\n",
    "    Z2 = tf.nn.conv2d(P1, W2, strides=[1,1,1,1], padding='SAME')\n",
    "    A2 = tf.nn.relu(Z2)\n",
    "    P2 = tf.nn.max_pool(A2, ksize=[1,4,4,1], strides=[1,4,4,1], padding='SAME')\n",
    "\n",
    "    # 3. flatten\n",
    "    P = tf.contrib.layers.flatten(P2)\n",
    "\n",
    "    # 4. FC(linear)\n",
    "    Z3 = tf.contrib.layers.fully_connected(P, 6, activation_fn=None)\n",
    "\n",
    "    return Z3"
   ]
  },
  {
   "cell_type": "code",
   "execution_count": 26,
   "metadata": {},
   "outputs": [],
   "source": [
    "def compute_cost(Z3, Y):\n",
    "\n",
    "    cost = tf.reduce_mean(tf.nn.softmax_cross_entropy_with_logits(logits=Z3, labels=Y))\n",
    "    # (m_batches, n_features)\n",
    "    \n",
    "    return cost"
   ]
  },
  {
   "cell_type": "code",
   "execution_count": 33,
   "metadata": {},
   "outputs": [
    {
     "name": "stdout",
     "output_type": "stream",
     "text": "WARNING:tensorflow:Entity <bound method Flatten.call of <tensorflow.python.layers.core.Flatten object at 0x0000022183A59080>> could not be transformed and will be executed as-is. Please report this to the AutgoGraph team. When filing the bug, set the verbosity to 10 (on Linux, `export AUTOGRAPH_VERBOSITY=10`) and attach the full output. Cause: converting <bound method Flatten.call of <tensorflow.python.layers.core.Flatten object at 0x0000022183A59080>>: AttributeError: module 'gast' has no attribute 'Num'\nWARNING: Entity <bound method Flatten.call of <tensorflow.python.layers.core.Flatten object at 0x0000022183A59080>> could not be transformed and will be executed as-is. Please report this to the AutgoGraph team. When filing the bug, set the verbosity to 10 (on Linux, `export AUTOGRAPH_VERBOSITY=10`) and attach the full output. Cause: converting <bound method Flatten.call of <tensorflow.python.layers.core.Flatten object at 0x0000022183A59080>>: AttributeError: module 'gast' has no attribute 'Num'\nWARNING:tensorflow:Entity <bound method Dense.call of <tensorflow.python.layers.core.Dense object at 0x0000022186497F28>> could not be transformed and will be executed as-is. Please report this to the AutgoGraph team. When filing the bug, set the verbosity to 10 (on Linux, `export AUTOGRAPH_VERBOSITY=10`) and attach the full output. Cause: converting <bound method Dense.call of <tensorflow.python.layers.core.Dense object at 0x0000022186497F28>>: AssertionError: Bad argument number for Name: 3, expecting 4\nWARNING: Entity <bound method Dense.call of <tensorflow.python.layers.core.Dense object at 0x0000022186497F28>> could not be transformed and will be executed as-is. Please report this to the AutgoGraph team. When filing the bug, set the verbosity to 10 (on Linux, `export AUTOGRAPH_VERBOSITY=10`) and attach the full output. Cause: converting <bound method Dense.call of <tensorflow.python.layers.core.Dense object at 0x0000022186497F28>>: AssertionError: Bad argument number for Name: 3, expecting 4\nNo.1 iteration's loss: 1.778266191482544\nNo.100 iteration's loss: 0.05900024622678757\nNo.200 iteration's loss: 0.01004706509411335\nNo.300 iteration's loss: 0.005345967132598162\nNo.400 iteration's loss: 0.0007459539920091629\nNo.500 iteration's loss: 0.00032503335387445986\n"
    },
    {
     "data": {
      "image/png": "[encoded data removed]",
      "image/svg+xml": "<?xml version=\"1.0\" encoding=\"utf-8\" standalone=\"no\"?>\r\n<!DOCTYPE svg PUBLIC \"-//W3C//DTD SVG 1.1//EN\"\r\n  \"http://www.w3.org/Graphics/SVG/1.1/DTD/svg11.dtd\">\r\n<!-- Created with matplotlib (https://matplotlib.org/) -->\r\n<svg height=\"277.314375pt\" version=\"1.1\" viewBox=\"0 0 389.28125 277.314375\" width=\"389.28125pt\" xmlns=\"http://www.w3.org/2000/svg\" xmlns:xlink=\"http://www.w3.org/1999/xlink\">\r\n <defs>\r\n  <style type=\"text/css\">\r\n*{stroke-linecap:butt;stroke-linejoin:round;}\r\n  </style>\r\n </defs>\r\n <g id=\"figure_1\">\r\n  <g id=\"patch_1\">\r\n   <path d=\"M 0 277.314375 \r\nL 389.28125 277.314375 \r\nL 389.28125 0 \r\nL 0 0 \r\nz\r\n\" style=\"fill:none;\"/>\r\n  </g>\r\n  <g id=\"axes_1\">\r\n   <g id=\"patch_2\">\r\n    <path d=\"M 43.78125 239.758125 \r\nL 378.58125 239.758125 \r\nL 378.58125 22.318125 \r\nL 43.78125 22.318125 \r\nz\r\n\" style=\"fill:#ffffff;\"/>\r\n   </g>\r\n   <g id=\"matplotlib.axis_1\">\r\n    <g id=\"xtick_1\">\r\n     <g id=\"line2d_1\">\r\n      <defs>\r\n       <path d=\"M 0 0 \r\nL 0 3.5 \r\n\" id=\"mf844f8d275\" style=\"stroke:#000000;stroke-width:0.8;\"/>\r\n      </defs>\r\n      <g>\r\n       <use style=\"stroke:#000000;stroke-width:0.8;\" x=\"58.999432\" xlink:href=\"#mf844f8d275\" y=\"239.758125\"/>\r\n      </g>\r\n     </g>\r\n     <g id=\"text_1\">\r\n      <!-- 0 -->\r\n      <defs>\r\n       <path d=\"M 31.78125 66.40625 \r\nQ 24.171875 66.40625 20.328125 58.90625 \r\nQ 16.5 51.421875 16.5 36.375 \r\nQ 16.5 21.390625 20.328125 13.890625 \r\nQ 24.171875 6.390625 31.78125 6.390625 \r\nQ 39.453125 6.390625 43.28125 13.890625 \r\nQ 47.125 21.390625 47.125 36.375 \r\nQ 47.125 51.421875 43.28125 58.90625 \r\nQ 39.453125 66.40625 31.78125 66.40625 \r\nz\r\nM 31.78125 74.21875 \r\nQ 44.046875 74.21875 50.515625 64.515625 \r\nQ 56.984375 54.828125 56.984375 36.375 \r\nQ 56.984375 17.96875 50.515625 8.265625 \r\nQ 44.046875 -1.421875 31.78125 -1.421875 \r\nQ 19.53125 -1.421875 13.0625 8.265625 \r\nQ 6.59375 17.96875 6.59375 36.375 \r\nQ 6.59375 54.828125 13.0625 64.515625 \r\nQ 19.53125 74.21875 31.78125 74.21875 \r\nz\r\n\" id=\"DejaVuSans-48\"/>\r\n      </defs>\r\n      <g transform=\"translate(55.818182 254.356562)scale(0.1 -0.1)\">\r\n       <use xlink:href=\"#DejaVuSans-48\"/>\r\n      </g>\r\n     </g>\r\n    </g>\r\n    <g id=\"xtick_2\">\r\n     <g id=\"line2d_2\">\r\n      <g>\r\n       <use style=\"stroke:#000000;stroke-width:0.8;\" x=\"121.11446\" xlink:href=\"#mf844f8d275\" y=\"239.758125\"/>\r\n      </g>\r\n     </g>\r\n     <g id=\"text_2\">\r\n      <!-- 10 -->\r\n      <defs>\r\n       <path d=\"M 12.40625 8.296875 \r\nL 28.515625 8.296875 \r\nL 28.515625 63.921875 \r\nL 10.984375 60.40625 \r\nL 10.984375 69.390625 \r\nL 28.421875 72.90625 \r\nL 38.28125 72.90625 \r\nL 38.28125 8.296875 \r\nL 54.390625 8.296875 \r\nL 54.390625 0 \r\nL 12.40625 0 \r\nz\r\n\" id=\"DejaVuSans-49\"/>\r\n      </defs>\r\n      <g transform=\"translate(114.75196 254.356562)scale(0.1 -0.1)\">\r\n       <use xlink:href=\"#DejaVuSans-49\"/>\r\n       <use x=\"63.623047\" xlink:href=\"#DejaVuSans-48\"/>\r\n      </g>\r\n     </g>\r\n    </g>\r\n    <g id=\"xtick_3\">\r\n     <g id=\"line2d_3\">\r\n      <g>\r\n       <use style=\"stroke:#000000;stroke-width:0.8;\" x=\"183.229487\" xlink:href=\"#mf844f8d275\" y=\"239.758125\"/>\r\n      </g>\r\n     </g>\r\n     <g id=\"text_3\">\r\n      <!-- 20 -->\r\n      <defs>\r\n       <path d=\"M 19.1875 8.296875 \r\nL 53.609375 8.296875 \r\nL 53.609375 0 \r\nL 7.328125 0 \r\nL 7.328125 8.296875 \r\nQ 12.9375 14.109375 22.625 23.890625 \r\nQ 32.328125 33.6875 34.8125 36.53125 \r\nQ 39.546875 41.84375 41.421875 45.53125 \r\nQ 43.3125 49.21875 43.3125 52.78125 \r\nQ 43.3125 58.59375 39.234375 62.25 \r\nQ 35.15625 65.921875 28.609375 65.921875 \r\nQ 23.96875 65.921875 18.8125 64.3125 \r\nQ 13.671875 62.703125 7.8125 59.421875 \r\nL 7.8125 69.390625 \r\nQ 13.765625 71.78125 18.9375 73 \r\nQ 24.125 74.21875 28.421875 74.21875 \r\nQ 39.75 74.21875 46.484375 68.546875 \r\nQ 53.21875 62.890625 53.21875 53.421875 \r\nQ 53.21875 48.921875 51.53125 44.890625 \r\nQ 49.859375 40.875 45.40625 35.40625 \r\nQ 44.1875 33.984375 37.640625 27.21875 \r\nQ 31.109375 20.453125 19.1875 8.296875 \r\nz\r\n\" id=\"DejaVuSans-50\"/>\r\n      </defs>\r\n      <g transform=\"translate(176.866987 254.356562)scale(0.1 -0.1)\">\r\n       <use xlink:href=\"#DejaVuSans-50\"/>\r\n       <use x=\"63.623047\" xlink:href=\"#DejaVuSans-48\"/>\r\n      </g>\r\n     </g>\r\n    </g>\r\n    <g id=\"xtick_4\">\r\n     <g id=\"line2d_4\">\r\n      <g>\r\n       <use style=\"stroke:#000000;stroke-width:0.8;\" x=\"245.344515\" xlink:href=\"#mf844f8d275\" y=\"239.758125\"/>\r\n      </g>\r\n     </g>\r\n     <g id=\"text_4\">\r\n      <!-- 30 -->\r\n      <defs>\r\n       <path d=\"M 40.578125 39.3125 \r\nQ 47.65625 37.796875 51.625 33 \r\nQ 55.609375 28.21875 55.609375 21.1875 \r\nQ 55.609375 10.40625 48.1875 4.484375 \r\nQ 40.765625 -1.421875 27.09375 -1.421875 \r\nQ 22.515625 -1.421875 17.65625 -0.515625 \r\nQ 12.796875 0.390625 7.625 2.203125 \r\nL 7.625 11.71875 \r\nQ 11.71875 9.328125 16.59375 8.109375 \r\nQ 21.484375 6.890625 26.8125 6.890625 \r\nQ 36.078125 6.890625 40.9375 10.546875 \r\nQ 45.796875 14.203125 45.796875 21.1875 \r\nQ 45.796875 27.640625 41.28125 31.265625 \r\nQ 36.765625 34.90625 28.71875 34.90625 \r\nL 20.21875 34.90625 \r\nL 20.21875 43.015625 \r\nL 29.109375 43.015625 \r\nQ 36.375 43.015625 40.234375 45.921875 \r\nQ 44.09375 48.828125 44.09375 54.296875 \r\nQ 44.09375 59.90625 40.109375 62.90625 \r\nQ 36.140625 65.921875 28.71875 65.921875 \r\nQ 24.65625 65.921875 20.015625 65.03125 \r\nQ 15.375 64.15625 9.8125 62.3125 \r\nL 9.8125 71.09375 \r\nQ 15.4375 72.65625 20.34375 73.4375 \r\nQ 25.25 74.21875 29.59375 74.21875 \r\nQ 40.828125 74.21875 47.359375 69.109375 \r\nQ 53.90625 64.015625 53.90625 55.328125 \r\nQ 53.90625 49.265625 50.4375 45.09375 \r\nQ 46.96875 40.921875 40.578125 39.3125 \r\nz\r\n\" id=\"DejaVuSans-51\"/>\r\n      </defs>\r\n      <g transform=\"translate(238.982015 254.356562)scale(0.1 -0.1)\">\r\n       <use xlink:href=\"#DejaVuSans-51\"/>\r\n       <use x=\"63.623047\" xlink:href=\"#DejaVuSans-48\"/>\r\n      </g>\r\n     </g>\r\n    </g>\r\n    <g id=\"xtick_5\">\r\n     <g id=\"line2d_5\">\r\n      <g>\r\n       <use style=\"stroke:#000000;stroke-width:0.8;\" x=\"307.459543\" xlink:href=\"#mf844f8d275\" y=\"239.758125\"/>\r\n      </g>\r\n     </g>\r\n     <g id=\"text_5\">\r\n      <!-- 40 -->\r\n      <defs>\r\n       <path d=\"M 37.796875 64.3125 \r\nL 12.890625 25.390625 \r\nL 37.796875 25.390625 \r\nz\r\nM 35.203125 72.90625 \r\nL 47.609375 72.90625 \r\nL 47.609375 25.390625 \r\nL 58.015625 25.390625 \r\nL 58.015625 17.1875 \r\nL 47.609375 17.1875 \r\nL 47.609375 0 \r\nL 37.796875 0 \r\nL 37.796875 17.1875 \r\nL 4.890625 17.1875 \r\nL 4.890625 26.703125 \r\nz\r\n\" id=\"DejaVuSans-52\"/>\r\n      </defs>\r\n      <g transform=\"translate(301.097043 254.356562)scale(0.1 -0.1)\">\r\n       <use xlink:href=\"#DejaVuSans-52\"/>\r\n       <use x=\"63.623047\" xlink:href=\"#DejaVuSans-48\"/>\r\n      </g>\r\n     </g>\r\n    </g>\r\n    <g id=\"xtick_6\">\r\n     <g id=\"line2d_6\">\r\n      <g>\r\n       <use style=\"stroke:#000000;stroke-width:0.8;\" x=\"369.574571\" xlink:href=\"#mf844f8d275\" y=\"239.758125\"/>\r\n      </g>\r\n     </g>\r\n     <g id=\"text_6\">\r\n      <!-- 50 -->\r\n      <defs>\r\n       <path d=\"M 10.796875 72.90625 \r\nL 49.515625 72.90625 \r\nL 49.515625 64.59375 \r\nL 19.828125 64.59375 \r\nL 19.828125 46.734375 \r\nQ 21.96875 47.46875 24.109375 47.828125 \r\nQ 26.265625 48.1875 28.421875 48.1875 \r\nQ 40.625 48.1875 47.75 41.5 \r\nQ 54.890625 34.8125 54.890625 23.390625 \r\nQ 54.890625 11.625 47.5625 5.09375 \r\nQ 40.234375 -1.421875 26.90625 -1.421875 \r\nQ 22.3125 -1.421875 17.546875 -0.640625 \r\nQ 12.796875 0.140625 7.71875 1.703125 \r\nL 7.71875 11.625 \r\nQ 12.109375 9.234375 16.796875 8.0625 \r\nQ 21.484375 6.890625 26.703125 6.890625 \r\nQ 35.15625 6.890625 40.078125 11.328125 \r\nQ 45.015625 15.765625 45.015625 23.390625 \r\nQ 45.015625 31 40.078125 35.4375 \r\nQ 35.15625 39.890625 26.703125 39.890625 \r\nQ 22.75 39.890625 18.8125 39.015625 \r\nQ 14.890625 38.140625 10.796875 36.28125 \r\nz\r\n\" id=\"DejaVuSans-53\"/>\r\n      </defs>\r\n      <g transform=\"translate(363.212071 254.356562)scale(0.1 -0.1)\">\r\n       <use xlink:href=\"#DejaVuSans-53\"/>\r\n       <use x=\"63.623047\" xlink:href=\"#DejaVuSans-48\"/>\r\n      </g>\r\n     </g>\r\n    </g>\r\n    <g id=\"text_7\">\r\n     <!-- # epoch per 10 -->\r\n     <defs>\r\n      <path d=\"M 51.125 44 \r\nL 36.921875 44 \r\nL 32.8125 27.6875 \r\nL 47.125 27.6875 \r\nz\r\nM 43.796875 71.78125 \r\nL 38.71875 51.515625 \r\nL 52.984375 51.515625 \r\nL 58.109375 71.78125 \r\nL 65.921875 71.78125 \r\nL 60.890625 51.515625 \r\nL 76.125 51.515625 \r\nL 76.125 44 \r\nL 58.984375 44 \r\nL 54.984375 27.6875 \r\nL 70.515625 27.6875 \r\nL 70.515625 20.21875 \r\nL 53.078125 20.21875 \r\nL 48 0 \r\nL 40.1875 0 \r\nL 45.21875 20.21875 \r\nL 30.90625 20.21875 \r\nL 25.875 0 \r\nL 18.015625 0 \r\nL 23.09375 20.21875 \r\nL 7.71875 20.21875 \r\nL 7.71875 27.6875 \r\nL 24.90625 27.6875 \r\nL 29 44 \r\nL 13.28125 44 \r\nL 13.28125 51.515625 \r\nL 30.90625 51.515625 \r\nL 35.890625 71.78125 \r\nz\r\n\" id=\"DejaVuSans-35\"/>\r\n      <path id=\"DejaVuSans-32\"/>\r\n      <path d=\"M 56.203125 29.59375 \r\nL 56.203125 25.203125 \r\nL 14.890625 25.203125 \r\nQ 15.484375 15.921875 20.484375 11.0625 \r\nQ 25.484375 6.203125 34.421875 6.203125 \r\nQ 39.59375 6.203125 44.453125 7.46875 \r\nQ 49.3125 8.734375 54.109375 11.28125 \r\nL 54.109375 2.78125 \r\nQ 49.265625 0.734375 44.1875 -0.34375 \r\nQ 39.109375 -1.421875 33.890625 -1.421875 \r\nQ 20.796875 -1.421875 13.15625 6.1875 \r\nQ 5.515625 13.8125 5.515625 26.8125 \r\nQ 5.515625 40.234375 12.765625 48.109375 \r\nQ 20.015625 56 32.328125 56 \r\nQ 43.359375 56 49.78125 48.890625 \r\nQ 56.203125 41.796875 56.203125 29.59375 \r\nz\r\nM 47.21875 32.234375 \r\nQ 47.125 39.59375 43.09375 43.984375 \r\nQ 39.0625 48.390625 32.421875 48.390625 \r\nQ 24.90625 48.390625 20.390625 44.140625 \r\nQ 15.875 39.890625 15.1875 32.171875 \r\nz\r\n\" id=\"DejaVuSans-101\"/>\r\n      <path d=\"M 18.109375 8.203125 \r\nL 18.109375 -20.796875 \r\nL 9.078125 -20.796875 \r\nL 9.078125 54.6875 \r\nL 18.109375 54.6875 \r\nL 18.109375 46.390625 \r\nQ 20.953125 51.265625 25.265625 53.625 \r\nQ 29.59375 56 35.59375 56 \r\nQ 45.5625 56 51.78125 48.09375 \r\nQ 58.015625 40.1875 58.015625 27.296875 \r\nQ 58.015625 14.40625 51.78125 6.484375 \r\nQ 45.5625 -1.421875 35.59375 -1.421875 \r\nQ 29.59375 -1.421875 25.265625 0.953125 \r\nQ 20.953125 3.328125 18.109375 8.203125 \r\nz\r\nM 48.6875 27.296875 \r\nQ 48.6875 37.203125 44.609375 42.84375 \r\nQ 40.53125 48.484375 33.40625 48.484375 \r\nQ 26.265625 48.484375 22.1875 42.84375 \r\nQ 18.109375 37.203125 18.109375 27.296875 \r\nQ 18.109375 17.390625 22.1875 11.75 \r\nQ 26.265625 6.109375 33.40625 6.109375 \r\nQ 40.53125 6.109375 44.609375 11.75 \r\nQ 48.6875 17.390625 48.6875 27.296875 \r\nz\r\n\" id=\"DejaVuSans-112\"/>\r\n      <path d=\"M 30.609375 48.390625 \r\nQ 23.390625 48.390625 19.1875 42.75 \r\nQ 14.984375 37.109375 14.984375 27.296875 \r\nQ 14.984375 17.484375 19.15625 11.84375 \r\nQ 23.34375 6.203125 30.609375 6.203125 \r\nQ 37.796875 6.203125 41.984375 11.859375 \r\nQ 46.1875 17.53125 46.1875 27.296875 \r\nQ 46.1875 37.015625 41.984375 42.703125 \r\nQ 37.796875 48.390625 30.609375 48.390625 \r\nz\r\nM 30.609375 56 \r\nQ 42.328125 56 49.015625 48.375 \r\nQ 55.71875 40.765625 55.71875 27.296875 \r\nQ 55.71875 13.875 49.015625 6.21875 \r\nQ 42.328125 -1.421875 30.609375 -1.421875 \r\nQ 18.84375 -1.421875 12.171875 6.21875 \r\nQ 5.515625 13.875 5.515625 27.296875 \r\nQ 5.515625 40.765625 12.171875 48.375 \r\nQ 18.84375 56 30.609375 56 \r\nz\r\n\" id=\"DejaVuSans-111\"/>\r\n      <path d=\"M 48.78125 52.59375 \r\nL 48.78125 44.1875 \r\nQ 44.96875 46.296875 41.140625 47.34375 \r\nQ 37.3125 48.390625 33.40625 48.390625 \r\nQ 24.65625 48.390625 19.8125 42.84375 \r\nQ 14.984375 37.3125 14.984375 27.296875 \r\nQ 14.984375 17.28125 19.8125 11.734375 \r\nQ 24.65625 6.203125 33.40625 6.203125 \r\nQ 37.3125 6.203125 41.140625 7.25 \r\nQ 44.96875 8.296875 48.78125 10.40625 \r\nL 48.78125 2.09375 \r\nQ 45.015625 0.34375 40.984375 -0.53125 \r\nQ 36.96875 -1.421875 32.421875 -1.421875 \r\nQ 20.0625 -1.421875 12.78125 6.34375 \r\nQ 5.515625 14.109375 5.515625 27.296875 \r\nQ 5.515625 40.671875 12.859375 48.328125 \r\nQ 20.21875 56 33.015625 56 \r\nQ 37.15625 56 41.109375 55.140625 \r\nQ 45.0625 54.296875 48.78125 52.59375 \r\nz\r\n\" id=\"DejaVuSans-99\"/>\r\n      <path d=\"M 54.890625 33.015625 \r\nL 54.890625 0 \r\nL 45.90625 0 \r\nL 45.90625 32.71875 \r\nQ 45.90625 40.484375 42.875 44.328125 \r\nQ 39.84375 48.1875 33.796875 48.1875 \r\nQ 26.515625 48.1875 22.3125 43.546875 \r\nQ 18.109375 38.921875 18.109375 30.90625 \r\nL 18.109375 0 \r\nL 9.078125 0 \r\nL 9.078125 75.984375 \r\nL 18.109375 75.984375 \r\nL 18.109375 46.1875 \r\nQ 21.34375 51.125 25.703125 53.5625 \r\nQ 30.078125 56 35.796875 56 \r\nQ 45.21875 56 50.046875 50.171875 \r\nQ 54.890625 44.34375 54.890625 33.015625 \r\nz\r\n\" id=\"DejaVuSans-104\"/>\r\n      <path d=\"M 41.109375 46.296875 \r\nQ 39.59375 47.171875 37.8125 47.578125 \r\nQ 36.03125 48 33.890625 48 \r\nQ 26.265625 48 22.1875 43.046875 \r\nQ 18.109375 38.09375 18.109375 28.8125 \r\nL 18.109375 0 \r\nL 9.078125 0 \r\nL 9.078125 54.6875 \r\nL 18.109375 54.6875 \r\nL 18.109375 46.1875 \r\nQ 20.953125 51.171875 25.484375 53.578125 \r\nQ 30.03125 56 36.53125 56 \r\nQ 37.453125 56 38.578125 55.875 \r\nQ 39.703125 55.765625 41.0625 55.515625 \r\nz\r\n\" id=\"DejaVuSans-114\"/>\r\n     </defs>\r\n     <g transform=\"translate(172.327344 268.034687)scale(0.1 -0.1)\">\r\n      <use xlink:href=\"#DejaVuSans-35\"/>\r\n      <use x=\"83.789062\" xlink:href=\"#DejaVuSans-32\"/>\r\n      <use x=\"115.576172\" xlink:href=\"#DejaVuSans-101\"/>\r\n      <use x=\"177.099609\" xlink:href=\"#DejaVuSans-112\"/>\r\n      <use x=\"240.576172\" xlink:href=\"#DejaVuSans-111\"/>\r\n      <use x=\"301.757812\" xlink:href=\"#DejaVuSans-99\"/>\r\n      <use x=\"356.738281\" xlink:href=\"#DejaVuSans-104\"/>\r\n      <use x=\"420.117188\" xlink:href=\"#DejaVuSans-32\"/>\r\n      <use x=\"451.904297\" xlink:href=\"#DejaVuSans-112\"/>\r\n      <use x=\"515.380859\" xlink:href=\"#DejaVuSans-101\"/>\r\n      <use x=\"576.904297\" xlink:href=\"#DejaVuSans-114\"/>\r\n      <use x=\"618.017578\" xlink:href=\"#DejaVuSans-32\"/>\r\n      <use x=\"649.804688\" xlink:href=\"#DejaVuSans-49\"/>\r\n      <use x=\"713.427734\" xlink:href=\"#DejaVuSans-48\"/>\r\n     </g>\r\n    </g>\r\n   </g>\r\n   <g id=\"matplotlib.axis_2\">\r\n    <g id=\"ytick_1\">\r\n     <g id=\"line2d_7\">\r\n      <defs>\r\n       <path d=\"M 0 0 \r\nL -3.5 0 \r\n\" id=\"m84745db127\" style=\"stroke:#000000;stroke-width:0.8;\"/>\r\n      </defs>\r\n      <g>\r\n       <use style=\"stroke:#000000;stroke-width:0.8;\" x=\"43.78125\" xlink:href=\"#m84745db127\" y=\"229.927536\"/>\r\n      </g>\r\n     </g>\r\n     <g id=\"text_8\">\r\n      <!-- 0.0 -->\r\n      <defs>\r\n       <path d=\"M 10.6875 12.40625 \r\nL 21 12.40625 \r\nL 21 0 \r\nL 10.6875 0 \r\nz\r\n\" id=\"DejaVuSans-46\"/>\r\n      </defs>\r\n      <g transform=\"translate(20.878125 233.726755)scale(0.1 -0.1)\">\r\n       <use xlink:href=\"#DejaVuSans-48\"/>\r\n       <use x=\"63.623047\" xlink:href=\"#DejaVuSans-46\"/>\r\n       <use x=\"95.410156\" xlink:href=\"#DejaVuSans-48\"/>\r\n      </g>\r\n     </g>\r\n    </g>\r\n    <g id=\"ytick_2\">\r\n     <g id=\"line2d_8\">\r\n      <g>\r\n       <use style=\"stroke:#000000;stroke-width:0.8;\" x=\"43.78125\" xlink:href=\"#m84745db127\" y=\"194.481775\"/>\r\n      </g>\r\n     </g>\r\n     <g id=\"text_9\">\r\n      <!-- 0.2 -->\r\n      <g transform=\"translate(20.878125 198.280993)scale(0.1 -0.1)\">\r\n       <use xlink:href=\"#DejaVuSans-48\"/>\r\n       <use x=\"63.623047\" xlink:href=\"#DejaVuSans-46\"/>\r\n       <use x=\"95.410156\" xlink:href=\"#DejaVuSans-50\"/>\r\n      </g>\r\n     </g>\r\n    </g>\r\n    <g id=\"ytick_3\">\r\n     <g id=\"line2d_9\">\r\n      <g>\r\n       <use style=\"stroke:#000000;stroke-width:0.8;\" x=\"43.78125\" xlink:href=\"#m84745db127\" y=\"159.036013\"/>\r\n      </g>\r\n     </g>\r\n     <g id=\"text_10\">\r\n      <!-- 0.4 -->\r\n      <g transform=\"translate(20.878125 162.835231)scale(0.1 -0.1)\">\r\n       <use xlink:href=\"#DejaVuSans-48\"/>\r\n       <use x=\"63.623047\" xlink:href=\"#DejaVuSans-46\"/>\r\n       <use x=\"95.410156\" xlink:href=\"#DejaVuSans-52\"/>\r\n      </g>\r\n     </g>\r\n    </g>\r\n    <g id=\"ytick_4\">\r\n     <g id=\"line2d_10\">\r\n      <g>\r\n       <use style=\"stroke:#000000;stroke-width:0.8;\" x=\"43.78125\" xlink:href=\"#m84745db127\" y=\"123.590251\"/>\r\n      </g>\r\n     </g>\r\n     <g id=\"text_11\">\r\n      <!-- 0.6 -->\r\n      <defs>\r\n       <path d=\"M 33.015625 40.375 \r\nQ 26.375 40.375 22.484375 35.828125 \r\nQ 18.609375 31.296875 18.609375 23.390625 \r\nQ 18.609375 15.53125 22.484375 10.953125 \r\nQ 26.375 6.390625 33.015625 6.390625 \r\nQ 39.65625 6.390625 43.53125 10.953125 \r\nQ 47.40625 15.53125 47.40625 23.390625 \r\nQ 47.40625 31.296875 43.53125 35.828125 \r\nQ 39.65625 40.375 33.015625 40.375 \r\nz\r\nM 52.59375 71.296875 \r\nL 52.59375 62.3125 \r\nQ 48.875 64.0625 45.09375 64.984375 \r\nQ 41.3125 65.921875 37.59375 65.921875 \r\nQ 27.828125 65.921875 22.671875 59.328125 \r\nQ 17.53125 52.734375 16.796875 39.40625 \r\nQ 19.671875 43.65625 24.015625 45.921875 \r\nQ 28.375 48.1875 33.59375 48.1875 \r\nQ 44.578125 48.1875 50.953125 41.515625 \r\nQ 57.328125 34.859375 57.328125 23.390625 \r\nQ 57.328125 12.15625 50.6875 5.359375 \r\nQ 44.046875 -1.421875 33.015625 -1.421875 \r\nQ 20.359375 -1.421875 13.671875 8.265625 \r\nQ 6.984375 17.96875 6.984375 36.375 \r\nQ 6.984375 53.65625 15.1875 63.9375 \r\nQ 23.390625 74.21875 37.203125 74.21875 \r\nQ 40.921875 74.21875 44.703125 73.484375 \r\nQ 48.484375 72.75 52.59375 71.296875 \r\nz\r\n\" id=\"DejaVuSans-54\"/>\r\n      </defs>\r\n      <g transform=\"translate(20.878125 127.38947)scale(0.1 -0.1)\">\r\n       <use xlink:href=\"#DejaVuSans-48\"/>\r\n       <use x=\"63.623047\" xlink:href=\"#DejaVuSans-46\"/>\r\n       <use x=\"95.410156\" xlink:href=\"#DejaVuSans-54\"/>\r\n      </g>\r\n     </g>\r\n    </g>\r\n    <g id=\"ytick_5\">\r\n     <g id=\"line2d_11\">\r\n      <g>\r\n       <use style=\"stroke:#000000;stroke-width:0.8;\" x=\"43.78125\" xlink:href=\"#m84745db127\" y=\"88.144489\"/>\r\n      </g>\r\n     </g>\r\n     <g id=\"text_12\">\r\n      <!-- 0.8 -->\r\n      <defs>\r\n       <path d=\"M 31.78125 34.625 \r\nQ 24.75 34.625 20.71875 30.859375 \r\nQ 16.703125 27.09375 16.703125 20.515625 \r\nQ 16.703125 13.921875 20.71875 10.15625 \r\nQ 24.75 6.390625 31.78125 6.390625 \r\nQ 38.8125 6.390625 42.859375 10.171875 \r\nQ 46.921875 13.96875 46.921875 20.515625 \r\nQ 46.921875 27.09375 42.890625 30.859375 \r\nQ 38.875 34.625 31.78125 34.625 \r\nz\r\nM 21.921875 38.8125 \r\nQ 15.578125 40.375 12.03125 44.71875 \r\nQ 8.5 49.078125 8.5 55.328125 \r\nQ 8.5 64.0625 14.71875 69.140625 \r\nQ 20.953125 74.21875 31.78125 74.21875 \r\nQ 42.671875 74.21875 48.875 69.140625 \r\nQ 55.078125 64.0625 55.078125 55.328125 \r\nQ 55.078125 49.078125 51.53125 44.71875 \r\nQ 48 40.375 41.703125 38.8125 \r\nQ 48.828125 37.15625 52.796875 32.3125 \r\nQ 56.78125 27.484375 56.78125 20.515625 \r\nQ 56.78125 9.90625 50.3125 4.234375 \r\nQ 43.84375 -1.421875 31.78125 -1.421875 \r\nQ 19.734375 -1.421875 13.25 4.234375 \r\nQ 6.78125 9.90625 6.78125 20.515625 \r\nQ 6.78125 27.484375 10.78125 32.3125 \r\nQ 14.796875 37.15625 21.921875 38.8125 \r\nz\r\nM 18.3125 54.390625 \r\nQ 18.3125 48.734375 21.84375 45.5625 \r\nQ 25.390625 42.390625 31.78125 42.390625 \r\nQ 38.140625 42.390625 41.71875 45.5625 \r\nQ 45.3125 48.734375 45.3125 54.390625 \r\nQ 45.3125 60.0625 41.71875 63.234375 \r\nQ 38.140625 66.40625 31.78125 66.40625 \r\nQ 25.390625 66.40625 21.84375 63.234375 \r\nQ 18.3125 60.0625 18.3125 54.390625 \r\nz\r\n\" id=\"DejaVuSans-56\"/>\r\n      </defs>\r\n      <g transform=\"translate(20.878125 91.943708)scale(0.1 -0.1)\">\r\n       <use xlink:href=\"#DejaVuSans-48\"/>\r\n       <use x=\"63.623047\" xlink:href=\"#DejaVuSans-46\"/>\r\n       <use x=\"95.410156\" xlink:href=\"#DejaVuSans-56\"/>\r\n      </g>\r\n     </g>\r\n    </g>\r\n    <g id=\"ytick_6\">\r\n     <g id=\"line2d_12\">\r\n      <g>\r\n       <use style=\"stroke:#000000;stroke-width:0.8;\" x=\"43.78125\" xlink:href=\"#m84745db127\" y=\"52.698727\"/>\r\n      </g>\r\n     </g>\r\n     <g id=\"text_13\">\r\n      <!-- 1.0 -->\r\n      <g transform=\"translate(20.878125 56.497946)scale(0.1 -0.1)\">\r\n       <use xlink:href=\"#DejaVuSans-49\"/>\r\n       <use x=\"63.623047\" xlink:href=\"#DejaVuSans-46\"/>\r\n       <use x=\"95.410156\" xlink:href=\"#DejaVuSans-48\"/>\r\n      </g>\r\n     </g>\r\n    </g>\r\n    <g id=\"text_14\">\r\n     <!-- loss -->\r\n     <defs>\r\n      <path d=\"M 9.421875 75.984375 \r\nL 18.40625 75.984375 \r\nL 18.40625 0 \r\nL 9.421875 0 \r\nz\r\n\" id=\"DejaVuSans-108\"/>\r\n      <path d=\"M 44.28125 53.078125 \r\nL 44.28125 44.578125 \r\nQ 40.484375 46.53125 36.375 47.5 \r\nQ 32.28125 48.484375 27.875 48.484375 \r\nQ 21.1875 48.484375 17.84375 46.4375 \r\nQ 14.5 44.390625 14.5 40.28125 \r\nQ 14.5 37.15625 16.890625 35.375 \r\nQ 19.28125 33.59375 26.515625 31.984375 \r\nL 29.59375 31.296875 \r\nQ 39.15625 29.25 43.1875 25.515625 \r\nQ 47.21875 21.78125 47.21875 15.09375 \r\nQ 47.21875 7.46875 41.1875 3.015625 \r\nQ 35.15625 -1.421875 24.609375 -1.421875 \r\nQ 20.21875 -1.421875 15.453125 -0.5625 \r\nQ 10.6875 0.296875 5.421875 2 \r\nL 5.421875 11.28125 \r\nQ 10.40625 8.6875 15.234375 7.390625 \r\nQ 20.0625 6.109375 24.8125 6.109375 \r\nQ 31.15625 6.109375 34.5625 8.28125 \r\nQ 37.984375 10.453125 37.984375 14.40625 \r\nQ 37.984375 18.0625 35.515625 20.015625 \r\nQ 33.0625 21.96875 24.703125 23.78125 \r\nL 21.578125 24.515625 \r\nQ 13.234375 26.265625 9.515625 29.90625 \r\nQ 5.8125 33.546875 5.8125 39.890625 \r\nQ 5.8125 47.609375 11.28125 51.796875 \r\nQ 16.75 56 26.8125 56 \r\nQ 31.78125 56 36.171875 55.265625 \r\nQ 40.578125 54.546875 44.28125 53.078125 \r\nz\r\n\" id=\"DejaVuSans-115\"/>\r\n     </defs>\r\n     <g transform=\"translate(14.798438 140.695937)rotate(-90)scale(0.1 -0.1)\">\r\n      <use xlink:href=\"#DejaVuSans-108\"/>\r\n      <use x=\"27.783203\" xlink:href=\"#DejaVuSans-111\"/>\r\n      <use x=\"88.964844\" xlink:href=\"#DejaVuSans-115\"/>\r\n      <use x=\"141.064453\" xlink:href=\"#DejaVuSans-115\"/>\r\n     </g>\r\n    </g>\r\n   </g>\r\n   <g id=\"line2d_13\">\r\n    <path clip-path=\"url(#pe293990a06)\" d=\"M 58.999432 32.201761 \r\nL 65.210935 133.465346 \r\nL 71.422437 147.673527 \r\nL 77.63394 177.31538 \r\nL 83.845443 191.370317 \r\nL 90.056946 202.457858 \r\nL 96.268449 185.089204 \r\nL 102.479951 195.677358 \r\nL 108.691454 212.84635 \r\nL 114.902957 219.470993 \r\nL 121.11446 217.667961 \r\nL 127.325962 203.066734 \r\nL 133.537465 224.983841 \r\nL 139.748968 219.882541 \r\nL 145.960471 225.563081 \r\nL 152.171974 227.504338 \r\nL 158.383476 224.927545 \r\nL 164.594979 228.824579 \r\nL 170.806482 227.164781 \r\nL 177.017985 228.146907 \r\nL 183.229487 229.232433 \r\nL 189.44099 228.950038 \r\nL 195.652493 228.86928 \r\nL 201.863996 225.250566 \r\nL 208.075499 223.240693 \r\nL 214.287001 229.55476 \r\nL 220.498504 229.424416 \r\nL 226.710007 229.22935 \r\nL 232.92151 229.327212 \r\nL 239.133013 228.980077 \r\nL 245.344515 229.579572 \r\nL 251.556018 229.534975 \r\nL 257.767521 229.422325 \r\nL 263.979024 229.593481 \r\nL 270.190526 229.618551 \r\nL 276.402029 229.758877 \r\nL 282.613532 229.624492 \r\nL 288.825035 229.624793 \r\nL 295.036538 229.709619 \r\nL 301.24804 229.795332 \r\nL 307.459543 229.764747 \r\nL 313.671046 229.789546 \r\nL 319.882549 229.762303 \r\nL 326.094051 229.874489 \r\nL 332.305554 229.871228 \r\nL 338.517057 229.830965 \r\nL 344.72856 229.795651 \r\nL 350.940063 229.87096 \r\nL 357.151565 229.862859 \r\nL 363.363068 229.869931 \r\n\" style=\"fill:none;stroke:#1f77b4;stroke-linecap:square;stroke-width:1.5;\"/>\r\n   </g>\r\n   <g id=\"patch_3\">\r\n    <path d=\"M 43.78125 239.758125 \r\nL 43.78125 22.318125 \r\n\" style=\"fill:none;stroke:#000000;stroke-linecap:square;stroke-linejoin:miter;stroke-width:0.8;\"/>\r\n   </g>\r\n   <g id=\"patch_4\">\r\n    <path d=\"M 378.58125 239.758125 \r\nL 378.58125 22.318125 \r\n\" style=\"fill:none;stroke:#000000;stroke-linecap:square;stroke-linejoin:miter;stroke-width:0.8;\"/>\r\n   </g>\r\n   <g id=\"patch_5\">\r\n    <path d=\"M 43.78125 239.758125 \r\nL 378.58125 239.758125 \r\n\" style=\"fill:none;stroke:#000000;stroke-linecap:square;stroke-linejoin:miter;stroke-width:0.8;\"/>\r\n   </g>\r\n   <g id=\"patch_6\">\r\n    <path d=\"M 43.78125 22.318125 \r\nL 378.58125 22.318125 \r\n\" style=\"fill:none;stroke:#000000;stroke-linecap:square;stroke-linejoin:miter;stroke-width:0.8;\"/>\r\n   </g>\r\n   <g id=\"text_15\">\r\n    <!-- loss circle -->\r\n    <defs>\r\n     <path d=\"M 9.421875 54.6875 \r\nL 18.40625 54.6875 \r\nL 18.40625 0 \r\nL 9.421875 0 \r\nz\r\nM 9.421875 75.984375 \r\nL 18.40625 75.984375 \r\nL 18.40625 64.59375 \r\nL 9.421875 64.59375 \r\nz\r\n\" id=\"DejaVuSans-105\"/>\r\n    </defs>\r\n    <g transform=\"translate(181.596563 16.318125)scale(0.12 -0.12)\">\r\n     <use xlink:href=\"#DejaVuSans-108\"/>\r\n     <use x=\"27.783203\" xlink:href=\"#DejaVuSans-111\"/>\r\n     <use x=\"88.964844\" xlink:href=\"#DejaVuSans-115\"/>\r\n     <use x=\"141.064453\" xlink:href=\"#DejaVuSans-115\"/>\r\n     <use x=\"193.164062\" xlink:href=\"#DejaVuSans-32\"/>\r\n     <use x=\"224.951172\" xlink:href=\"#DejaVuSans-99\"/>\r\n     <use x=\"279.931641\" xlink:href=\"#DejaVuSans-105\"/>\r\n     <use x=\"307.714844\" xlink:href=\"#DejaVuSans-114\"/>\r\n     <use x=\"348.796875\" xlink:href=\"#DejaVuSans-99\"/>\r\n     <use x=\"403.777344\" xlink:href=\"#DejaVuSans-108\"/>\r\n     <use x=\"431.560547\" xlink:href=\"#DejaVuSans-101\"/>\r\n    </g>\r\n   </g>\r\n  </g>\r\n </g>\r\n <defs>\r\n  <clipPath id=\"pe293990a06\">\r\n   <rect height=\"217.44\" width=\"334.8\" x=\"43.78125\" y=\"22.318125\"/>\r\n  </clipPath>\r\n </defs>\r\n</svg>\r\n",
      "text/plain": "<Figure size 432x288 with 1 Axes>"
     },
     "metadata": {
      "needs_background": "light"
     },
     "output_type": "display_data"
    }
   ],
   "source": [
    "# 定义变量\n",
    "X = X_train\n",
    "Y = Y_train\n",
    "alpha = 0.005\n",
    "epochs = 500\n",
    "batch_size = 64\n",
    "\n",
    "ops.reset_default_graph()\n",
    "\n",
    "m, n_h, n_w, n_c = X.shape\n",
    "n_y = Y.shape[1]\n",
    "\n",
    "# set placeholder for mini-batch\n",
    "x, y = create_placeholders(n_h, n_w, n_c, n_y)\n",
    "# initial weights\n",
    "params = init_params()\n",
    "# forwardprop\n",
    "Z3 = forward_prop(x, params)\n",
    "# compute cost\n",
    "cost = compute_cost(Z3, y)\n",
    "# use optimizer to backprop and update parameters\n",
    "optimizer = tf.train.AdamOptimizer(learning_rate=alpha).minimize(cost)\n",
    "# initialize all variables\n",
    "init = tf.global_variables_initializer()\n",
    "\n",
    "sess = tf.Session()\n",
    "sess.run(init)\n",
    "seed = 0\n",
    "J_list = []\n",
    "for i in range(epochs):\n",
    "    seed += 1\n",
    "    # segment train set to mini-batches\n",
    "    mini_batches = cnn_utils.random_mini_batches(X, Y, mini_batch_size=batch_size, seed=seed)\n",
    "    for batch in mini_batches:\n",
    "        X_mini, Y_mini = batch\n",
    "        _, J = sess.run([optimizer, cost], feed_dict={x: X_mini, y: Y_mini})\n",
    "    if i == 0:\n",
    "        print(f'No.{i+1} iteration\\'s loss: {J}')\n",
    "    if (i+1) % 10 == 0:\n",
    "        J_list.append(J)\n",
    "    if (i+1) % 100 == 0:\n",
    "        print(f'No.{i+1} iteration\\'s loss: {J}')\n",
    "\n",
    "plt.plot(J_list)\n",
    "plt.title('loss circle')\n",
    "plt.xlabel('# epoch per 10')\n",
    "plt.ylabel('loss')\n",
    "plt.show()\n"
   ]
  },
  {
   "cell_type": "code",
   "execution_count": 34,
   "metadata": {},
   "outputs": [
    {
     "name": "stdout",
     "output_type": "stream",
     "text": "accuracy = 0.8833333333333333\n"
    }
   ],
   "source": [
    "# predict\n",
    "Z3_test = sess.run(Z3, feed_dict={x:X_test.astype(np.float32)})\n",
    "Y_predict = np.argmax(Z3_test, axis=1)\n",
    "accuracy = np.mean(np.squeeze(Y_test) == Y_predict)\n",
    "print(f'accuracy = {accuracy}')"
   ]
  },
  {
   "cell_type": "code",
   "execution_count": 35,
   "metadata": {},
   "outputs": [
    {
     "data": {
      "text/plain": "<tensorflow.python.client.session.Session at 0x22186497f28>"
     },
     "execution_count": 35,
     "metadata": {},
     "output_type": "execute_result"
    }
   ],
   "source": [
    "sess  # 模型和参数都保存在当前会话中, 所以要在会话中预测和保存, 否则模型将无法获取"
   ]
  },
  {
   "cell_type": "code",
   "execution_count": 36,
   "metadata": {},
   "outputs": [
    {
     "data": {
      "text/plain": "'F:/deeplearning-study/4-1/cnn_model'"
     },
     "execution_count": 36,
     "metadata": {},
     "output_type": "execute_result"
    }
   ],
   "source": [
    "saver = tf.train.Saver()\n",
    "saver.save(sess, 'F:/deeplearning-study/4-1/cnn_model')"
   ]
  },
  {
   "cell_type": "markdown",
   "execution_count": null,
   "metadata": {},
   "outputs": [],
   "source": [
    "### cnn拟合的结果很不错, 准确率也比2-3中的全连接模型高"
   ]
  }
 ]
}