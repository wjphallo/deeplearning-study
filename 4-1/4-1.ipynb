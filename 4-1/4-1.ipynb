{
 "nbformat": 4,
 "nbformat_minor": 2,
 "metadata": {
  "language_info": {
   "name": "python",
   "codemirror_mode": {
    "name": "ipython",
    "version": 3
   }
  },
  "orig_nbformat": 2,
  "file_extension": ".py",
  "mimetype": "text/x-python",
  "name": "python",
  "npconvert_exporter": "python",
  "pygments_lexer": "ipython3",
  "version": 3
 },
 "cells": [
  {
   "cell_type": "code",
   "execution_count": 1,
   "metadata": {},
   "outputs": [],
   "source": [
    "import numpy as np\n",
    "import h5py\n",
    "import matplotlib.pyplot as plt\n"
   ]
  },
  {
   "cell_type": "code",
   "execution_count": 2,
   "metadata": {},
   "outputs": [
    {
     "name": "stdout",
     "output_type": "stream",
     "text": "a:\n[[[ 1  2  3  4  5  6]\n  [ 7  8  9 10 11 12]\n  [13 14 15 16 17 18]]\n\n [[19 20 21 22 23 24]\n  [25 26 27 28 29 30]\n  [31 32 33 34 35 36]]\n\n [[37 38 39 40 41 42]\n  [43 44 45 46 47 48]\n  [49 50 51 52 53 54]]]\nb:\n[[[ 0  0  0  0  0  0  0  0  0  0]\n  [ 0  0  0  0  0  0  0  0  0  0]\n  [ 0  0  0  0  0  0  0  0  0  0]\n  [ 0  0  0  0  0  0  0  0  0  0]\n  [ 0  0  0  0  0  0  0  0  0  0]]\n\n [[ 0  0  0  0  0  0  0  0  0  0]\n  [ 0  0  1  2  3  4  5  6  0  0]\n  [ 0  0  7  8  9 10 11 12  0  0]\n  [ 0  0 13 14 15 16 17 18  0  0]\n  [ 0  0  0  0  0  0  0  0  0  0]]\n\n [[ 0  0  0  0  0  0  0  0  0  0]\n  [ 0  0 19 20 21 22 23 24  0  0]\n  [ 0  0 25 26 27 28 29 30  0  0]\n  [ 0  0 31 32 33 34 35 36  0  0]\n  [ 0  0  0  0  0  0  0  0  0  0]]\n\n [[ 0  0  0  0  0  0  0  0  0  0]\n  [ 0  0 37 38 39 40 41 42  0  0]\n  [ 0  0 43 44 45 46 47 48  0  0]\n  [ 0  0 49 50 51 52 53 54  0  0]\n  [ 0  0  0  0  0  0  0  0  0  0]]\n\n [[ 0  0  0  0  0  0  0  0  0  0]\n  [ 0  0  0  0  0  0  0  0  0  0]\n  [ 0  0  0  0  0  0  0  0  0  0]\n  [ 0  0  0  0  0  0  0  0  0  0]\n  [ 0  0  0  0  0  0  0  0  0  0]]]\na':\n[[[ 1  2  3  4  5  6]\n  [ 7  8  9 10 11 12]\n  [13 14 15 16 17 18]]\n\n [[19 20 21 22 23 24]\n  [25 26 27 28 29 30]\n  [31 32 33 34 35 36]]\n\n [[37 38 39 40 41 42]\n  [43 44 45 46 47 48]\n  [49 50 51 52 53 54]]]\n"
    }
   ],
   "source": [
    "a = np.arange(1,55).reshape((3,3,6))\n",
    "print(f'a:\\n{a}')\n",
    "b = np.pad(a, ((1,1),(1,1),(2,2)), 'constant')\n",
    "print(f'b:\\n{b}')\n",
    "print(f'a\\':\\n{a}')"
   ]
  },
  {
   "cell_type": "code",
   "execution_count": 3,
   "metadata": {},
   "outputs": [],
   "source": [
    "def padding(X, pad):\n",
    "    \n",
    "    '''\n",
    "    X - 4-d array, 0d:m_samples, 1d:height, 2d:width, 3d:channels\n",
    "    pad - int, padding in both height and width\n",
    "    '''\n",
    "\n",
    "    X_padding = np.pad(\n",
    "        X,\n",
    "        (\n",
    "            (0,0),      # 0d: m_samples\n",
    "            (pad,pad),  # 1d: height\n",
    "            (pad,pad),  # 2d: width\n",
    "            (0,0)),     # 3d: channels\n",
    "        'constant')\n",
    "    \n",
    "    return X_padding"
   ]
  },
  {
   "cell_type": "code",
   "execution_count": 7,
   "metadata": {},
   "outputs": [
    {
     "name": "stdout",
     "output_type": "stream",
     "text": "a: (1, 3, 6, 3)\n[[[[151 152 153]\n   [154 155 156]\n   [157 158 159]\n   [160 161 162]\n   [163 164 165]\n   [166 167 168]]\n\n  [[169 170 171]\n   [172 173 174]\n   [175 176 177]\n   [178 179 180]\n   [181 182 183]\n   [184 185 186]]\n\n  [[187 188 189]\n   [190 191 192]\n   [193 194 195]\n   [196 197 198]\n   [199 200 201]\n   [202 203 204]]]]\na_padding: (1, 7, 10, 3)\n[[[[  0   0   0]\n   [  0   0   0]\n   [  0   0   0]\n   [  0   0   0]\n   [  0   0   0]\n   [  0   0   0]\n   [  0   0   0]\n   [  0   0   0]\n   [  0   0   0]\n   [  0   0   0]]\n\n  [[  0   0   0]\n   [  0   0   0]\n   [  0   0   0]\n   [  0   0   0]\n   [  0   0   0]\n   [  0   0   0]\n   [  0   0   0]\n   [  0   0   0]\n   [  0   0   0]\n   [  0   0   0]]\n\n  [[  0   0   0]\n   [  0   0   0]\n   [151 152 153]\n   [154 155 156]\n   [157 158 159]\n   [160 161 162]\n   [163 164 165]\n   [166 167 168]\n   [  0   0   0]\n   [  0   0   0]]\n\n  [[  0   0   0]\n   [  0   0   0]\n   [169 170 171]\n   [172 173 174]\n   [175 176 177]\n   [178 179 180]\n   [181 182 183]\n   [184 185 186]\n   [  0   0   0]\n   [  0   0   0]]\n\n  [[  0   0   0]\n   [  0   0   0]\n   [187 188 189]\n   [190 191 192]\n   [193 194 195]\n   [196 197 198]\n   [199 200 201]\n   [202 203 204]\n   [  0   0   0]\n   [  0   0   0]]\n\n  [[  0   0   0]\n   [  0   0   0]\n   [  0   0   0]\n   [  0   0   0]\n   [  0   0   0]\n   [  0   0   0]\n   [  0   0   0]\n   [  0   0   0]\n   [  0   0   0]\n   [  0   0   0]]\n\n  [[  0   0   0]\n   [  0   0   0]\n   [  0   0   0]\n   [  0   0   0]\n   [  0   0   0]\n   [  0   0   0]\n   [  0   0   0]\n   [  0   0   0]\n   [  0   0   0]\n   [  0   0   0]]]]\n"
    }
   ],
   "source": [
    "a = a.reshape((1,3,6,3)) + 150\n",
    "print(f'a: {a.shape}\\n{a}')\n",
    "a_padding = padding(a, 2)\n",
    "print(f'a_padding: {a_padding.shape}\\n{a_padding}')"
   ]
  },
  {
   "cell_type": "code",
   "execution_count": 8,
   "metadata": {},
   "outputs": [
    {
     "data": {
      "text/plain": "<matplotlib.image.AxesImage at 0x1a95203f648>"
     },
     "execution_count": 8,
     "metadata": {},
     "output_type": "execute_result"
    },
    {
     "data": {
      "image/png": "[encoded data removed]",
      "image/svg+xml": "<?xml version=\"1.0\" encoding=\"utf-8\" standalone=\"no\"?>\r\n<!DOCTYPE svg PUBLIC \"-//W3C//DTD SVG 1.1//EN\"\r\n  \"http://www.w3.org/Graphics/SVG/1.1/DTD/svg11.dtd\">\r\n<!-- Created with matplotlib (https://matplotlib.org/) -->\r\n<svg height=\"152.723523pt\" version=\"1.1\" viewBox=\"0 0 362.5625 152.723523\" width=\"362.5625pt\" xmlns=\"http://www.w3.org/2000/svg\" xmlns:xlink=\"http://www.w3.org/1999/xlink\">\r\n <defs>\r\n  <style type=\"text/css\">\r\n*{stroke-linecap:butt;stroke-linejoin:round;}\r\n  </style>\r\n </defs>\r\n <g id=\"figure_1\">\r\n  <g id=\"patch_1\">\r\n   <path d=\"M 0 152.723523 \r\nL 362.5625 152.723523 \r\nL 362.5625 0 \r\nL 0 0 \r\nz\r\n\"/>\r\n  </g>\r\n  <g id=\"axes_1\">\r\n   <g id=\"patch_2\">\r\n    <path d=\"M 20.5625 113.627216 \r\nL 172.744318 113.627216 \r\nL 172.744318 37.536307 \r\nL 20.5625 37.536307 \r\nz\r\n\"/>\r\n   </g>\r\n   <g clip-path=\"url(#pdd2a731a4e)\">\r\n    <image height=\"77\" id=\"imaged705bd6189\" transform=\"scale(1 -1)translate(0 -77)\" width=\"153\" x=\"20.5625\" xlink:href=\"data:image/png;base64,\r\niVBORw0KGgoAAAANSUhEUgAAAJkAAABNCAYAAAC188aDAAAABHNCSVQICAgIfAhkiAAAAQBJREFUeJzt28ENg0AQBEHMOf+EbFK6FHAMfvQJQVUCo5X6u6/P9zi32Bijnli245b/7UtWeDSRkRMZOZGRExk5kZETGTmRkRMZOZGRExk5kZETGTmRkRMZOZGRExk5kZETGTmRkRMZOZGRExk5kZETGbn3nDMf8XV9zR0f5NyGyMiJjJzIyImMnMjIiYycyMiJjJzIyImMnMjIiYycyMiJjJzIyImMnMjIiYycyMiJjJzIyImMnMjIee694MaqHc+93IbIyImMnMjIiYycyMiJjJzIyImMnMjIiYycyMiJjJzIyImMnMjIiYycyMiJjJzIyImMnMjIiYycyMiJjNwPH8UJ7EEpNAIAAAAASUVORK5CYII=\" y=\"-36.627216\"/>\r\n   </g>\r\n   <g id=\"matplotlib.axis_1\">\r\n    <g id=\"xtick_1\">\r\n     <g id=\"line2d_1\">\r\n      <defs>\r\n       <path d=\"M 0 0 \r\nL 0 3.5 \r\n\" id=\"m56a35731c3\" style=\"stroke:#ffffff;stroke-width:0.8;\"/>\r\n      </defs>\r\n      <g>\r\n       <use style=\"fill:#ffffff;stroke:#ffffff;stroke-width:0.8;\" x=\"33.244318\" xlink:href=\"#m56a35731c3\" y=\"113.627216\"/>\r\n      </g>\r\n     </g>\r\n     <g id=\"text_1\">\r\n      <!-- 0 -->\r\n      <defs>\r\n       <path d=\"M 31.78125 66.40625 \r\nQ 24.171875 66.40625 20.328125 58.90625 \r\nQ 16.5 51.421875 16.5 36.375 \r\nQ 16.5 21.390625 20.328125 13.890625 \r\nQ 24.171875 6.390625 31.78125 6.390625 \r\nQ 39.453125 6.390625 43.28125 13.890625 \r\nQ 47.125 21.390625 47.125 36.375 \r\nQ 47.125 51.421875 43.28125 58.90625 \r\nQ 39.453125 66.40625 31.78125 66.40625 \r\nz\r\nM 31.78125 74.21875 \r\nQ 44.046875 74.21875 50.515625 64.515625 \r\nQ 56.984375 54.828125 56.984375 36.375 \r\nQ 56.984375 17.96875 50.515625 8.265625 \r\nQ 44.046875 -1.421875 31.78125 -1.421875 \r\nQ 19.53125 -1.421875 13.0625 8.265625 \r\nQ 6.59375 17.96875 6.59375 36.375 \r\nQ 6.59375 54.828125 13.0625 64.515625 \r\nQ 19.53125 74.21875 31.78125 74.21875 \r\nz\r\n\" id=\"DejaVuSans-48\"/>\r\n      </defs>\r\n      <g style=\"fill:#ffffff;\" transform=\"translate(30.063068 128.225653)scale(0.1 -0.1)\">\r\n       <use xlink:href=\"#DejaVuSans-48\"/>\r\n      </g>\r\n     </g>\r\n    </g>\r\n    <g id=\"xtick_2\">\r\n     <g id=\"line2d_2\">\r\n      <g>\r\n       <use style=\"fill:#ffffff;stroke:#ffffff;stroke-width:0.8;\" x=\"83.971591\" xlink:href=\"#m56a35731c3\" y=\"113.627216\"/>\r\n      </g>\r\n     </g>\r\n     <g id=\"text_2\">\r\n      <!-- 2 -->\r\n      <defs>\r\n       <path d=\"M 19.1875 8.296875 \r\nL 53.609375 8.296875 \r\nL 53.609375 0 \r\nL 7.328125 0 \r\nL 7.328125 8.296875 \r\nQ 12.9375 14.109375 22.625 23.890625 \r\nQ 32.328125 33.6875 34.8125 36.53125 \r\nQ 39.546875 41.84375 41.421875 45.53125 \r\nQ 43.3125 49.21875 43.3125 52.78125 \r\nQ 43.3125 58.59375 39.234375 62.25 \r\nQ 35.15625 65.921875 28.609375 65.921875 \r\nQ 23.96875 65.921875 18.8125 64.3125 \r\nQ 13.671875 62.703125 7.8125 59.421875 \r\nL 7.8125 69.390625 \r\nQ 13.765625 71.78125 18.9375 73 \r\nQ 24.125 74.21875 28.421875 74.21875 \r\nQ 39.75 74.21875 46.484375 68.546875 \r\nQ 53.21875 62.890625 53.21875 53.421875 \r\nQ 53.21875 48.921875 51.53125 44.890625 \r\nQ 49.859375 40.875 45.40625 35.40625 \r\nQ 44.1875 33.984375 37.640625 27.21875 \r\nQ 31.109375 20.453125 19.1875 8.296875 \r\nz\r\n\" id=\"DejaVuSans-50\"/>\r\n      </defs>\r\n      <g style=\"fill:#ffffff;\" transform=\"translate(80.790341 128.225653)scale(0.1 -0.1)\">\r\n       <use xlink:href=\"#DejaVuSans-50\"/>\r\n      </g>\r\n     </g>\r\n    </g>\r\n    <g id=\"xtick_3\">\r\n     <g id=\"line2d_3\">\r\n      <g>\r\n       <use style=\"fill:#ffffff;stroke:#ffffff;stroke-width:0.8;\" x=\"134.698864\" xlink:href=\"#m56a35731c3\" y=\"113.627216\"/>\r\n      </g>\r\n     </g>\r\n     <g id=\"text_3\">\r\n      <!-- 4 -->\r\n      <defs>\r\n       <path d=\"M 37.796875 64.3125 \r\nL 12.890625 25.390625 \r\nL 37.796875 25.390625 \r\nz\r\nM 35.203125 72.90625 \r\nL 47.609375 72.90625 \r\nL 47.609375 25.390625 \r\nL 58.015625 25.390625 \r\nL 58.015625 17.1875 \r\nL 47.609375 17.1875 \r\nL 47.609375 0 \r\nL 37.796875 0 \r\nL 37.796875 17.1875 \r\nL 4.890625 17.1875 \r\nL 4.890625 26.703125 \r\nz\r\n\" id=\"DejaVuSans-52\"/>\r\n      </defs>\r\n      <g style=\"fill:#ffffff;\" transform=\"translate(131.517614 128.225653)scale(0.1 -0.1)\">\r\n       <use xlink:href=\"#DejaVuSans-52\"/>\r\n      </g>\r\n     </g>\r\n    </g>\r\n   </g>\r\n   <g id=\"matplotlib.axis_2\">\r\n    <g id=\"ytick_1\">\r\n     <g id=\"line2d_4\">\r\n      <defs>\r\n       <path d=\"M 0 0 \r\nL -3.5 0 \r\n\" id=\"m55a9f13250\" style=\"stroke:#ffffff;stroke-width:0.8;\"/>\r\n      </defs>\r\n      <g>\r\n       <use style=\"fill:#ffffff;stroke:#ffffff;stroke-width:0.8;\" x=\"20.5625\" xlink:href=\"#m55a9f13250\" y=\"50.218125\"/>\r\n      </g>\r\n     </g>\r\n     <g id=\"text_4\">\r\n      <!-- 0 -->\r\n      <g style=\"fill:#ffffff;\" transform=\"translate(7.2 54.017344)scale(0.1 -0.1)\">\r\n       <use xlink:href=\"#DejaVuSans-48\"/>\r\n      </g>\r\n     </g>\r\n    </g>\r\n    <g id=\"ytick_2\">\r\n     <g id=\"line2d_5\">\r\n      <g>\r\n       <use style=\"fill:#ffffff;stroke:#ffffff;stroke-width:0.8;\" x=\"20.5625\" xlink:href=\"#m55a9f13250\" y=\"75.581761\"/>\r\n      </g>\r\n     </g>\r\n     <g id=\"text_5\">\r\n      <!-- 1 -->\r\n      <defs>\r\n       <path d=\"M 12.40625 8.296875 \r\nL 28.515625 8.296875 \r\nL 28.515625 63.921875 \r\nL 10.984375 60.40625 \r\nL 10.984375 69.390625 \r\nL 28.421875 72.90625 \r\nL 38.28125 72.90625 \r\nL 38.28125 8.296875 \r\nL 54.390625 8.296875 \r\nL 54.390625 0 \r\nL 12.40625 0 \r\nz\r\n\" id=\"DejaVuSans-49\"/>\r\n      </defs>\r\n      <g style=\"fill:#ffffff;\" transform=\"translate(7.2 79.38098)scale(0.1 -0.1)\">\r\n       <use xlink:href=\"#DejaVuSans-49\"/>\r\n      </g>\r\n     </g>\r\n    </g>\r\n    <g id=\"ytick_3\">\r\n     <g id=\"line2d_6\">\r\n      <g>\r\n       <use style=\"fill:#ffffff;stroke:#ffffff;stroke-width:0.8;\" x=\"20.5625\" xlink:href=\"#m55a9f13250\" y=\"100.945398\"/>\r\n      </g>\r\n     </g>\r\n     <g id=\"text_6\">\r\n      <!-- 2 -->\r\n      <g style=\"fill:#ffffff;\" transform=\"translate(7.2 104.744616)scale(0.1 -0.1)\">\r\n       <use xlink:href=\"#DejaVuSans-50\"/>\r\n      </g>\r\n     </g>\r\n    </g>\r\n   </g>\r\n   <g id=\"patch_3\">\r\n    <path d=\"M 20.5625 113.627216 \r\nL 20.5625 37.536307 \r\n\" style=\"fill:none;stroke:#ffffff;stroke-linecap:square;stroke-linejoin:miter;stroke-width:0.8;\"/>\r\n   </g>\r\n   <g id=\"patch_4\">\r\n    <path d=\"M 172.744318 113.627216 \r\nL 172.744318 37.536307 \r\n\" style=\"fill:none;stroke:#ffffff;stroke-linecap:square;stroke-linejoin:miter;stroke-width:0.8;\"/>\r\n   </g>\r\n   <g id=\"patch_5\">\r\n    <path d=\"M 20.5625 113.627216 \r\nL 172.744318 113.627216 \r\n\" style=\"fill:none;stroke:#ffffff;stroke-linecap:square;stroke-linejoin:miter;stroke-width:0.8;\"/>\r\n   </g>\r\n   <g id=\"patch_6\">\r\n    <path d=\"M 20.5625 37.536307 \r\nL 172.744318 37.536307 \r\n\" style=\"fill:none;stroke:#ffffff;stroke-linecap:square;stroke-linejoin:miter;stroke-width:0.8;\"/>\r\n   </g>\r\n   <g id=\"text_7\">\r\n    <!-- a -->\r\n    <defs>\r\n     <path d=\"M 34.28125 27.484375 \r\nQ 23.390625 27.484375 19.1875 25 \r\nQ 14.984375 22.515625 14.984375 16.5 \r\nQ 14.984375 11.71875 18.140625 8.90625 \r\nQ 21.296875 6.109375 26.703125 6.109375 \r\nQ 34.1875 6.109375 38.703125 11.40625 \r\nQ 43.21875 16.703125 43.21875 25.484375 \r\nL 43.21875 27.484375 \r\nz\r\nM 52.203125 31.203125 \r\nL 52.203125 0 \r\nL 43.21875 0 \r\nL 43.21875 8.296875 \r\nQ 40.140625 3.328125 35.546875 0.953125 \r\nQ 30.953125 -1.421875 24.3125 -1.421875 \r\nQ 15.921875 -1.421875 10.953125 3.296875 \r\nQ 6 8.015625 6 15.921875 \r\nQ 6 25.140625 12.171875 29.828125 \r\nQ 18.359375 34.515625 30.609375 34.515625 \r\nL 43.21875 34.515625 \r\nL 43.21875 35.40625 \r\nQ 43.21875 41.609375 39.140625 45 \r\nQ 35.0625 48.390625 27.6875 48.390625 \r\nQ 23 48.390625 18.546875 47.265625 \r\nQ 14.109375 46.140625 10.015625 43.890625 \r\nL 10.015625 52.203125 \r\nQ 14.9375 54.109375 19.578125 55.046875 \r\nQ 24.21875 56 28.609375 56 \r\nQ 40.484375 56 46.34375 49.84375 \r\nQ 52.203125 43.703125 52.203125 31.203125 \r\nz\r\n\" id=\"DejaVuSans-97\"/>\r\n    </defs>\r\n    <g style=\"fill:#ffffff;\" transform=\"translate(92.976534 31.536307)scale(0.12 -0.12)\">\r\n     <use xlink:href=\"#DejaVuSans-97\"/>\r\n    </g>\r\n   </g>\r\n  </g>\r\n  <g id=\"axes_2\">\r\n   <g id=\"patch_7\">\r\n    <path d=\"M 203.180682 128.845398 \r\nL 355.3625 128.845398 \r\nL 355.3625 22.318125 \r\nL 203.180682 22.318125 \r\nz\r\n\"/>\r\n   </g>\r\n   <g clip-path=\"url(#p4ffa383b74)\">\r\n    <image height=\"107\" id=\"imagef8eb013896\" transform=\"scale(1 -1)translate(0 -107)\" width=\"153\" x=\"203.180682\" xlink:href=\"data:image/png;base64,\r\niVBORw0KGgoAAAANSUhEUgAAAJkAAABrCAYAAABkBiCoAAAABHNCSVQICAgIfAhkiAAAAV5JREFUeJzt2sENwjAQAEGHUBLQPNBSWgg9BC1W0Mz/dH6s7uVljLEPCF1mP4D/JzJyIiMnMnIiIycyciIjJzJyIiMnMnIiIycyciIjJzJyIiMnMnIiIycyciIjJzJyIiMnMnIiIycyciIjJzJyIiMnMnIiIycycteZy5+v9+HZdV1PNztz9+N+Ozz7LZeMnMjIiYycyMiJjJzIyImMnMjIiYycyMiJjJzIyImMnMjITf3qs23b4Vlffc7DJSMnMnIiIycyciIjJzJyIiMnMnIiIycyciIjJzJyIiMnMnK++vxwdvbuWVwyciIjJzJyIiMnMnIiIycyciIjJzJyIiMnMnIiIycyciIjt4wx9tmP4L+5ZORERk5k5ERGTmTkREZOZORERk5k5ERGTmTkREZOZORERk5k5ERGTmTkREZOZORERk5k5ERGTmTkREZOZORERk5k5ERGTmTkREbuA67+C8cIXoX2AAAAAElFTkSuQmCC\" y=\"-21.845398\"/>\r\n   </g>\r\n   <g id=\"matplotlib.axis_3\">\r\n    <g id=\"xtick_4\">\r\n     <g id=\"line2d_7\">\r\n      <g>\r\n       <use style=\"fill:#ffffff;stroke:#ffffff;stroke-width:0.8;\" x=\"210.789773\" xlink:href=\"#m56a35731c3\" y=\"128.845398\"/>\r\n      </g>\r\n     </g>\r\n     <g id=\"text_8\">\r\n      <!-- 0 -->\r\n      <g style=\"fill:#ffffff;\" transform=\"translate(207.608523 143.443835)scale(0.1 -0.1)\">\r\n       <use xlink:href=\"#DejaVuSans-48\"/>\r\n      </g>\r\n     </g>\r\n    </g>\r\n    <g id=\"xtick_5\">\r\n     <g id=\"line2d_8\">\r\n      <g>\r\n       <use style=\"fill:#ffffff;stroke:#ffffff;stroke-width:0.8;\" x=\"241.226136\" xlink:href=\"#m56a35731c3\" y=\"128.845398\"/>\r\n      </g>\r\n     </g>\r\n     <g id=\"text_9\">\r\n      <!-- 2 -->\r\n      <g style=\"fill:#ffffff;\" transform=\"translate(238.044886 143.443835)scale(0.1 -0.1)\">\r\n       <use xlink:href=\"#DejaVuSans-50\"/>\r\n      </g>\r\n     </g>\r\n    </g>\r\n    <g id=\"xtick_6\">\r\n     <g id=\"line2d_9\">\r\n      <g>\r\n       <use style=\"fill:#ffffff;stroke:#ffffff;stroke-width:0.8;\" x=\"271.6625\" xlink:href=\"#m56a35731c3\" y=\"128.845398\"/>\r\n      </g>\r\n     </g>\r\n     <g id=\"text_10\">\r\n      <!-- 4 -->\r\n      <g style=\"fill:#ffffff;\" transform=\"translate(268.48125 143.443835)scale(0.1 -0.1)\">\r\n       <use xlink:href=\"#DejaVuSans-52\"/>\r\n      </g>\r\n     </g>\r\n    </g>\r\n    <g id=\"xtick_7\">\r\n     <g id=\"line2d_10\">\r\n      <g>\r\n       <use style=\"fill:#ffffff;stroke:#ffffff;stroke-width:0.8;\" x=\"302.098864\" xlink:href=\"#m56a35731c3\" y=\"128.845398\"/>\r\n      </g>\r\n     </g>\r\n     <g id=\"text_11\">\r\n      <!-- 6 -->\r\n      <defs>\r\n       <path d=\"M 33.015625 40.375 \r\nQ 26.375 40.375 22.484375 35.828125 \r\nQ 18.609375 31.296875 18.609375 23.390625 \r\nQ 18.609375 15.53125 22.484375 10.953125 \r\nQ 26.375 6.390625 33.015625 6.390625 \r\nQ 39.65625 6.390625 43.53125 10.953125 \r\nQ 47.40625 15.53125 47.40625 23.390625 \r\nQ 47.40625 31.296875 43.53125 35.828125 \r\nQ 39.65625 40.375 33.015625 40.375 \r\nz\r\nM 52.59375 71.296875 \r\nL 52.59375 62.3125 \r\nQ 48.875 64.0625 45.09375 64.984375 \r\nQ 41.3125 65.921875 37.59375 65.921875 \r\nQ 27.828125 65.921875 22.671875 59.328125 \r\nQ 17.53125 52.734375 16.796875 39.40625 \r\nQ 19.671875 43.65625 24.015625 45.921875 \r\nQ 28.375 48.1875 33.59375 48.1875 \r\nQ 44.578125 48.1875 50.953125 41.515625 \r\nQ 57.328125 34.859375 57.328125 23.390625 \r\nQ 57.328125 12.15625 50.6875 5.359375 \r\nQ 44.046875 -1.421875 33.015625 -1.421875 \r\nQ 20.359375 -1.421875 13.671875 8.265625 \r\nQ 6.984375 17.96875 6.984375 36.375 \r\nQ 6.984375 53.65625 15.1875 63.9375 \r\nQ 23.390625 74.21875 37.203125 74.21875 \r\nQ 40.921875 74.21875 44.703125 73.484375 \r\nQ 48.484375 72.75 52.59375 71.296875 \r\nz\r\n\" id=\"DejaVuSans-54\"/>\r\n      </defs>\r\n      <g style=\"fill:#ffffff;\" transform=\"translate(298.917614 143.443835)scale(0.1 -0.1)\">\r\n       <use xlink:href=\"#DejaVuSans-54\"/>\r\n      </g>\r\n     </g>\r\n    </g>\r\n    <g id=\"xtick_8\">\r\n     <g id=\"line2d_11\">\r\n      <g>\r\n       <use style=\"fill:#ffffff;stroke:#ffffff;stroke-width:0.8;\" x=\"332.535227\" xlink:href=\"#m56a35731c3\" y=\"128.845398\"/>\r\n      </g>\r\n     </g>\r\n     <g id=\"text_12\">\r\n      <!-- 8 -->\r\n      <defs>\r\n       <path d=\"M 31.78125 34.625 \r\nQ 24.75 34.625 20.71875 30.859375 \r\nQ 16.703125 27.09375 16.703125 20.515625 \r\nQ 16.703125 13.921875 20.71875 10.15625 \r\nQ 24.75 6.390625 31.78125 6.390625 \r\nQ 38.8125 6.390625 42.859375 10.171875 \r\nQ 46.921875 13.96875 46.921875 20.515625 \r\nQ 46.921875 27.09375 42.890625 30.859375 \r\nQ 38.875 34.625 31.78125 34.625 \r\nz\r\nM 21.921875 38.8125 \r\nQ 15.578125 40.375 12.03125 44.71875 \r\nQ 8.5 49.078125 8.5 55.328125 \r\nQ 8.5 64.0625 14.71875 69.140625 \r\nQ 20.953125 74.21875 31.78125 74.21875 \r\nQ 42.671875 74.21875 48.875 69.140625 \r\nQ 55.078125 64.0625 55.078125 55.328125 \r\nQ 55.078125 49.078125 51.53125 44.71875 \r\nQ 48 40.375 41.703125 38.8125 \r\nQ 48.828125 37.15625 52.796875 32.3125 \r\nQ 56.78125 27.484375 56.78125 20.515625 \r\nQ 56.78125 9.90625 50.3125 4.234375 \r\nQ 43.84375 -1.421875 31.78125 -1.421875 \r\nQ 19.734375 -1.421875 13.25 4.234375 \r\nQ 6.78125 9.90625 6.78125 20.515625 \r\nQ 6.78125 27.484375 10.78125 32.3125 \r\nQ 14.796875 37.15625 21.921875 38.8125 \r\nz\r\nM 18.3125 54.390625 \r\nQ 18.3125 48.734375 21.84375 45.5625 \r\nQ 25.390625 42.390625 31.78125 42.390625 \r\nQ 38.140625 42.390625 41.71875 45.5625 \r\nQ 45.3125 48.734375 45.3125 54.390625 \r\nQ 45.3125 60.0625 41.71875 63.234375 \r\nQ 38.140625 66.40625 31.78125 66.40625 \r\nQ 25.390625 66.40625 21.84375 63.234375 \r\nQ 18.3125 60.0625 18.3125 54.390625 \r\nz\r\n\" id=\"DejaVuSans-56\"/>\r\n      </defs>\r\n      <g style=\"fill:#ffffff;\" transform=\"translate(329.353977 143.443835)scale(0.1 -0.1)\">\r\n       <use xlink:href=\"#DejaVuSans-56\"/>\r\n      </g>\r\n     </g>\r\n    </g>\r\n   </g>\r\n   <g id=\"matplotlib.axis_4\">\r\n    <g id=\"ytick_4\">\r\n     <g id=\"line2d_12\">\r\n      <g>\r\n       <use style=\"fill:#ffffff;stroke:#ffffff;stroke-width:0.8;\" x=\"203.180682\" xlink:href=\"#m55a9f13250\" y=\"29.927216\"/>\r\n      </g>\r\n     </g>\r\n     <g id=\"text_13\">\r\n      <!-- 0 -->\r\n      <g style=\"fill:#ffffff;\" transform=\"translate(189.818182 33.726435)scale(0.1 -0.1)\">\r\n       <use xlink:href=\"#DejaVuSans-48\"/>\r\n      </g>\r\n     </g>\r\n    </g>\r\n    <g id=\"ytick_5\">\r\n     <g id=\"line2d_13\">\r\n      <g>\r\n       <use style=\"fill:#ffffff;stroke:#ffffff;stroke-width:0.8;\" x=\"203.180682\" xlink:href=\"#m55a9f13250\" y=\"60.36358\"/>\r\n      </g>\r\n     </g>\r\n     <g id=\"text_14\">\r\n      <!-- 2 -->\r\n      <g style=\"fill:#ffffff;\" transform=\"translate(189.818182 64.162798)scale(0.1 -0.1)\">\r\n       <use xlink:href=\"#DejaVuSans-50\"/>\r\n      </g>\r\n     </g>\r\n    </g>\r\n    <g id=\"ytick_6\">\r\n     <g id=\"line2d_14\">\r\n      <g>\r\n       <use style=\"fill:#ffffff;stroke:#ffffff;stroke-width:0.8;\" x=\"203.180682\" xlink:href=\"#m55a9f13250\" y=\"90.799943\"/>\r\n      </g>\r\n     </g>\r\n     <g id=\"text_15\">\r\n      <!-- 4 -->\r\n      <g style=\"fill:#ffffff;\" transform=\"translate(189.818182 94.599162)scale(0.1 -0.1)\">\r\n       <use xlink:href=\"#DejaVuSans-52\"/>\r\n      </g>\r\n     </g>\r\n    </g>\r\n    <g id=\"ytick_7\">\r\n     <g id=\"line2d_15\">\r\n      <g>\r\n       <use style=\"fill:#ffffff;stroke:#ffffff;stroke-width:0.8;\" x=\"203.180682\" xlink:href=\"#m55a9f13250\" y=\"121.236307\"/>\r\n      </g>\r\n     </g>\r\n     <g id=\"text_16\">\r\n      <!-- 6 -->\r\n      <g style=\"fill:#ffffff;\" transform=\"translate(189.818182 125.035526)scale(0.1 -0.1)\">\r\n       <use xlink:href=\"#DejaVuSans-54\"/>\r\n      </g>\r\n     </g>\r\n    </g>\r\n   </g>\r\n   <g id=\"patch_8\">\r\n    <path d=\"M 203.180682 128.845398 \r\nL 203.180682 22.318125 \r\n\" style=\"fill:none;stroke:#ffffff;stroke-linecap:square;stroke-linejoin:miter;stroke-width:0.8;\"/>\r\n   </g>\r\n   <g id=\"patch_9\">\r\n    <path d=\"M 355.3625 128.845398 \r\nL 355.3625 22.318125 \r\n\" style=\"fill:none;stroke:#ffffff;stroke-linecap:square;stroke-linejoin:miter;stroke-width:0.8;\"/>\r\n   </g>\r\n   <g id=\"patch_10\">\r\n    <path d=\"M 203.180682 128.845398 \r\nL 355.3625 128.845398 \r\n\" style=\"fill:none;stroke:#ffffff;stroke-linecap:square;stroke-linejoin:miter;stroke-width:0.8;\"/>\r\n   </g>\r\n   <g id=\"patch_11\">\r\n    <path d=\"M 203.180682 22.318125 \r\nL 355.3625 22.318125 \r\n\" style=\"fill:none;stroke:#ffffff;stroke-linecap:square;stroke-linejoin:miter;stroke-width:0.8;\"/>\r\n   </g>\r\n   <g id=\"text_17\">\r\n    <!-- a_padding -->\r\n    <defs>\r\n     <path d=\"M 50.984375 -16.609375 \r\nL 50.984375 -23.578125 \r\nL -0.984375 -23.578125 \r\nL -0.984375 -16.609375 \r\nz\r\n\" id=\"DejaVuSans-95\"/>\r\n     <path d=\"M 18.109375 8.203125 \r\nL 18.109375 -20.796875 \r\nL 9.078125 -20.796875 \r\nL 9.078125 54.6875 \r\nL 18.109375 54.6875 \r\nL 18.109375 46.390625 \r\nQ 20.953125 51.265625 25.265625 53.625 \r\nQ 29.59375 56 35.59375 56 \r\nQ 45.5625 56 51.78125 48.09375 \r\nQ 58.015625 40.1875 58.015625 27.296875 \r\nQ 58.015625 14.40625 51.78125 6.484375 \r\nQ 45.5625 -1.421875 35.59375 -1.421875 \r\nQ 29.59375 -1.421875 25.265625 0.953125 \r\nQ 20.953125 3.328125 18.109375 8.203125 \r\nz\r\nM 48.6875 27.296875 \r\nQ 48.6875 37.203125 44.609375 42.84375 \r\nQ 40.53125 48.484375 33.40625 48.484375 \r\nQ 26.265625 48.484375 22.1875 42.84375 \r\nQ 18.109375 37.203125 18.109375 27.296875 \r\nQ 18.109375 17.390625 22.1875 11.75 \r\nQ 26.265625 6.109375 33.40625 6.109375 \r\nQ 40.53125 6.109375 44.609375 11.75 \r\nQ 48.6875 17.390625 48.6875 27.296875 \r\nz\r\n\" id=\"DejaVuSans-112\"/>\r\n     <path d=\"M 45.40625 46.390625 \r\nL 45.40625 75.984375 \r\nL 54.390625 75.984375 \r\nL 54.390625 0 \r\nL 45.40625 0 \r\nL 45.40625 8.203125 \r\nQ 42.578125 3.328125 38.25 0.953125 \r\nQ 33.9375 -1.421875 27.875 -1.421875 \r\nQ 17.96875 -1.421875 11.734375 6.484375 \r\nQ 5.515625 14.40625 5.515625 27.296875 \r\nQ 5.515625 40.1875 11.734375 48.09375 \r\nQ 17.96875 56 27.875 56 \r\nQ 33.9375 56 38.25 53.625 \r\nQ 42.578125 51.265625 45.40625 46.390625 \r\nz\r\nM 14.796875 27.296875 \r\nQ 14.796875 17.390625 18.875 11.75 \r\nQ 22.953125 6.109375 30.078125 6.109375 \r\nQ 37.203125 6.109375 41.296875 11.75 \r\nQ 45.40625 17.390625 45.40625 27.296875 \r\nQ 45.40625 37.203125 41.296875 42.84375 \r\nQ 37.203125 48.484375 30.078125 48.484375 \r\nQ 22.953125 48.484375 18.875 42.84375 \r\nQ 14.796875 37.203125 14.796875 27.296875 \r\nz\r\n\" id=\"DejaVuSans-100\"/>\r\n     <path d=\"M 9.421875 54.6875 \r\nL 18.40625 54.6875 \r\nL 18.40625 0 \r\nL 9.421875 0 \r\nz\r\nM 9.421875 75.984375 \r\nL 18.40625 75.984375 \r\nL 18.40625 64.59375 \r\nL 9.421875 64.59375 \r\nz\r\n\" id=\"DejaVuSans-105\"/>\r\n     <path d=\"M 54.890625 33.015625 \r\nL 54.890625 0 \r\nL 45.90625 0 \r\nL 45.90625 32.71875 \r\nQ 45.90625 40.484375 42.875 44.328125 \r\nQ 39.84375 48.1875 33.796875 48.1875 \r\nQ 26.515625 48.1875 22.3125 43.546875 \r\nQ 18.109375 38.921875 18.109375 30.90625 \r\nL 18.109375 0 \r\nL 9.078125 0 \r\nL 9.078125 54.6875 \r\nL 18.109375 54.6875 \r\nL 18.109375 46.1875 \r\nQ 21.34375 51.125 25.703125 53.5625 \r\nQ 30.078125 56 35.796875 56 \r\nQ 45.21875 56 50.046875 50.171875 \r\nQ 54.890625 44.34375 54.890625 33.015625 \r\nz\r\n\" id=\"DejaVuSans-110\"/>\r\n     <path d=\"M 45.40625 27.984375 \r\nQ 45.40625 37.75 41.375 43.109375 \r\nQ 37.359375 48.484375 30.078125 48.484375 \r\nQ 22.859375 48.484375 18.828125 43.109375 \r\nQ 14.796875 37.75 14.796875 27.984375 \r\nQ 14.796875 18.265625 18.828125 12.890625 \r\nQ 22.859375 7.515625 30.078125 7.515625 \r\nQ 37.359375 7.515625 41.375 12.890625 \r\nQ 45.40625 18.265625 45.40625 27.984375 \r\nz\r\nM 54.390625 6.78125 \r\nQ 54.390625 -7.171875 48.1875 -13.984375 \r\nQ 42 -20.796875 29.203125 -20.796875 \r\nQ 24.46875 -20.796875 20.265625 -20.09375 \r\nQ 16.0625 -19.390625 12.109375 -17.921875 \r\nL 12.109375 -9.1875 \r\nQ 16.0625 -11.328125 19.921875 -12.34375 \r\nQ 23.78125 -13.375 27.78125 -13.375 \r\nQ 36.625 -13.375 41.015625 -8.765625 \r\nQ 45.40625 -4.15625 45.40625 5.171875 \r\nL 45.40625 9.625 \r\nQ 42.625 4.78125 38.28125 2.390625 \r\nQ 33.9375 0 27.875 0 \r\nQ 17.828125 0 11.671875 7.65625 \r\nQ 5.515625 15.328125 5.515625 27.984375 \r\nQ 5.515625 40.671875 11.671875 48.328125 \r\nQ 17.828125 56 27.875 56 \r\nQ 33.9375 56 38.28125 53.609375 \r\nQ 42.625 51.21875 45.40625 46.390625 \r\nL 45.40625 54.6875 \r\nL 54.390625 54.6875 \r\nz\r\n\" id=\"DejaVuSans-103\"/>\r\n    </defs>\r\n    <g style=\"fill:#ffffff;\" transform=\"translate(248.212216 16.318125)scale(0.12 -0.12)\">\r\n     <use xlink:href=\"#DejaVuSans-97\"/>\r\n     <use x=\"61.279297\" xlink:href=\"#DejaVuSans-95\"/>\r\n     <use x=\"111.279297\" xlink:href=\"#DejaVuSans-112\"/>\r\n     <use x=\"174.755859\" xlink:href=\"#DejaVuSans-97\"/>\r\n     <use x=\"236.035156\" xlink:href=\"#DejaVuSans-100\"/>\r\n     <use x=\"299.511719\" xlink:href=\"#DejaVuSans-100\"/>\r\n     <use x=\"362.988281\" xlink:href=\"#DejaVuSans-105\"/>\r\n     <use x=\"390.771484\" xlink:href=\"#DejaVuSans-110\"/>\r\n     <use x=\"454.150391\" xlink:href=\"#DejaVuSans-103\"/>\r\n    </g>\r\n   </g>\r\n  </g>\r\n </g>\r\n <defs>\r\n  <clipPath id=\"pdd2a731a4e\">\r\n   <rect height=\"76.090909\" width=\"152.181818\" x=\"20.5625\" y=\"37.536307\"/>\r\n  </clipPath>\r\n  <clipPath id=\"p4ffa383b74\">\r\n   <rect height=\"106.527273\" width=\"152.181818\" x=\"203.180682\" y=\"22.318125\"/>\r\n  </clipPath>\r\n </defs>\r\n</svg>\r\n",
      "text/plain": "<Figure size 432x288 with 2 Axes>"
     },
     "metadata": {},
     "output_type": "display_data"
    }
   ],
   "source": [
    "plt.subplot(1, 2, 1)\n",
    "plt.title('a')\n",
    "plt.imshow(a[0])\n",
    "plt.subplot(1, 2, 2)\n",
    "plt.title('a_padding')\n",
    "plt.imshow(a_padding[0])"
   ]
  },
  {
   "cell_type": "code",
   "execution_count": 10,
   "metadata": {},
   "outputs": [],
   "source": [
    "def conv_one_step(x, W, b):\n",
    "    \n",
    "    '''\n",
    "    x - part of X: shape(m, f, f, c)\n",
    "    W - weights of filter: shape(f, f, c)\n",
    "    b - bias of filter: shape(1, 1, 1)\n",
    "    return shape(m,)\n",
    "    '''\n",
    "\n",
    "    z = np.sum(x * W, axis=(1,2,3)) + b  # shape(m,)\n",
    "    \n",
    "    return z"
   ]
  },
  {
   "cell_type": "code",
   "execution_count": 18,
   "metadata": {},
   "outputs": [],
   "source": [
    "def conv_prop(X, W, b, p=0, s=1):\n",
    "\n",
    "    '''\n",
    "    X - input, (m_samples, height, width, channels)\n",
    "    W - weights of filters, (f, f, channels, n_filters)\n",
    "    b - bias of filters, (1,1,1,n_filters)\n",
    "    p - pad\n",
    "    s - stride\n",
    "    '''\n",
    "\n",
    "    m, h, w, c = X.shape\n",
    "    f = W.shape[0]\n",
    "    n = W.shape[3]\n",
    "    h_new = (h + 2*p - f) // s + 1\n",
    "    w_new = (w + 2*p - f) // s + 1\n",
    "    c_new = n\n",
    "    Z = np.zeros((m, h_new, w_new, c_new))\n",
    "    X_padding = padding(X, p)\n",
    "\n",
    "    for l in range(c_new):\n",
    "        for i in range(h_new):\n",
    "            for j in range(w_new):\n",
    "                x_step = X_padding[:, (s*i):(s*i+f), (s*j):(s*j+f), :]  # shape(m,f,f,c)\n",
    "                W_step = W[:, :, :, l]  # shape(f,f,c)\n",
    "                b_step = b[:, :, :, l]  # shape(1,1,1)\n",
    "                Z[:, i, j, l] = conv_one_step(x_step, W_step, b_step)  # shape(m,)\n",
    "    \n",
    "    cache = (X, W, b, p, s)\n",
    "    return Z, cache\n"
   ]
  },
  {
   "cell_type": "code",
   "execution_count": 20,
   "metadata": {},
   "outputs": [
    {
     "name": "stdout",
     "output_type": "stream",
     "text": "Z: (2, 3, 3, 6)\n[[[[57. 57. 57. 57. 57. 57.]\n   [57. 57. 57. 57. 57. 57.]\n   [57. 57. 57. 57. 57. 57.]]\n\n  [[57. 57. 57. 57. 57. 57.]\n   [57. 57. 57. 57. 57. 57.]\n   [57. 57. 57. 57. 57. 57.]]\n\n  [[57. 57. 57. 57. 57. 57.]\n   [57. 57. 57. 57. 57. 57.]\n   [57. 57. 57. 57. 57. 57.]]]\n\n\n [[[57. 57. 57. 57. 57. 57.]\n   [57. 57. 57. 57. 57. 57.]\n   [57. 57. 57. 57. 57. 57.]]\n\n  [[57. 57. 57. 57. 57. 57.]\n   [57. 57. 57. 57. 57. 57.]\n   [57. 57. 57. 57. 57. 57.]]\n\n  [[57. 57. 57. 57. 57. 57.]\n   [57. 57. 57. 57. 57. 57.]\n   [57. 57. 57. 57. 57. 57.]]]]\n"
    }
   ],
   "source": [
    "# 测试\n",
    "X = np.ones((2,5,5,3))\n",
    "W = np.ones((3,3,3,6)) * 2\n",
    "b = np.ones((1,1,1,6)) * 3\n",
    "Z, _ = conv_prop(X, W, b)  # ones((2,3,3,6)) * 57\n",
    "print(f'Z: {Z.shape}\\n{Z}')"
   ]
  },
  {
   "cell_type": "code",
   "execution_count": 22,
   "metadata": {},
   "outputs": [
    {
     "name": "stdout",
     "output_type": "stream",
     "text": "Z: (2, 5, 5, 6)\n[[[[27. 27. 27. 27. 27. 27.]\n   [39. 39. 39. 39. 39. 39.]\n   [39. 39. 39. 39. 39. 39.]\n   [39. 39. 39. 39. 39. 39.]\n   [27. 27. 27. 27. 27. 27.]]\n\n  [[39. 39. 39. 39. 39. 39.]\n   [57. 57. 57. 57. 57. 57.]\n   [57. 57. 57. 57. 57. 57.]\n   [57. 57. 57. 57. 57. 57.]\n   [39. 39. 39. 39. 39. 39.]]\n\n  [[39. 39. 39. 39. 39. 39.]\n   [57. 57. 57. 57. 57. 57.]\n   [57. 57. 57. 57. 57. 57.]\n   [57. 57. 57. 57. 57. 57.]\n   [39. 39. 39. 39. 39. 39.]]\n\n  [[39. 39. 39. 39. 39. 39.]\n   [57. 57. 57. 57. 57. 57.]\n   [57. 57. 57. 57. 57. 57.]\n   [57. 57. 57. 57. 57. 57.]\n   [39. 39. 39. 39. 39. 39.]]\n\n  [[27. 27. 27. 27. 27. 27.]\n   [39. 39. 39. 39. 39. 39.]\n   [39. 39. 39. 39. 39. 39.]\n   [39. 39. 39. 39. 39. 39.]\n   [27. 27. 27. 27. 27. 27.]]]\n\n\n [[[27. 27. 27. 27. 27. 27.]\n   [39. 39. 39. 39. 39. 39.]\n   [39. 39. 39. 39. 39. 39.]\n   [39. 39. 39. 39. 39. 39.]\n   [27. 27. 27. 27. 27. 27.]]\n\n  [[39. 39. 39. 39. 39. 39.]\n   [57. 57. 57. 57. 57. 57.]\n   [57. 57. 57. 57. 57. 57.]\n   [57. 57. 57. 57. 57. 57.]\n   [39. 39. 39. 39. 39. 39.]]\n\n  [[39. 39. 39. 39. 39. 39.]\n   [57. 57. 57. 57. 57. 57.]\n   [57. 57. 57. 57. 57. 57.]\n   [57. 57. 57. 57. 57. 57.]\n   [39. 39. 39. 39. 39. 39.]]\n\n  [[39. 39. 39. 39. 39. 39.]\n   [57. 57. 57. 57. 57. 57.]\n   [57. 57. 57. 57. 57. 57.]\n   [57. 57. 57. 57. 57. 57.]\n   [39. 39. 39. 39. 39. 39.]]\n\n  [[27. 27. 27. 27. 27. 27.]\n   [39. 39. 39. 39. 39. 39.]\n   [39. 39. 39. 39. 39. 39.]\n   [39. 39. 39. 39. 39. 39.]\n   [27. 27. 27. 27. 27. 27.]]]]\n"
    }
   ],
   "source": [
    "# 加上pad测试same convolution\n",
    "X = np.ones((2,5,5,3))\n",
    "W = np.ones((3,3,3,6)) * 2\n",
    "b = np.ones((1,1,1,6)) * 3\n",
    "Z, _ = conv_prop(X, W, b, p=1)  # ones((2,5,5,6)) mid=57\n",
    "print(f'Z: {Z.shape}\\n{Z}')"
   ]
  },
  {
   "cell_type": "code",
   "execution_count": 23,
   "metadata": {},
   "outputs": [],
   "source": [
    "def pool_prop(X, f, mode='max', p=0, s=1):\n",
    "\n",
    "    '''\n",
    "    X - input, (m_samples, height, width, channels)\n",
    "    f - size of pool(f, f)\n",
    "    mode - str, 'max' or 'average' pooling\n",
    "    p - pad\n",
    "    s - stride\n",
    "    '''\n",
    "\n",
    "    m, h, w, c = X.shape\n",
    "    h_new = (h + 2*p - f) // s + 1\n",
    "    w_new = (w + 2*p - f) // s + 1\n",
    "    c_new = c\n",
    "    Z = np.zeros((m, h_new, w_new, c_new))\n",
    "    X_padding = padding(X, p)\n",
    "\n",
    "    for l in range(c_new):\n",
    "        for i in range(h_new):\n",
    "            for j in range(w_new):\n",
    "                x_step = X_padding[:, (s*i):(s*i+f), (s*j):(s*j+f), l]  # shape(m,f,f)\n",
    "                if mode == 'max':\n",
    "                    Z[:, i, j, l] = np.max(x_step, axis=(1,2))  # shape(m,)\n",
    "                elif mode == 'average':\n",
    "                    Z[:, i, j, l] = np.mean(x_step, axis=(1,2))  # shape(m,)\n",
    "    \n",
    "    cache = (X, f, p, s)\n",
    "    return Z, cache\n"
   ]
  },
  {
   "cell_type": "code",
   "execution_count": 24,
   "metadata": {},
   "outputs": [
    {
     "name": "stdout",
     "output_type": "stream",
     "text": "Z: (2, 3, 2, 3)\n[[[[12. 13. 14.]\n   [15. 16. 17.]]\n\n  [[21. 22. 23.]\n   [24. 25. 26.]]\n\n  [[30. 31. 32.]\n   [33. 34. 35.]]]\n\n\n [[[48. 49. 50.]\n   [51. 52. 53.]]\n\n  [[57. 58. 59.]\n   [60. 61. 62.]]\n\n  [[66. 67. 68.]\n   [69. 70. 71.]]]]\n"
    }
   ],
   "source": [
    "# 测试\n",
    "a = np.arange(72).reshape((2,4,3,3))\n",
    "f = 2\n",
    "Z, _ = pool_prop(a, f)  # (2,3,2,3)\n",
    "print(f'Z: {Z.shape}\\n{Z}')"
   ]
  },
  {
   "cell_type": "code",
   "execution_count": 26,
   "metadata": {},
   "outputs": [
    {
     "name": "stdout",
     "output_type": "stream",
     "text": "Z: (2, 4, 3, 3)\n[[[[ 2.66666667  3.11111111  3.55555556]\n   [ 5.          5.66666667  6.33333333]\n   [ 4.          4.44444444  4.88888889]]\n\n  [[ 7.          7.66666667  8.33333333]\n   [12.         13.         14.        ]\n   [ 9.          9.66666667 10.33333333]]\n\n  [[13.         13.66666667 14.33333333]\n   [21.         22.         23.        ]\n   [15.         15.66666667 16.33333333]]\n\n  [[10.66666667 11.11111111 11.55555556]\n   [17.         17.66666667 18.33333333]\n   [12.         12.44444444 12.88888889]]]\n\n\n [[[18.66666667 19.11111111 19.55555556]\n   [29.         29.66666667 30.33333333]\n   [20.         20.44444444 20.88888889]]\n\n  [[31.         31.66666667 32.33333333]\n   [48.         49.         50.        ]\n   [33.         33.66666667 34.33333333]]\n\n  [[37.         37.66666667 38.33333333]\n   [57.         58.         59.        ]\n   [39.         39.66666667 40.33333333]]\n\n  [[26.66666667 27.11111111 27.55555556]\n   [41.         41.66666667 42.33333333]\n   [28.         28.44444444 28.88888889]]]]\n"
    }
   ],
   "source": [
    "# 试试same average pooling\n",
    "a = np.arange(72).reshape((2,4,3,3))\n",
    "f = 3\n",
    "Z, _ = pool_prop(a, f, mode='average', p=1)  # (2,4,3,3)\n",
    "print(f'Z: {Z.shape}\\n{Z}')"
   ]
  },
  {
   "cell_type": "markdown",
   "execution_count": null,
   "metadata": {},
   "outputs": [],
   "source": [
    "### 以上实现了padding，convolution，pooling"
   ]
  },
  {
   "cell_type": "code",
   "execution_count": null,
   "metadata": {},
   "outputs": [],
   "source": []
  },
  {
   "cell_type": "code",
   "execution_count": null,
   "metadata": {},
   "outputs": [],
   "source": []
  },
  {
   "cell_type": "code",
   "execution_count": null,
   "metadata": {},
   "outputs": [],
   "source": []
  },
  {
   "cell_type": "code",
   "execution_count": null,
   "metadata": {},
   "outputs": [],
   "source": []
  },
  {
   "cell_type": "code",
   "execution_count": null,
   "metadata": {},
   "outputs": [],
   "source": []
  }
 ]
}